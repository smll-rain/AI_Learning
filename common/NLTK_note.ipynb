{
 "cells": [
  {
   "cell_type": "code",
   "execution_count": 20,
   "metadata": {},
   "outputs": [
    {
     "name": "stdout",
     "output_type": "stream",
     "text": [
      "<!DOCTYPE html>\r\n",
      "<!--STATUS OK--><html> <head><meta http-equiv=content-type content=text/html;charset=utf-8><meta http-equiv=X-UA-Compatible content=IE=Edge><meta content=always name=referrer><link rel=stylesheet type=text/css href=https://ss1.bdstatic.com/5eN1bjq8AAUYm2zgoY3K/r/www/cache/bdorz/baidu.min.css><title>ç¾åº¦ä¸ä¸ï¼ä½ å°±ç¥é</title></head> <body link=#0000cc> <div id=wrapper> <div id=head> <div class=head_wrapper> <div class=s_form> <div class=s_form_wrapper> <div id=lg> <img hidefocus=true src=//www.baidu.com/img/bd_logo1.png width=270 height=129> </div> <form id=form name=f action=//www.baidu.com/s class=fm> <input type=hidden name=bdorz_come value=1> <input type=hidden name=ie value=utf-8> <input type=hidden name=f value=8> <input type=hidden name=rsv_bp value=1> <input type=hidden name=rsv_idx value=1> <input type=hidden name=tn value=baidu><span class=\"bg s_ipt_wr\"><input id=kw name=wd class=s_ipt value maxlength=255 autocomplete=off autofocus=autofocus></span><span class=\"bg s_btn_wr\"><input type=submit id=su value=ç¾åº¦ä¸ä¸ class=\"bg s_btn\" autofocus></span> </form> </div> </div> <div id=u1> <a href=http://news.baidu.com name=tj_trnews class=mnav>æ°é»</a> <a href=https://www.hao123.com name=tj_trhao123 class=mnav>hao123</a> <a href=http://map.baidu.com name=tj_trmap class=mnav>å°å¾</a> <a href=http://v.baidu.com name=tj_trvideo class=mnav>è§é¢</a> <a href=http://tieba.baidu.com name=tj_trtieba class=mnav>è´´å§</a> <noscript> <a href=http://www.baidu.com/bdorz/login.gif?login&amp;tpl=mn&amp;u=http%3A%2F%2Fwww.baidu.com%2f%3fbdorz_come%3d1 name=tj_login class=lb>ç»å½</a> </noscript> <script>document.write('<a href=\"http://www.baidu.com/bdorz/login.gif?login&tpl=mn&u='+ encodeURIComponent(window.location.href+ (window.location.search === \"\" ? \"?\" : \"&\")+ \"bdorz_come=1\")+ '\" name=\"tj_login\" class=\"lb\">ç»å½</a>');\r\n",
      "                </script> <a href=//www.baidu.com/more/ name=tj_briicon class=bri style=\"display: block;\">æ´å¤äº§å</a> </div> </div> </div> <div id=ftCon> <div id=ftConw> <p id=lh> <a href=http://home.baidu.com>å",
      "³äºç¾åº¦</a> <a href=http://ir.baidu.com>About Baidu</a> </p> <p id=cp>&copy;2017&nbsp;Baidu&nbsp;<a href=http://www.baidu.com/duty/>ä½¿ç¨ç¾åº¦åå¿",
      "è¯»</a>&nbsp; <a href=http://jianyi.baidu.com/ class=cp-feedback>æè§åé¦</a>&nbsp;äº¬ICPè¯030173å·&nbsp; <img src=//www.baidu.com/img/gs.gif> </p> </div> </div> </div> </body> </html>\r\n",
      "\n"
     ]
    }
   ],
   "source": [
    "# 文本加载\n",
    "import requests\n",
    "doc = requests.get('https://www.baidu.com')\n",
    "print(doc.text)"
   ]
  },
  {
   "cell_type": "code",
   "execution_count": 21,
   "metadata": {},
   "outputs": [
    {
     "name": "stdout",
     "output_type": "stream",
     "text": [
      " 百度一下，你就知道                     新闻 hao123 地图 视频 贴吧  登录  document.write('<a href=\"http://www.baidu.com/bdorz/login.gif?login&tpl=mn&u='+ encodeURIComponent(window.location.href+ (window.location.search === \"\" ? \"?\" : \"&\")+ \"bdorz_come=1\")+ '\" name=\"tj_login\" class=\"lb\">登录</a>');\r\n",
      "                 更多产品       关于百度 About Baidu  ©2017 Baidu 使用百度前必读  意见反馈 京ICP证030173号        \n",
      "\n"
     ]
    }
   ],
   "source": [
    "# 提取网页内容\n",
    "from bs4 import BeautifulSoup\n",
    "cleaned_doc = BeautifulSoup(doc.content,\"lxml\").get_text()\n",
    "print(cleaned_doc)"
   ]
  },
  {
   "cell_type": "code",
   "execution_count": 22,
   "metadata": {},
   "outputs": [
    {
     "name": "stdout",
     "output_type": "stream",
     "text": [
      " 百度一下你就知道                     新闻 hao123 地图 视频 贴吧  登录  document.write('<a href=\"http://www.baidu.com/bdorz/login.gif?login&tpl=mn&u='+ encodeURIComponent(window.location.href+ (window.location.search === \"\" ? \"?\" : \"&\")+ \"bdorz_come=1\")+ '\" name=\"tj_login\" class=\"lb\">登录</a>');\r\n",
      "                 更多产品       关于百度 About Baidu  ©2017 Baidu 使用百度前必读  意见反馈 京ICP证030173号        \n",
      "\n"
     ]
    }
   ],
   "source": [
    "# 去除中文标点符号\n",
    "from zhon.hanzi import punctuation\n",
    "import re\n",
    "pattern = re.compile('[{}]'.format(punctuation))\n",
    "cleaned_symbol_doc = re.sub(pattern, '', cleaned_doc)\n",
    "print(cleaned_symbol_doc)"
   ]
  },
  {
   "cell_type": "code",
   "execution_count": 23,
   "metadata": {},
   "outputs": [
    {
     "name": "stdout",
     "output_type": "stream",
     "text": [
      "['百度一下你就知道', '新闻', 'hao123', '地图', '视频', '贴吧', '登录', 'document.write', '(', \"'\", '<', 'a', 'href=', \"''\", 'http', ':', '//www.baidu.com/bdorz/login.gif', '?', 'login', '&', 'tpl=mn', '&', \"u='+\", 'encodeURIComponent', '(', 'window.location.href+', '(', 'window.location.search', '===', '``', \"''\", '?', '``', '?', \"''\", ':', '``', '&', \"''\", ')', '+', '``', 'bdorz_come=1', \"''\", ')', '+', \"'\", \"''\", 'name=', \"''\", 'tj_login', \"''\", 'class=', \"''\", 'lb', \"''\", '>', '登录', '<', '/a', '>', \"'\", ')', ';', '更多产品', '关于百度', 'About', 'Baidu', '©2017', 'Baidu', '使用百度前必读', '意见反馈', '京ICP证030173号']\n"
     ]
    }
   ],
   "source": [
    "# nltk分词, nltk主要是针对英文分词，对中文支持不佳\n",
    "import nltk\n",
    "tokens_nltk = nltk.word_tokenize(cleaned_symbol_doc)\n",
    "print(tokens_nltk)"
   ]
  },
  {
   "cell_type": "code",
   "execution_count": 25,
   "metadata": {},
   "outputs": [
    {
     "name": "stdout",
     "output_type": "stream",
     "text": [
      "['百度', '一下', '你', '就', '知道', '新闻', 'hao123', '地图', '视频', '贴', '吧', '登录', 'document', '.', 'write', '(', \"'\", '<', 'a', 'href', '=', '\"', 'http', ':', '/', '/', 'www', '.', 'baidu', '.', 'com', '/', 'bdorz', '/', 'login', '.', 'gif', '?', 'login', '&', 'tpl', '=', 'mn', '&', 'u', '=', \"'\", '+', 'encodeURIComponent', '(', 'window', '.', 'location', '.', 'href', '+', '(', 'window', '.', 'location', '.', 'search', '=', '=', '=', '\"', '\"', '?', '\"', '?', '\"', ':', '\"', '&', '\"', ')', '+', '\"', 'bdorz', '_', 'come', '=', '1', '\"', ')', '+', \"'\", '\"', 'name', '=', '\"', 'tj', '_', 'login', '\"', 'class', '=', '\"', 'lb', '\"', '>', '登录', '<', '/', 'a', '>', \"'\", ')', ';', '更', '多', '产品', '关于', '百度', 'About', 'Baidu', '©', '2017', 'Baidu', '使用', '百度', '前', '必读', '意见反馈', '京', 'ICP', '证', '030173', '号']\n"
     ]
    }
   ],
   "source": [
    "# jieba分词\n",
    "import jieba\n",
    "tokens_jieba = [word for word in list(jieba.cut(cleaned_symbol_doc)) if word.strip()]\n",
    "print(tokens_jieba)"
   ]
  },
  {
   "cell_type": "code",
   "execution_count": 26,
   "metadata": {},
   "outputs": [
    {
     "name": "stdout",
     "output_type": "stream",
     "text": [
      "['!', '\"', '#', '$', '%']\n",
      "['百度', '新闻', 'hao123', '地图', '视频', '贴', '登录', 'document', 'write', 'a', 'href', 'http', 'www', 'baidu', 'com', 'bdorz', 'login', 'gif', 'login', 'tpl', 'mn', 'u', 'encodeURIComponent', 'window', 'location', 'href', 'window', 'location', 'search', 'bdorz', 'come', 'name', 'tj', 'login', 'class', 'lb', '登录', 'a', '产品', '百度', 'About', 'Baidu', '©', '2017', 'Baidu', '百度', '前', '必读', '意见反馈', '京', 'ICP', '证', '030173', '号']\n"
     ]
    }
   ],
   "source": [
    "# 去除停用词，自备中文停用词库\n",
    "stopwords_list =[]\n",
    "with open('./stopwords1893.txt', 'r', encoding='utf-8') as f:\n",
    "    while True:\n",
    "        line = f.readline()\n",
    "        if not line:\n",
    "            break\n",
    "        stopwords_list.append(line.replace('\\n', ''))\n",
    "print(stopwords_list[:5])\n",
    "\n",
    "tokens_jieba_stop =  [token for token in tokens_jieba if token not in stopwords_list]\n",
    "print(tokens_jieba_stop)"
   ]
  },
  {
   "cell_type": "code",
   "execution_count": 30,
   "metadata": {},
   "outputs": [
    {
     "name": "stdout",
     "output_type": "stream",
     "text": [
      "词频统计项: \n",
      " dict_items([('百度', 3), ('新闻', 1), ('hao123', 1), ('地图', 1), ('视频', 1), ('贴', 1), ('登录', 2), ('document', 1), ('write', 1), ('a', 2), ('href', 2), ('http', 1), ('www', 1), ('baidu', 1), ('com', 1), ('bdorz', 2), ('login', 3), ('gif', 1), ('tpl', 1), ('mn', 1), ('u', 1), ('encodeURIComponent', 1), ('window', 2), ('location', 2), ('search', 1), ('come', 1), ('name', 1), ('tj', 1), ('class', 1), ('lb', 1), ('产品', 1), ('About', 1), ('Baidu', 2), ('©', 1), ('2017', 1), ('前', 1), ('必读', 1), ('意见反馈', 1), ('京', 1), ('ICP', 1), ('证', 1), ('030173', 1), ('号', 1)])\n",
      "词频排序: \n",
      " [('百度', 3), ('login', 3), ('登录', 2), ('a', 2), ('href', 2), ('bdorz', 2), ('window', 2), ('location', 2), ('Baidu', 2), ('新闻', 1), ('hao123', 1), ('地图', 1), ('视频', 1), ('贴', 1), ('document', 1), ('write', 1), ('http', 1), ('www', 1), ('baidu', 1), ('com', 1), ('gif', 1), ('tpl', 1), ('mn', 1), ('u', 1), ('encodeURIComponent', 1), ('search', 1), ('come', 1), ('name', 1), ('tj', 1), ('class', 1), ('lb', 1), ('产品', 1), ('About', 1), ('©', 1), ('2017', 1), ('前', 1), ('必读', 1), ('意见反馈', 1), ('京', 1), ('ICP', 1), ('证', 1), ('030173', 1), ('号', 1)]\n"
     ]
    }
   ],
   "source": [
    "# 计算词频\n",
    "freq_dict = nltk.FreqDist(tokens_jieba_stop)\n",
    "print('词频统计项:', '\\n', freq_dict.items())\n",
    "print('词频排序:', '\\n', sorted([(k,v)for k, v in freq_dict.items()], key=lambda x:x[1], reverse=True))"
   ]
  },
  {
   "cell_type": "code",
   "execution_count": 31,
   "metadata": {},
   "outputs": [
    {
     "data": {
      "image/png": "[encoded data removed]",
      "text/plain": [
       "<Figure size 432x288 with 1 Axes>"
      ]
     },
     "metadata": {
      "needs_background": "light"
     },
     "output_type": "display_data"
    }
   ],
   "source": [
    "# 词频可视化\n",
    "# 图像中文显示设置\n",
    "import matplotlib.pyplot as plt\n",
    "plt.rcParams['font.family'] = ['sans-serif']\n",
    "plt.rcParams['font.sans-serif'] = ['SimHei']\n",
    "freq_dict.plot(25, cumulative=False)"
   ]
  },
  {
   "cell_type": "code",
   "execution_count": 39,
   "metadata": {},
   "outputs": [
    {
     "data": {
      "text/plain": [
       "[('百度', 'JJ'),\n",
       " ('新闻', 'NNP'),\n",
       " ('hao123', 'NN'),\n",
       " ('地图', 'NNP'),\n",
       " ('视频', 'NNP'),\n",
       " ('贴', 'NNP'),\n",
       " ('登录', 'NNP'),\n",
       " ('document', 'NN'),\n",
       " ('write', 'VB'),\n",
       " ('a', 'DT'),\n",
       " ('href', 'NN'),\n",
       " ('http', 'NN'),\n",
       " ('www', 'NN'),\n",
       " ('baidu', 'NN'),\n",
       " ('com', 'NN'),\n",
       " ('bdorz', 'NN'),\n",
       " ('login', 'NN'),\n",
       " ('gif', 'NN'),\n",
       " ('login', 'NN'),\n",
       " ('tpl', 'NN'),\n",
       " ('mn', 'NN'),\n",
       " ('u', 'JJ'),\n",
       " ('encodeURIComponent', 'NN'),\n",
       " ('window', 'NN'),\n",
       " ('location', 'NN'),\n",
       " ('href', 'NN'),\n",
       " ('window', 'NN'),\n",
       " ('location', 'NN'),\n",
       " ('search', 'NN'),\n",
       " ('bdorz', 'VBZ'),\n",
       " ('come', 'VBN'),\n",
       " ('name', 'NN'),\n",
       " ('tj', 'JJ'),\n",
       " ('login', 'NN'),\n",
       " ('class', 'NN'),\n",
       " ('lb', 'NN'),\n",
       " ('登录', 'VBD'),\n",
       " ('a', 'DT'),\n",
       " ('产品', 'JJ'),\n",
       " ('百度', 'NN'),\n",
       " ('About', 'IN'),\n",
       " ('Baidu', 'NNP'),\n",
       " ('©', 'NN'),\n",
       " ('2017', 'CD'),\n",
       " ('Baidu', 'NNP'),\n",
       " ('百度', 'NNP'),\n",
       " ('前', 'NNP'),\n",
       " ('必读', 'NNP'),\n",
       " ('意见反馈', 'NNP'),\n",
       " ('京', 'NNP'),\n",
       " ('ICP', 'NNP'),\n",
       " ('证', 'VBD'),\n",
       " ('030173', 'CD'),\n",
       " ('号', 'NN')]"
      ]
     },
     "execution_count": 39,
     "metadata": {},
     "output_type": "execute_result"
    }
   ],
   "source": [
    "nltk.pos_tag(tokens_jieba_stop)"
   ]
  },
  {
   "cell_type": "code",
   "execution_count": null,
   "metadata": {},
   "outputs": [],
   "source": []
  }
 ],
 "metadata": {
  "kernelspec": {
   "display_name": "Machine_learning",
   "language": "python",
   "name": "machine_learning"
  },
  "language_info": {
   "codemirror_mode": {
    "name": "ipython",
    "version": 3
   },
   "file_extension": ".py",
   "mimetype": "text/x-python",
   "name": "python",
   "nbconvert_exporter": "python",
   "pygments_lexer": "ipython3",
   "version": "3.6.5"
  },
  "toc": {
   "base_numbering": 1,
   "nav_menu": {},
   "number_sections": true,
   "sideBar": true,
   "skip_h1_title": false,
   "title_cell": "Table of Contents",
   "title_sidebar": "Contents",
   "toc_cell": false,
   "toc_position": {},
   "toc_section_display": true,
   "toc_window_display": false
  }
 },
 "nbformat": 4,
 "nbformat_minor": 2
}
