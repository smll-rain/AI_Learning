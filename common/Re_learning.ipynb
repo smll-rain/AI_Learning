{
 "cells": [
  {
   "cell_type": "markdown",
   "metadata": {},
   "source": [
    "## Python正则表达式"
   ]
  },
  {
   "cell_type": "markdown",
   "metadata": {},
   "source": [
    "### 验证工具\n",
    "http://regexr.com/\n",
    "\n",
    "### 进阶学习\n",
    "https://alf.nu/RegexGolf"
   ]
  },
  {
   "cell_type": "markdown",
   "metadata": {},
   "source": [
    "### Re\n",
    "使用步骤\n",
    "\n",
    "    1.编译为Pattern实例\n",
    "    2.使用Pattern实例处理文本并获得匹配结果\n",
    "    3.获得信息，进行其他的操作。\n",
    "    \n",
    "方法\n",
    "<pre>\n",
    "    re.compile(strPattern[, flag]):\n",
    "        参数flag是匹配模式，取值可以使用按位或运算符'|'表示同时生效，比如re.I | re.M\n",
    "        在regex字符串中指定模式，比如re.compile('pattern', re.I | re.M)等价于re.compile('(?im)pattern')\n",
    "        re.I(re.IGNORECASE): 忽略大小写（括号内是完整写法，下同）\n",
    "        re.M(MULTILINE): 多行模式，改变'^'和'$'的行为（参见上图）\n",
    "        re.S(DOTALL): 点任意匹配模式，改变'.'的行为\n",
    "        re.L(LOCALE): 使预定字符类 \\w \\W \\b \\B \\s \\S 取决于当前区域设定\n",
    "        re.U(UNICODE): 使预定字符类 \\w \\W \\b \\B \\s \\S \\d \\D 取决于unicode定义的字符属性\n",
    "        re.X(VERBOSE): 详细模式。这个模式下正则表达式可以是多行，忽略空白字符，并可以加入注释。\n",
    "    Match\n",
    "        Match对象是一次匹配的结果。\n",
    "        属性：\n",
    "            string: 匹配时使用的文本。\n",
    "            re: 匹配时使用的Pattern对象。\n",
    "            pos: 文本中正则表达式开始搜索的索引。\n",
    "            endpos: 文本中正则表达式结束搜索的索引。\n",
    "            lastindex: 最后一个被捕获的分组在文本中的索引。如果没有被捕获的分组，将为None。\n",
    "            lastgroup: 最后一个被捕获的分组的别名。如果这个分组没有别名或者没有被捕获的分组，将为None。\n",
    "        方法:\n",
    "            group([group1, …]): \n",
    "            获得一个或多个分组截获的字符串；不填写参数时，返回group(0)；没有截获字符串的组返回None；\n",
    "            groups([default]): \n",
    "            以元组形式返回全部分组截获的字符串。相当于调用group(1,2,…last)。default表示没有截获字符串的组以这个值替代，默认为None。\n",
    "            groupdict([default]): \n",
    "            返回以有别名的组的别名为键、以该组截获的子串为值的字典，没有别名的组不包含在内。default含义同上。\n",
    "            start([group]): \n",
    "            返回指定的组截获的子串在string中的起始索引（子串第一个字符的索引）。group默认值为0。\n",
    "            end([group]): \n",
    "            返回指定的组截获的子串在string中的结束索引（子串最后一个字符的索引+1）。group默认值为0。\n",
    "            span([group]): \n",
    "            返回(start(group), end(group))。\n",
    "            expand(template): \n",
    "            将匹配到的分组代入template中然后返回。template中可以使用\\id或\\g、\\g引用分组，但不能使用编号0。\\id与\\g是等价的；但\\10将被认为是第10个分组，如果你想表达\\1之后是字符'0'，只能使用\\g<1>0。\n",
    "</pre>"
   ]
  },
  {
   "cell_type": "code",
   "execution_count": 14,
   "metadata": {},
   "outputs": [
    {
     "name": "stdout",
     "output_type": "stream",
     "text": [
      "Small pig\n",
      "26\n",
      "0\n",
      "9\n"
     ]
    }
   ],
   "source": [
    "import re\n",
    "s1 = 'Small pig has a sunny day!'\n",
    "pattern = re.compile(r'^S.*pig')\n",
    "result = re.search(pattern, s1)\n",
    "print(result.group())\n",
    "print(result.endpos)\n",
    "print(result.start())\n",
    "print(result.end())"
   ]
  },
  {
   "cell_type": "code",
   "execution_count": 16,
   "metadata": {},
   "outputs": [
    {
     "name": "stdout",
     "output_type": "stream",
     "text": [
      "m.string: hello small pig!\n",
      "m.re: re.compile('(\\\\w+) (\\\\w+)(?P<sign>.*)')\n",
      "m.pos: 0\n",
      "m.endpos: 16\n",
      "m.lastindex: 3\n",
      "m.lastgroup: sign\n",
      "m.group(1,2): ('hello', 'small')\n",
      "m.groups(): ('hello', 'small', ' pig!')\n",
      "m.groupdict(): {'sign': ' pig!'}\n",
      "m.start(2): 6\n",
      "m.end(2): 11\n",
      "m.span(2): (6, 11)\n",
      "m.expand(r'\\2 \\1\\3'): small hello pig!\n"
     ]
    }
   ],
   "source": [
    "import re\n",
    "m = re.match(r'(\\w+) (\\w+)(?P<sign>.*)', 'hello small pig!')\n",
    " \n",
    "print(\"m.string:\", m.string)\n",
    "print(\"m.re:\", m.re)\n",
    "print(\"m.pos:\", m.pos)\n",
    "print(\"m.endpos:\", m.endpos)\n",
    "print(\"m.lastindex:\", m.lastindex)\n",
    "print(\"m.lastgroup:\", m.lastgroup)\n",
    " \n",
    "print(\"m.group(1,2):\", m.group(1, 2))\n",
    "print(\"m.groups():\", m.groups())\n",
    "print(\"m.groupdict():\", m.groupdict())\n",
    "print(\"m.start(2):\", m.start(2))\n",
    "print(\"m.end(2):\", m.end(2))\n",
    "print(\"m.span(2):\", m.span(2))\n",
    "print(r\"m.expand(r'\\2 \\1\\3'):\", m.expand(r'\\2 \\1\\3'))"
   ]
  },
  {
   "cell_type": "code",
   "execution_count": null,
   "metadata": {},
   "outputs": [],
   "source": [
    "Pattern\n",
    "Pattern对象是一个编译好的正则表达式，通过Pattern提供的一系列方法可以对文本进行匹配查找。\n",
    "\n",
    "Pattern不能直接实例化，必须使用re.compile()进行构造。\n",
    "\n",
    "Pattern提供了几个可读属性用于获取表达式的相关信息：\n",
    "\n",
    "-pattern: 编译时用的表达式字符串。\n",
    "flags: 编译时用的匹配模式。数字形式。\n",
    "groups: 表达式中分组的数量。\n",
    "groupindex: 以表达式中有别名的组的别名为键、以该组对应的编号为值的字典，没有别名的组不包含在内。\n",
    "    \n",
    "使用pattern\n",
    "match(string[, pos[, endpos]]) | re.match(pattern, string[, flags]): \n",
    "这个方法将从string的pos下标处起尝试匹配pattern:\n",
    "如果pattern结束时仍可匹配，则返回一个Match对象\n",
    "如果匹配过程中pattern无法匹配，或者匹配未结束就已到达endpos，则返回None。\n",
    "pos和endpos的默认值分别为0和len(string)。 \n",
    "注意：这个方法并不是完全匹配。当pattern结束时若string还有剩余字符，仍然视为成功。想要完全匹配，可以在表达式末尾加上边界匹配符'$'。\n",
    "search(string[, pos[, endpos]]) | re.search(pattern, string[, flags]): \n",
    "这个方法从string的pos下标处起尝试匹配pattern\n",
    "如果pattern结束时仍可匹配，则返回一个Match对象\n",
    "若无法匹配，则将pos加1后重新尝试匹配，直到pos=endpos时仍无法匹配则返回None。\n",
    "pos和endpos的默认值分别为0和len(string))\n"
   ]
  },
  {
   "cell_type": "code",
   "execution_count": 17,
   "metadata": {},
   "outputs": [
    {
     "ename": "SyntaxError",
     "evalue": "invalid syntax (<ipython-input-17-6ba305ecbbd7>, line 1)",
     "output_type": "error",
     "traceback": [
      "\u001b[1;36m  File \u001b[1;32m\"<ipython-input-17-6ba305ecbbd7>\"\u001b[1;36m, line \u001b[1;32m1\u001b[0m\n\u001b[1;33m    split(string[, maxsplit]) | re.split(pattern, string[, maxsplit]):\u001b[0m\n\u001b[1;37m                 ^\u001b[0m\n\u001b[1;31mSyntaxError\u001b[0m\u001b[1;31m:\u001b[0m invalid syntax\n"
     ]
    }
   ],
   "source": [
    "split(string[, maxsplit]) | re.split(pattern, string[, maxsplit]):\n",
    "按照能够匹配的子串将string分割后返回列表。\n",
    "maxsplit用于指定最大分割次数，不指定将全部分割。"
   ]
  },
  {
   "cell_type": "code",
   "execution_count": null,
   "metadata": {},
   "outputs": [],
   "source": [
    "findall(string[, pos[, endpos]]) | re.findall(pattern, string[, flags]):\n",
    "搜索string，以列表形式返回全部能匹配的子串。"
   ]
  },
  {
   "cell_type": "code",
   "execution_count": null,
   "metadata": {},
   "outputs": [],
   "source": [
    "finditer(string[, pos[, endpos]]) | re.finditer(pattern, string[, flags]):\n",
    "搜索string，返回一个顺序访问每一个匹配结果（Match对象）的迭代器。"
   ]
  },
  {
   "cell_type": "code",
   "execution_count": null,
   "metadata": {},
   "outputs": [],
   "source": [
    "sub(repl, string[, count]) | re.sub(pattern, repl, string[, count]):\n",
    "使用repl替换string中每一个匹配的子串后返回替换后的字符串。\n",
    "当repl是一个字符串时，可以使用\\id或\\g、\\g引用分组，但不能使用编号0。\n",
    "当repl是一个方法时，这个方法应当只接受一个参数（Match对象），并返回一个字符串用于替换（返回的字符串中不能再引用分组）。 count用于指定最多替换次数，不指定时全部替换。"
   ]
  },
  {
   "cell_type": "code",
   "execution_count": null,
   "metadata": {},
   "outputs": [],
   "source": [
    "subn(repl, string[, count]) |re.sub(pattern, repl, string[, count]):\n",
    "返回 (sub(repl, string[, count]), 替换次数)。"
   ]
  }
 ],
 "metadata": {
  "kernelspec": {
   "display_name": "Machine_learning",
   "language": "python",
   "name": "machine_learning"
  },
  "language_info": {
   "codemirror_mode": {
    "name": "ipython",
    "version": 3
   },
   "file_extension": ".py",
   "mimetype": "text/x-python",
   "name": "python",
   "nbconvert_exporter": "python",
   "pygments_lexer": "ipython3",
   "version": "3.6.5"
  }
 },
 "nbformat": 4,
 "nbformat_minor": 2
}
