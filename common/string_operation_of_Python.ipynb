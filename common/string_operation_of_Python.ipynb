{
 "cells": [
  {
   "cell_type": "markdown",
   "metadata": {},
   "source": [
    "## Python字符串操作"
   ]
  },
  {
   "cell_type": "markdown",
   "metadata": {},
   "source": [
    "### 去除空格及特殊符号"
   ]
  },
  {
   "cell_type": "code",
   "execution_count": 12,
   "metadata": {},
   "outputs": [
    {
     "name": "stdout",
     "output_type": "stream",
     "text": [
      "Hello, NLP!\n",
      "Hello, NLP! \n",
      " Hello, NLP!\n",
      "NLP!\n",
      " Hello, NLP! \n"
     ]
    }
   ],
   "source": [
    "import jieba\n",
    "s = \" Hello, NLP! \"\n",
    "print(s.strip())\n",
    "print(s.lstrip())\n",
    "print(s.rstrip())\n",
    "print(s.strip(' Hello,'))\n",
    "# 去除指定符号\n",
    "print(s.strip(\"!\"))"
   ]
  },
  {
   "cell_type": "markdown",
   "metadata": {},
   "source": [
    "### 连接字符串"
   ]
  },
  {
   "cell_type": "code",
   "execution_count": 16,
   "metadata": {},
   "outputs": [
    {
     "name": "stdout",
     "output_type": "stream",
     "text": [
      "Hello,NLP\n",
      "Hello,NLP\n"
     ]
    }
   ],
   "source": [
    "s1 = \"Hello\"\n",
    "s2 = \"NLP\"\n",
    "print(s1 + \",\" + s2)\n",
    "print(\",\".join([s1,s2]))"
   ]
  },
  {
   "cell_type": "markdown",
   "metadata": {},
   "source": [
    "### 查找字符串"
   ]
  },
  {
   "cell_type": "code",
   "execution_count": 26,
   "metadata": {},
   "outputs": [
    {
     "name": "stdout",
     "output_type": "stream",
     "text": [
      "1\n",
      "0\n",
      "-1\n"
     ]
    }
   ],
   "source": [
    "s1 = \"Hello\"\n",
    "# 如果不存在会报错\n",
    "print(s.index('H'))\n",
    "\n",
    "# 改进\n",
    "print(s1.find('H'))\n",
    "print(s1.find('h'))"
   ]
  },
  {
   "cell_type": "markdown",
   "metadata": {},
   "source": [
    "### 字符串大小写转换"
   ]
  },
  {
   "cell_type": "code",
   "execution_count": 33,
   "metadata": {},
   "outputs": [
    {
     "name": "stdout",
     "output_type": "stream",
     "text": [
      "HELLO,NLP\n",
      "hello,nlp\n",
      "Hello,nlp\n",
      "Hello,Nlp\n"
     ]
    }
   ],
   "source": [
    "s1 = 'HeLLo,nlp'\n",
    "print(s1.upper())\n",
    "print(s1.lower())\n",
    "print(s1.capitalize())\n",
    "print(s1.title())"
   ]
  },
  {
   "cell_type": "markdown",
   "metadata": {},
   "source": [
    "### 翻转字符串"
   ]
  },
  {
   "cell_type": "code",
   "execution_count": 35,
   "metadata": {},
   "outputs": [
    {
     "name": "stdout",
     "output_type": "stream",
     "text": [
      "!PLN olleH\n"
     ]
    }
   ],
   "source": [
    "s1 = 'Hello NLP!'\n",
    "print(s1[::-1])"
   ]
  },
  {
   "cell_type": "markdown",
   "metadata": {},
   "source": [
    "### 分割字符串"
   ]
  },
  {
   "cell_type": "code",
   "execution_count": 36,
   "metadata": {},
   "outputs": [
    {
     "name": "stdout",
     "output_type": "stream",
     "text": [
      "['Hello', 'NLP!', 'Just', 'do', 'it']\n"
     ]
    }
   ],
   "source": [
    "s1 = 'Hello NLP! Just do it'\n",
    "print(s1.split())"
   ]
  },
  {
   "cell_type": "markdown",
   "metadata": {},
   "source": [
    "### 计算词频"
   ]
  },
  {
   "cell_type": "code",
   "execution_count": 55,
   "metadata": {},
   "outputs": [
    {
     "name": "stdout",
     "output_type": "stream",
     "text": [
      "dict_values([3, 5, 4, 3, 2, 1, 1, 1, 1, 1])\n",
      "dict_keys(['a', 's', 'f', 'h', 'g', 'd', 'n', 'v', 'c', 'b'])\n",
      "dict_items([('a', 3), ('s', 5), ('f', 4), ('h', 3), ('g', 2), ('d', 1), ('n', 1), ('v', 1), ('c', 1), ('b', 1)])\n",
      "('s', 5)\n"
     ]
    }
   ],
   "source": [
    "s1 = 'asfashgfhasdfsfhgnvcbs'\n",
    "from collections import Counter\n",
    "count = Counter(s1)\n",
    "print(count.values())\n",
    "print(count.keys())\n",
    "print(count.items())\n",
    "# 取出词频最大的字符\n",
    "print(count.most_common()[0])"
   ]
  }
 ],
 "metadata": {
  "kernelspec": {
   "display_name": "Machine_learning",
   "language": "python",
   "name": "machine_learning"
  },
  "language_info": {
   "codemirror_mode": {
    "name": "ipython",
    "version": 3
   },
   "file_extension": ".py",
   "mimetype": "text/x-python",
   "name": "python",
   "nbconvert_exporter": "python",
   "pygments_lexer": "ipython3",
   "version": "3.6.5"
  }
 },
 "nbformat": 4,
 "nbformat_minor": 2
}
