{
 "cells": [
  {
   "cell_type": "markdown",
   "metadata": {},
   "source": [
    "### 卡方检验\n",
    "**简介**\n",
    "- 一种用途很广的计数资料的假设检验方法\n",
    "- 属于非参数检验，主要是比较两个及两个以上样本率（构成比）以及两个分类变量的关联性分析\n",
    "\n",
    "**基本思想**\n",
    "- 比较理论频数和实际频数的吻合程度或者拟合优度\n",
    "\n",
    "**卡方分布**\n",
    "- 若n个相互独立的随机变量ξ₁，ξ₂，...,ξn ，\n",
    "- 均服从标准正态分布（也称独立同分布于标准正态分布），\n",
    "- 则这n个服从标准正态分布的随机变量的平方和构成一新的随机变量，\n",
    "- 其分布规律称为卡方分布（chi-square distribution）。\n",
    "\n",
    "**应用**\n",
    "- 两个率或两个构成比比较的卡方检验\n",
    "- 多个率或多个构成比比较的卡方检验\n",
    "- 分类资料的相关分析"
   ]
  },
  {
   "cell_type": "markdown",
   "metadata": {},
   "source": [
    "### 卡方检验计算公式"
   ]
  },
  {
   "cell_type": "markdown",
   "metadata": {},
   "source": [
    "&emsp;&emsp;&emsp;&emsp; $x^{2}=\\sum_{}\\frac{(A-T)^2}{T} $\n",
    "\n",
    "- A为实际值\n",
    "- T为理论值。\n",
    "- x2为衡量实际值与理论值的差异程度（也就是卡方检验的核心思想）：\n",
    "    - 1. 实际值与理论值偏差的绝对大小（由于平方的存在，差异是被放大的）\n",
    "    - 2. 差异程度与理论值的相对大小"
   ]
  },
  {
   "cell_type": "markdown",
   "metadata": {},
   "source": [
    "### 卡方分布临界值表\n",
    "- 自由度等于V = (行数 - 1) * (列数 - 1)，对四格表，自由度V = 1\n",
    "- n表示自由度\n",
    "- p表示尾概率"
   ]
  },
  {
   "cell_type": "code",
   "execution_count": 1,
   "metadata": {},
   "outputs": [
    {
     "data": {
      "text/html": [
       "<div>\n",
       "<style scoped>\n",
       "    .dataframe tbody tr th:only-of-type {\n",
       "        vertical-align: middle;\n",
       "    }\n",
       "\n",
       "    .dataframe tbody tr th {\n",
       "        vertical-align: top;\n",
       "    }\n",
       "\n",
       "    .dataframe thead th {\n",
       "        text-align: right;\n",
       "    }\n",
       "</style>\n",
       "<table border=\"1\" class=\"dataframe\">\n",
       "  <thead>\n",
       "    <tr style=\"text-align: right;\">\n",
       "      <th></th>\n",
       "      <th>n/p</th>\n",
       "      <th>0.995</th>\n",
       "      <th>0.99</th>\n",
       "      <th>0.975</th>\n",
       "      <th>0.95</th>\n",
       "      <th>0.9</th>\n",
       "      <th>0.75</th>\n",
       "      <th>0.5</th>\n",
       "      <th>0.25</th>\n",
       "      <th>0.1</th>\n",
       "      <th>0.05</th>\n",
       "      <th>0.025</th>\n",
       "      <th>0.01</th>\n",
       "      <th>0.005</th>\n",
       "    </tr>\n",
       "  </thead>\n",
       "  <tbody>\n",
       "    <tr>\n",
       "      <th>0</th>\n",
       "      <td>1</td>\n",
       "      <td>…</td>\n",
       "      <td>…</td>\n",
       "      <td>…</td>\n",
       "      <td>…</td>\n",
       "      <td>0.02</td>\n",
       "      <td>0.10</td>\n",
       "      <td>0.45</td>\n",
       "      <td>1.32</td>\n",
       "      <td>2.71</td>\n",
       "      <td>3.84</td>\n",
       "      <td>5.02</td>\n",
       "      <td>6.63</td>\n",
       "      <td>7.88</td>\n",
       "    </tr>\n",
       "    <tr>\n",
       "      <th>1</th>\n",
       "      <td>2</td>\n",
       "      <td>0.01</td>\n",
       "      <td>0.02</td>\n",
       "      <td>0.02</td>\n",
       "      <td>0.1</td>\n",
       "      <td>0.21</td>\n",
       "      <td>0.58</td>\n",
       "      <td>1.39</td>\n",
       "      <td>2.77</td>\n",
       "      <td>4.61</td>\n",
       "      <td>5.99</td>\n",
       "      <td>7.38</td>\n",
       "      <td>9.21</td>\n",
       "      <td>10.60</td>\n",
       "    </tr>\n",
       "    <tr>\n",
       "      <th>2</th>\n",
       "      <td>3</td>\n",
       "      <td>0.07</td>\n",
       "      <td>0.11</td>\n",
       "      <td>0.22</td>\n",
       "      <td>0.35</td>\n",
       "      <td>0.58</td>\n",
       "      <td>1.21</td>\n",
       "      <td>2.37</td>\n",
       "      <td>4.11</td>\n",
       "      <td>6.25</td>\n",
       "      <td>7.81</td>\n",
       "      <td>9.35</td>\n",
       "      <td>11.34</td>\n",
       "      <td>12.84</td>\n",
       "    </tr>\n",
       "    <tr>\n",
       "      <th>3</th>\n",
       "      <td>4</td>\n",
       "      <td>0.21</td>\n",
       "      <td>0.3</td>\n",
       "      <td>0.48</td>\n",
       "      <td>0.71</td>\n",
       "      <td>1.06</td>\n",
       "      <td>1.92</td>\n",
       "      <td>3.36</td>\n",
       "      <td>5.39</td>\n",
       "      <td>7.78</td>\n",
       "      <td>9.49</td>\n",
       "      <td>11.14</td>\n",
       "      <td>13.28</td>\n",
       "      <td>14.86</td>\n",
       "    </tr>\n",
       "    <tr>\n",
       "      <th>4</th>\n",
       "      <td>5</td>\n",
       "      <td>0.41</td>\n",
       "      <td>0.55</td>\n",
       "      <td>0.83</td>\n",
       "      <td>1.15</td>\n",
       "      <td>1.61</td>\n",
       "      <td>2.67</td>\n",
       "      <td>4.35</td>\n",
       "      <td>6.63</td>\n",
       "      <td>9.24</td>\n",
       "      <td>11.07</td>\n",
       "      <td>12.83</td>\n",
       "      <td>15.09</td>\n",
       "      <td>16.75</td>\n",
       "    </tr>\n",
       "  </tbody>\n",
       "</table>\n",
       "</div>"
      ],
      "text/plain": [
       "   n/p 0.995  0.99 0.975  0.95   0.9  0.75   0.5  0.25   0.1   0.05  0.025  \\\n",
       "0    1     …     …     …     …  0.02  0.10  0.45  1.32  2.71   3.84   5.02   \n",
       "1    2  0.01  0.02  0.02   0.1  0.21  0.58  1.39  2.77  4.61   5.99   7.38   \n",
       "2    3  0.07  0.11  0.22  0.35  0.58  1.21  2.37  4.11  6.25   7.81   9.35   \n",
       "3    4  0.21   0.3  0.48  0.71  1.06  1.92  3.36  5.39  7.78   9.49  11.14   \n",
       "4    5  0.41  0.55  0.83  1.15  1.61  2.67  4.35  6.63  9.24  11.07  12.83   \n",
       "\n",
       "    0.01  0.005  \n",
       "0   6.63   7.88  \n",
       "1   9.21  10.60  \n",
       "2  11.34  12.84  \n",
       "3  13.28  14.86  \n",
       "4  15.09  16.75  "
      ]
     },
     "execution_count": 1,
     "metadata": {},
     "output_type": "execute_result"
    }
   ],
   "source": [
    "import pandas as pd\n",
    "chi_distribution_values = pd.read_excel('./chi_distribution_values-.xls')\n",
    "chi_distribution_values.head()"
   ]
  },
  {
   "cell_type": "markdown",
   "metadata": {},
   "source": [
    "### 四格卡方检验的标准步骤"
   ]
  },
  {
   "cell_type": "markdown",
   "metadata": {},
   "source": [
    "#### 目标\n",
    "- 不吃晚饭对体重下降有没有影响\n"
   ]
  },
  {
   "cell_type": "markdown",
   "metadata": {},
   "source": [
    "#### 数据集"
   ]
  },
  {
   "cell_type": "code",
   "execution_count": 2,
   "metadata": {},
   "outputs": [
    {
     "data": {
      "text/html": [
       "<div>\n",
       "<style scoped>\n",
       "    .dataframe tbody tr th:only-of-type {\n",
       "        vertical-align: middle;\n",
       "    }\n",
       "\n",
       "    .dataframe tbody tr th {\n",
       "        vertical-align: top;\n",
       "    }\n",
       "\n",
       "    .dataframe thead th {\n",
       "        text-align: right;\n",
       "    }\n",
       "</style>\n",
       "<table border=\"1\" class=\"dataframe\">\n",
       "  <thead>\n",
       "    <tr style=\"text-align: right;\">\n",
       "      <th></th>\n",
       "      <th>weight_loss</th>\n",
       "      <th>not_weight_loss</th>\n",
       "      <th>sum</th>\n",
       "      <th>weight_loss_rate</th>\n",
       "    </tr>\n",
       "  </thead>\n",
       "  <tbody>\n",
       "    <tr>\n",
       "      <th>dinner</th>\n",
       "      <td>123</td>\n",
       "      <td>467</td>\n",
       "      <td>590</td>\n",
       "      <td>0.208475</td>\n",
       "    </tr>\n",
       "    <tr>\n",
       "      <th>not_dinner</th>\n",
       "      <td>45</td>\n",
       "      <td>106</td>\n",
       "      <td>151</td>\n",
       "      <td>0.298013</td>\n",
       "    </tr>\n",
       "    <tr>\n",
       "      <th>sum</th>\n",
       "      <td>168</td>\n",
       "      <td>573</td>\n",
       "      <td>741</td>\n",
       "      <td>0.226721</td>\n",
       "    </tr>\n",
       "  </tbody>\n",
       "</table>\n",
       "</div>"
      ],
      "text/plain": [
       "            weight_loss  not_weight_loss  sum  weight_loss_rate\n",
       "dinner              123              467  590          0.208475\n",
       "not_dinner           45              106  151          0.298013\n",
       "sum                 168              573  741          0.226721"
      ]
     },
     "execution_count": 2,
     "metadata": {},
     "output_type": "execute_result"
    }
   ],
   "source": [
    "data = pd.DataFrame({'weight_loss':[123, 45], 'not_weight_loss':[467,106]},index=['dinner', 'not_dinner'])\n",
    "col_sum = pd.DataFrame({'sum':data.sum()}).T\n",
    "data = data.append(col_sum)\n",
    "data['sum'] = data.sum(axis=1)\n",
    "data['weight_loss_rate'] = data.weight_loss / data['sum']\n",
    "data"
   ]
  },
  {
   "cell_type": "markdown",
   "metadata": {},
   "source": [
    "**吃晚饭和不吃晚饭的体重下降率分别为20.85%和29.80%**\n",
    "\n",
    "**两者的差别可能是抽样误差导致，也可能是 吃饭对体重真的有影响**"
   ]
  },
  {
   "cell_type": "markdown",
   "metadata": {},
   "source": [
    "#### 建立假设检验\n",
    "- 假设不吃晚饭对体重下降没有影响,α=0.05\n",
    "- 如果说真的没有影响的话 表格中理论值和实际值差别应该会很小"
   ]
  },
  {
   "cell_type": "markdown",
   "metadata": {},
   "source": [
    "#### 计算理论值"
   ]
  },
  {
   "cell_type": "code",
   "execution_count": 3,
   "metadata": {},
   "outputs": [
    {
     "name": "stdout",
     "output_type": "stream",
     "text": [
      "22.67%\n"
     ]
    }
   ],
   "source": [
    "# 计算体重下降的实际概率\n",
    "real_rate = data.loc['sum','weight_loss']/data.loc['sum', 'sum']\n",
    "print('%0.2f%%'% (real_rate * 100))"
   ]
  },
  {
   "cell_type": "code",
   "execution_count": 4,
   "metadata": {},
   "outputs": [
    {
     "data": {
      "text/html": [
       "<div>\n",
       "<style scoped>\n",
       "    .dataframe tbody tr th:only-of-type {\n",
       "        vertical-align: middle;\n",
       "    }\n",
       "\n",
       "    .dataframe tbody tr th {\n",
       "        vertical-align: top;\n",
       "    }\n",
       "\n",
       "    .dataframe thead th {\n",
       "        text-align: right;\n",
       "    }\n",
       "</style>\n",
       "<table border=\"1\" class=\"dataframe\">\n",
       "  <thead>\n",
       "    <tr style=\"text-align: right;\">\n",
       "      <th></th>\n",
       "      <th>weight_loss</th>\n",
       "      <th>not_weight_loss</th>\n",
       "      <th>sum</th>\n",
       "      <th>weight_loss_rate</th>\n",
       "    </tr>\n",
       "  </thead>\n",
       "  <tbody>\n",
       "    <tr>\n",
       "      <th>dinner</th>\n",
       "      <td>133.765182</td>\n",
       "      <td>456.234818</td>\n",
       "      <td>590.0</td>\n",
       "      <td>0.226721</td>\n",
       "    </tr>\n",
       "    <tr>\n",
       "      <th>not_dinner</th>\n",
       "      <td>34.234818</td>\n",
       "      <td>116.765182</td>\n",
       "      <td>151.0</td>\n",
       "      <td>0.226721</td>\n",
       "    </tr>\n",
       "    <tr>\n",
       "      <th>sum</th>\n",
       "      <td>168.000000</td>\n",
       "      <td>573.000000</td>\n",
       "      <td>741.0</td>\n",
       "      <td>0.226721</td>\n",
       "    </tr>\n",
       "  </tbody>\n",
       "</table>\n",
       "</div>"
      ],
      "text/plain": [
       "            weight_loss  not_weight_loss    sum  weight_loss_rate\n",
       "dinner       133.765182       456.234818  590.0          0.226721\n",
       "not_dinner    34.234818       116.765182  151.0          0.226721\n",
       "sum          168.000000       573.000000  741.0          0.226721"
      ]
     },
     "execution_count": 4,
     "metadata": {},
     "output_type": "execute_result"
    }
   ],
   "source": [
    "# 计算理论值\n",
    "theoretical_data = pd.DataFrame({'weight_loss':data['sum'] * real_rate, 'not_weight_loss':data['sum'] * (1 - real_rate)},index=['dinner', 'not_dinner'])\n",
    "col_sum = pd.DataFrame({'sum':theoretical_data.sum()}).T\n",
    "theoretical_data = theoretical_data.append(col_sum)\n",
    "theoretical_data['sum'] = theoretical_data.sum(axis=1)\n",
    "theoretical_data['weight_loss_rate'] = theoretical_data.weight_loss / theoretical_data['sum']\n",
    "theoretical_data"
   ]
  },
  {
   "cell_type": "markdown",
   "metadata": {},
   "source": [
    "#### 计算卡方值"
   ]
  },
  {
   "cell_type": "code",
   "execution_count": 5,
   "metadata": {},
   "outputs": [
    {
     "data": {
      "text/html": [
       "<div>\n",
       "<style scoped>\n",
       "    .dataframe tbody tr th:only-of-type {\n",
       "        vertical-align: middle;\n",
       "    }\n",
       "\n",
       "    .dataframe tbody tr th {\n",
       "        vertical-align: top;\n",
       "    }\n",
       "\n",
       "    .dataframe thead th {\n",
       "        text-align: right;\n",
       "    }\n",
       "</style>\n",
       "<table border=\"1\" class=\"dataframe\">\n",
       "  <thead>\n",
       "    <tr style=\"text-align: right;\">\n",
       "      <th></th>\n",
       "      <th>weight_loss</th>\n",
       "      <th>not_weight_loss</th>\n",
       "      <th>sum</th>\n",
       "      <th>weight_loss_rate</th>\n",
       "    </tr>\n",
       "  </thead>\n",
       "  <tbody>\n",
       "    <tr>\n",
       "      <th>dinner</th>\n",
       "      <td>0.866363</td>\n",
       "      <td>0.254012</td>\n",
       "      <td>0.0</td>\n",
       "      <td>0.001468</td>\n",
       "    </tr>\n",
       "    <tr>\n",
       "      <th>not_dinner</th>\n",
       "      <td>3.385125</td>\n",
       "      <td>0.992497</td>\n",
       "      <td>0.0</td>\n",
       "      <td>0.022418</td>\n",
       "    </tr>\n",
       "    <tr>\n",
       "      <th>sum</th>\n",
       "      <td>0.000000</td>\n",
       "      <td>0.000000</td>\n",
       "      <td>0.0</td>\n",
       "      <td>0.000000</td>\n",
       "    </tr>\n",
       "  </tbody>\n",
       "</table>\n",
       "</div>"
      ],
      "text/plain": [
       "            weight_loss  not_weight_loss  sum  weight_loss_rate\n",
       "dinner         0.866363         0.254012  0.0          0.001468\n",
       "not_dinner     3.385125         0.992497  0.0          0.022418\n",
       "sum            0.000000         0.000000  0.0          0.000000"
      ]
     },
     "execution_count": 5,
     "metadata": {},
     "output_type": "execute_result"
    }
   ],
   "source": [
    "chi = ((data - theoretical_data)**2 / theoretical_data)\n",
    "chi"
   ]
  },
  {
   "cell_type": "code",
   "execution_count": 6,
   "metadata": {},
   "outputs": [
    {
     "data": {
      "text/plain": [
       "5.497997391433855"
      ]
     },
     "execution_count": 6,
     "metadata": {},
     "output_type": "execute_result"
    }
   ],
   "source": [
    "chi_x = chi.iloc[0:2,0:2]\n",
    "chi_x.sum().sum()"
   ]
  },
  {
   "cell_type": "markdown",
   "metadata": {},
   "source": [
    "#### 查卡方表求P值\n",
    "**自由度计算**\n",
    "- 自由度计算公式v=（行数-1）（列数-1）\n",
    "- 自由度v=（2-1）（2-1）=1\n",
    "- 查卡方界值表，p值为3.84"
   ]
  },
  {
   "cell_type": "code",
   "execution_count": 7,
   "metadata": {},
   "outputs": [
    {
     "data": {
      "text/plain": [
       "3.84"
      ]
     },
     "execution_count": 7,
     "metadata": {},
     "output_type": "execute_result"
    }
   ],
   "source": [
    "chi_p = chi_distribution_values[chi_distribution_values.loc[:,'n/p']==1].loc[:, 0.05][0]\n",
    "chi_p"
   ]
  },
  {
   "cell_type": "markdown",
   "metadata": {},
   "source": [
    "#### 得出结论\n",
    "\n",
    "**chi_x=5.498＞chi_p=3.84，P＜0.05，否定上述假设，即差异有显著统计学意义**\n",
    "\n",
    "**按α=0.05水准，即认为吃饭与体重下降相关**"
   ]
  },
  {
   "cell_type": "markdown",
   "metadata": {},
   "source": [
    "### 总结\n",
    "**卡方检验一般步骤**\n",
    "1. 假设多个变量不相干 \n",
    "2. 卡方值越大，P值越小，变量相关的可能性越大\n",
    "3. 得出结论\n",
    "\n",
    "    当chi_x=5.498＞=chi_p=3.84，P＜=0.05（置信度95%），否定上述假设，认为变量相关 \n",
    "    \n",
    "    当chi_x=5.498<chi_p=3.84，P＜=0.05（置信度95%），无法否定上述假设，假设成立"
   ]
  }
 ],
 "metadata": {
  "kernelspec": {
   "display_name": "Machine_learning",
   "language": "python",
   "name": "machine_learning"
  },
  "language_info": {
   "codemirror_mode": {
    "name": "ipython",
    "version": 3
   },
   "file_extension": ".py",
   "mimetype": "text/x-python",
   "name": "python",
   "nbconvert_exporter": "python",
   "pygments_lexer": "ipython3",
   "version": "3.6.5"
  },
  "toc": {
   "base_numbering": 1,
   "nav_menu": {},
   "number_sections": true,
   "sideBar": true,
   "skip_h1_title": false,
   "title_cell": "Table of Contents",
   "title_sidebar": "Contents",
   "toc_cell": false,
   "toc_position": {},
   "toc_section_display": true,
   "toc_window_display": true
  }
 },
 "nbformat": 4,
 "nbformat_minor": 2
}
