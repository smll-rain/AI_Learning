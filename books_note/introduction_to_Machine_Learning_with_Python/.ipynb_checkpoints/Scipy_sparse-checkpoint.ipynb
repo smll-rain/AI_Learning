{
 "cells": [
  {
   "cell_type": "markdown",
   "metadata": {},
   "source": [
    "## Scipy稀疏矩阵的创建与压缩"
   ]
  },
  {
   "cell_type": "markdown",
   "metadata": {},
   "source": [
    "### 将NumPy数组转换为CSR格式的SciPy稀疏矩阵"
   ]
  },
  {
   "cell_type": "code",
   "execution_count": 4,
   "metadata": {},
   "outputs": [
    {
     "name": "stdout",
     "output_type": "stream",
     "text": [
      "array: \n",
      " [[1. 0. 0. 0. 0.]\n",
      " [0. 1. 0. 0. 0.]\n",
      " [0. 0. 1. 0. 0.]\n",
      " [0. 0. 0. 1. 0.]\n",
      " [0. 0. 0. 0. 1.]]\n",
      "csr_matrix: \n",
      "   (0, 0)\t1.0\n",
      "  (1, 1)\t1.0\n",
      "  (2, 2)\t1.0\n",
      "  (3, 3)\t1.0\n",
      "  (4, 4)\t1.0\n"
     ]
    }
   ],
   "source": [
    "# 保存一个大部分元素都是 0 的二维数组\n",
    "# 将NumPy数组转换为CSR格式的SciPy稀疏矩阵\n",
    "# 只保存非零元素\n",
    "from scipy import sparse\n",
    "import numpy as np\n",
    "array = np.eye(5)\n",
    "csr_matrix = sparse.csr_matrix(array)\n",
    "print(\"array:\", '\\n' , array)\n",
    "print(\"csr_matrix:\", '\\n' , csr_matrix)"
   ]
  },
  {
   "cell_type": "markdown",
   "metadata": {},
   "source": [
    "### 创建稠密矩阵"
   ]
  },
  {
   "cell_type": "code",
   "execution_count": 5,
   "metadata": {},
   "outputs": [
    {
     "name": "stdout",
     "output_type": "stream",
     "text": [
      "data: \n",
      " [1. 1. 1. 1. 1.]\n",
      "coo_metrix: \n",
      "   (0, 0)\t1.0\n",
      "  (0, 1)\t1.0\n",
      "  (0, 2)\t1.0\n",
      "  (0, 3)\t1.0\n",
      "  (0, 4)\t1.0\n"
     ]
    }
   ],
   "source": [
    "data = np.ones(5)\n",
    "row_index = np.arange(5)\n",
    "col_index = np.arange(5)\n",
    "coo_metrix = sparse.coo_matrix(data, (row_index, col_index))\n",
    "print('data:', '\\n', data)\n",
    "print('coo_metrix:', '\\n', coo_metrix)"
   ]
  }
 ],
 "metadata": {
  "kernelspec": {
   "display_name": "Machine_learning",
   "language": "python",
   "name": "machine_learning"
  },
  "language_info": {
   "codemirror_mode": {
    "name": "ipython",
    "version": 3
   },
   "file_extension": ".py",
   "mimetype": "text/x-python",
   "name": "python",
   "nbconvert_exporter": "python",
   "pygments_lexer": "ipython3",
   "version": "3.6.5"
  }
 },
 "nbformat": 4,
 "nbformat_minor": 2
}
