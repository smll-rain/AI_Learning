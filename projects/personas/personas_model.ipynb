{
 "cells": [
  {
   "cell_type": "markdown",
   "metadata": {},
   "source": [
    "### 项目说明\n",
    "\n",
    "在搜索竞价广告系统中，用户通过在搜索引擎输入具体的查询词来获取相关信息。因此，用户的历史查询词与用户的基本属性及潜在需求有密切的关系。\n",
    "\n",
    "举例如下：\n",
    "\n",
    "    年龄在19岁至23岁区间的自然人会有较多的搜索行为与大学生活、社交等主题有关\n",
    "\n",
    "    男性相比女性会在军事、汽车等主题有更多的搜索行为\n",
    "\n",
    "    高学历人群会更加倾向于获取社会、经济等主题的信息\n",
    "\n",
    "根据用户历史一个月的查询记录，以用户的人口属性（包括性别、年龄、学历）为标签，通过机器学习、数据挖掘技术构建分类算法来对新增用户的人口属性进行判定。"
   ]
  },
  {
   "cell_type": "markdown",
   "metadata": {},
   "source": [
    "### 数据说明\n",
    "字段\t说明\n",
    "\n",
    "    ID\t加密后的ID\n",
    "    Age\t0：未知年龄; 1：0-18岁; 2：19-23岁; 3：24-30岁; 4：31-40岁; 5：41-50岁; 6： 51-999岁\n",
    "    Gender\t0：未知  1：男性  2：女性\n",
    "    Education\t0：未知学历; 1：博士; 2：硕士; 3：大学生; 4：高中; 5：初中; 6：小学\n",
    "    Query List\t搜索词列表"
   ]
  },
  {
   "cell_type": "markdown",
   "metadata": {},
   "source": [
    "### 导包"
   ]
  },
  {
   "cell_type": "code",
   "execution_count": 3,
   "metadata": {},
   "outputs": [],
   "source": [
    "import numpy as np\n",
    "import pandas as pd\n",
    "import matplotlib.pyplot as plt\n",
    "import seaborn as sns\n",
    "import sklearn\n",
    "%matplotlib inline"
   ]
  },
  {
   "cell_type": "markdown",
   "metadata": {},
   "source": [
    "### 数据加载"
   ]
  },
  {
   "cell_type": "markdown",
   "metadata": {},
   "source": [
    "#### 验证编码格式"
   ]
  },
  {
   "cell_type": "code",
   "execution_count": 38,
   "metadata": {},
   "outputs": [],
   "source": [
    "def read_file(file_path,mode='rb'):\n",
    "    with open(file_path,mode=mode) as f:\n",
    "        i = 0\n",
    "        while True:\n",
    "            line = f.readline()\n",
    "            i += 1\n",
    "            yield line\n",
    "train_file = read_file('../../dataset/personas/user_tag_query.10W.TRAIN.csv')\n",
    "test_file = read_file('../../dataset/personas/user_tag_query.10W.TEST.csv')"
   ]
  },
  {
   "cell_type": "code",
   "execution_count": 39,
   "metadata": {},
   "outputs": [
    {
     "name": "stdout",
     "output_type": "stream",
     "text": [
      "{'encoding': 'ascii', 'confidence': 1.0, 'language': ''}\n",
      "{'encoding': 'GB2312', 'confidence': 0.99, 'language': 'Chinese'}\n"
     ]
    }
   ],
   "source": [
    "import chardet\n",
    "print(chardet.detect(next(train_file)))\n",
    "print(chardet.detect(next(test_file)))"
   ]
  },
  {
   "cell_type": "code",
   "execution_count": 40,
   "metadata": {},
   "outputs": [
    {
     "name": "stdout",
     "output_type": "stream",
     "text": [
      "{'encoding': 'GB2312', 'confidence': 0.99, 'language': 'Chinese'}\n",
      "{'encoding': 'GB2312', 'confidence': 0.99, 'language': 'Chinese'}\n"
     ]
    }
   ],
   "source": [
    "import chardet\n",
    "print(chardet.detect(next(train_file)))\n",
    "print(chardet.detect(next(test_file)))"
   ]
  },
  {
   "cell_type": "markdown",
   "metadata": {},
   "source": [
    "#### 观察文件格式"
   ]
  },
  {
   "cell_type": "code",
   "execution_count": 41,
   "metadata": {},
   "outputs": [
    {
     "data": {
      "text/plain": [
       "'43CC3AF5A8D6430A3B572337A889AFE4,2,1,3,\"广州厨宝烤箱\\t世情薄,人情恶,雨送黄昏花易落,晓风干,泪痕\\t厦门酒店用品批发市场\\t我只是不想让你支付,原谅我的无情,对不起\\t处女座代表的花朵\\t烤鸡胸肉的做法 烤箱\\t不曾忘记,也不曾想起\\t一辈子那么长 一天没走到终点\\t联塑pvc排水管规格表\\t大王椰\\t性格文静是什么意思\\t250ml牛奶用多少克奶粉冲\\t化蝶去寻花 夜夜栖芳草什么意思\\t学会爱自己 才会真正懂得爱1001学会爱自己 \\t福睿斯\\t斗鱼tv\\t厨宝是什么\\t厨宝烤箱\\t禹州城市广场电影院\\t大王棕树图片\\t王棕树图片\\t发酵箱\\t6920882798458\\t我只是不想让你支付,原谅我的无情,对不起10\\t你住的城市下雨了,很想问你有没有带伞 可是\\t250ml牛奶用多少克奶粉\\t烤翅的做法烤箱\\t全脂奶粉泡的比例\\t牛肉怎么炒才嫩\\t厨宝牌是谁的\\t猴配猴的婚姻怎么样\\t可惜没如果mv爱情公寓\\t守不住的才是个笑话\\t犯太岁是什么意思\\t禹州城市广场电影院1001禹州城市广场电影院\\t烤箱什么牌子好\\t全脂奶粉怎么泡\\t红铁人面粉蛋白质含量\\t你走后我却活成你的样子\\t鸡排的做法大全\\t放爱\\t斗鱼直播\\t'"
      ]
     },
     "execution_count": 41,
     "metadata": {},
     "output_type": "execute_result"
    }
   ],
   "source": [
    "next(train_file).decode('GB2312')[:500]"
   ]
  },
  {
   "cell_type": "code",
   "execution_count": 42,
   "metadata": {},
   "outputs": [
    {
     "data": {
      "text/plain": [
       "'CA9F675A024FB2353849350A35CF8B0F\\t黑暗文\\tlpl夏季赛\\t大富豪电玩城\\t英雄联盟之电竞称王\\t手机怎么扫描手机上的二维码\\t重庆重钢老板\\t资阳俊士\\t2016lpl夏季赛积分\\t主角修炼无情道的小说\\t重庆重钢\\t风流小农民艳遇记\\t主角以无情杀戮修炼\\t网店推广\\t2016lpl夏季赛omg是否保级成功\\t成都工商管理学院学费多少 小说\\t手机上怎么扫描二维码\\t全能运动员\\t男主很阴暗残忍的小说\\tvertu手机\\t胸型号\\t中英文在线翻译\\t神秘的性奖励班会小说\\t成都新都龙桥地图\\t薛之谦张婉清\\t网店的开张以及宣传 小说\\t重钢亏六十亿\\t英雄联盟之观战系统\\t人民公敌\\t黑暗文小说\\t主角修魔杀戮小说\\t成都旅游经典\\t史上第一大魔神\\t价格超过十万的手机\\twww6090青苹果影院\\t周星驰多少岁出名\\t薛之谦\\t2016八月中国经济比去年增长多少\\t中英文翻译 小说\\t阿斯顿马丁\\t亵渎\\t主角杀戮无女主小说\\tgood luck什么意思\\tcm朋克ufc首秀\\t新都龙桥自行车\\t演员薛之谦张婉清\\t重庆重钢集团资产多少\\t男主角性格阴暗的小说\\t隐藏分查询\\t最强特种兵之王\\t中国迪士尼乐园在哪个城市\\t主角是反派无女主小说\\t野'"
      ]
     },
     "execution_count": 42,
     "metadata": {},
     "output_type": "execute_result"
    }
   ],
   "source": [
    "next(test_file).decode('GB2312')[:500]"
   ]
  },
  {
   "cell_type": "markdown",
   "metadata": {},
   "source": [
    "#### 文件格式化\n",
    "\n",
    "train_data 是以'，'分隔的标准csv文件\n",
    "\n",
    "test_data 是以空格分开的csv文件，同时QueryList字段内的搜索字段也是以空格分开，故只能按空格分割一次"
   ]
  },
  {
   "cell_type": "markdown",
   "metadata": {},
   "source": [
    "##### 预测集格式化"
   ]
  },
  {
   "cell_type": "code",
   "execution_count": 8,
   "metadata": {},
   "outputs": [
    {
     "name": "stdout",
     "output_type": "stream",
     "text": [
      "文件加载结束\n",
      "\n",
      "文件格式化结束\n"
     ]
    }
   ],
   "source": [
    "import chardet\n",
    "import csv\n",
    "def load_file(file_path):\n",
    "    with open(file_path,encoding='GB2312',errors='ignore') as f:\n",
    "        while True:\n",
    "                line = f.readline()\n",
    "                yield line\n",
    "                if not line:\n",
    "                    print('文件加载结束')\n",
    "                    break\n",
    "def format_and_save_file(file_text, save_file_path,columns=None):       \n",
    "    csv_writer = csv.writer(open(save_file_path, 'w',encoding='utf-8',newline=''))\n",
    "    if columns:\n",
    "        csv_writer.writerow(columns)\n",
    "    while True:\n",
    "        try:\n",
    "            csv_writer.writerow(next(file_text).replace('\\n','').split('\\t',maxsplit=1))\n",
    "        except Exception as e:\n",
    "            print(e)\n",
    "            print('文件格式化结束')\n",
    "            break\n",
    "test_file_text = load_file('../../dataset/personas/user_tag_query.10W.TEST.csv')\n",
    "format_and_save_file(test_file_text, '../../dataset/personas/utf_8_user_tag_query.10W.TEST.csv',['ID','QueryList'])"
   ]
  },
  {
   "cell_type": "markdown",
   "metadata": {},
   "source": [
    "##### 训练集格式化"
   ]
  },
  {
   "cell_type": "code",
   "execution_count": 43,
   "metadata": {},
   "outputs": [],
   "source": [
    "train_file_data  = pd.read_csv('../../dataset/personas/user_tag_query.10W.TRAIN.csv', encoding='gb18030')\n",
    "train_file_data.to_csv('../../dataset/personas/utf_8_user_tag_query.10W.TRAIN.csv', encoding='utf-8', index=False)"
   ]
  },
  {
   "cell_type": "markdown",
   "metadata": {},
   "source": [
    "#### 文件加载"
   ]
  },
  {
   "cell_type": "code",
   "execution_count": 44,
   "metadata": {},
   "outputs": [],
   "source": [
    "train_data  = pd.read_csv('../../dataset/personas/utf_8_user_tag_query.10W.TRAIN.csv')"
   ]
  },
  {
   "cell_type": "code",
   "execution_count": 45,
   "metadata": {},
   "outputs": [],
   "source": [
    "test_data  = pd.read_csv('../../dataset/personas/utf_8_user_tag_query.10W.TEST.csv')"
   ]
  },
  {
   "cell_type": "markdown",
   "metadata": {},
   "source": [
    "### 数据集成"
   ]
  },
  {
   "cell_type": "code",
   "execution_count": 46,
   "metadata": {},
   "outputs": [
    {
     "data": {
      "text/plain": [
       "Index(['ID', 'age', 'Gender', 'Education', 'QueryList'], dtype='object')"
      ]
     },
     "execution_count": 46,
     "metadata": {},
     "output_type": "execute_result"
    }
   ],
   "source": [
    "train_data.columns"
   ]
  },
  {
   "cell_type": "code",
   "execution_count": 47,
   "metadata": {},
   "outputs": [
    {
     "data": {
      "text/html": [
       "<div>\n",
       "<style scoped>\n",
       "    .dataframe tbody tr th:only-of-type {\n",
       "        vertical-align: middle;\n",
       "    }\n",
       "\n",
       "    .dataframe tbody tr th {\n",
       "        vertical-align: top;\n",
       "    }\n",
       "\n",
       "    .dataframe thead th {\n",
       "        text-align: right;\n",
       "    }\n",
       "</style>\n",
       "<table border=\"1\" class=\"dataframe\">\n",
       "  <thead>\n",
       "    <tr style=\"text-align: right;\">\n",
       "      <th></th>\n",
       "      <th>ID</th>\n",
       "      <th>age</th>\n",
       "      <th>Gender</th>\n",
       "      <th>Education</th>\n",
       "      <th>QueryList</th>\n",
       "    </tr>\n",
       "  </thead>\n",
       "  <tbody>\n",
       "    <tr>\n",
       "      <th>0</th>\n",
       "      <td>22DD920316420BE2DF8D6EE651BA174B</td>\n",
       "      <td>1</td>\n",
       "      <td>1</td>\n",
       "      <td>4</td>\n",
       "      <td>柔和双沟\\t女生\\t中财网首页 财经\\thttp://pan.baidu.com/s/1pl...</td>\n",
       "    </tr>\n",
       "    <tr>\n",
       "      <th>1</th>\n",
       "      <td>43CC3AF5A8D6430A3B572337A889AFE4</td>\n",
       "      <td>2</td>\n",
       "      <td>1</td>\n",
       "      <td>3</td>\n",
       "      <td>广州厨宝烤箱\\t世情薄,人情恶,雨送黄昏花易落,晓风干,泪痕\\t厦门酒店用品批发市场\\t我只...</td>\n",
       "    </tr>\n",
       "    <tr>\n",
       "      <th>2</th>\n",
       "      <td>E97654BFF5570E2CCD433EA6128EAC19</td>\n",
       "      <td>4</td>\n",
       "      <td>1</td>\n",
       "      <td>0</td>\n",
       "      <td>钻石之泪耳机\\t盘锦到沈阳\\t旅顺公交\\t辽宁阜新车牌\\tbaidu\\tk715\\tk716...</td>\n",
       "    </tr>\n",
       "    <tr>\n",
       "      <th>3</th>\n",
       "      <td>6931EFC26D229CCFCEA125D3F3C21E57</td>\n",
       "      <td>4</td>\n",
       "      <td>2</td>\n",
       "      <td>3</td>\n",
       "      <td>最受欢迎狗狗排行榜\\t舶怎么读\\t场景描 写范例\\t三维绘图软件\\t枣和酸奶能一起吃吗\\t好...</td>\n",
       "    </tr>\n",
       "    <tr>\n",
       "      <th>4</th>\n",
       "      <td>E780470C3BB0D340334BD08CDCC3C71A</td>\n",
       "      <td>2</td>\n",
       "      <td>2</td>\n",
       "      <td>4</td>\n",
       "      <td>干槽症能自愈吗\\t太太万岁叶舒心去没去美国\\t干槽症\\t右眼皮下面一直跳是怎么回事\\t麦当劳...</td>\n",
       "    </tr>\n",
       "  </tbody>\n",
       "</table>\n",
       "</div>"
      ],
      "text/plain": [
       "                                 ID  age  Gender  Education  \\\n",
       "0  22DD920316420BE2DF8D6EE651BA174B    1       1          4   \n",
       "1  43CC3AF5A8D6430A3B572337A889AFE4    2       1          3   \n",
       "2  E97654BFF5570E2CCD433EA6128EAC19    4       1          0   \n",
       "3  6931EFC26D229CCFCEA125D3F3C21E57    4       2          3   \n",
       "4  E780470C3BB0D340334BD08CDCC3C71A    2       2          4   \n",
       "\n",
       "                                           QueryList  \n",
       "0  柔和双沟\\t女生\\t中财网首页 财经\\thttp://pan.baidu.com/s/1pl...  \n",
       "1  广州厨宝烤箱\\t世情薄,人情恶,雨送黄昏花易落,晓风干,泪痕\\t厦门酒店用品批发市场\\t我只...  \n",
       "2  钻石之泪耳机\\t盘锦到沈阳\\t旅顺公交\\t辽宁阜新车牌\\tbaidu\\tk715\\tk716...  \n",
       "3  最受欢迎狗狗排行榜\\t舶怎么读\\t场景描 写范例\\t三维绘图软件\\t枣和酸奶能一起吃吗\\t好...  \n",
       "4  干槽症能自愈吗\\t太太万岁叶舒心去没去美国\\t干槽症\\t右眼皮下面一直跳是怎么回事\\t麦当劳...  "
      ]
     },
     "execution_count": 47,
     "metadata": {},
     "output_type": "execute_result"
    }
   ],
   "source": [
    "train_data.head()"
   ]
  },
  {
   "cell_type": "code",
   "execution_count": 48,
   "metadata": {},
   "outputs": [
    {
     "data": {
      "text/plain": [
       "Index(['ID', 'QueryList'], dtype='object')"
      ]
     },
     "execution_count": 48,
     "metadata": {},
     "output_type": "execute_result"
    }
   ],
   "source": [
    "test_data.columns"
   ]
  },
  {
   "cell_type": "code",
   "execution_count": 49,
   "metadata": {},
   "outputs": [],
   "source": [
    "data = pd.concat([train_data.reindex(columns=['ID', 'QueryList','age', 'Gender', 'Education']),test_data],sort=False,ignore_index=True)"
   ]
  },
  {
   "cell_type": "code",
   "execution_count": 50,
   "metadata": {},
   "outputs": [
    {
     "data": {
      "text/plain": [
       "(199832, 5)"
      ]
     },
     "execution_count": 50,
     "metadata": {},
     "output_type": "execute_result"
    }
   ],
   "source": [
    "data.shape"
   ]
  },
  {
   "cell_type": "code",
   "execution_count": 51,
   "metadata": {},
   "outputs": [
    {
     "data": {
      "text/html": [
       "<div>\n",
       "<style scoped>\n",
       "    .dataframe tbody tr th:only-of-type {\n",
       "        vertical-align: middle;\n",
       "    }\n",
       "\n",
       "    .dataframe tbody tr th {\n",
       "        vertical-align: top;\n",
       "    }\n",
       "\n",
       "    .dataframe thead th {\n",
       "        text-align: right;\n",
       "    }\n",
       "</style>\n",
       "<table border=\"1\" class=\"dataframe\">\n",
       "  <thead>\n",
       "    <tr style=\"text-align: right;\">\n",
       "      <th></th>\n",
       "      <th>ID</th>\n",
       "      <th>QueryList</th>\n",
       "      <th>age</th>\n",
       "      <th>Gender</th>\n",
       "      <th>Education</th>\n",
       "    </tr>\n",
       "  </thead>\n",
       "  <tbody>\n",
       "    <tr>\n",
       "      <th>0</th>\n",
       "      <td>22DD920316420BE2DF8D6EE651BA174B</td>\n",
       "      <td>柔和双沟\\t女生\\t中财网首页 财经\\thttp://pan.baidu.com/s/1pl...</td>\n",
       "      <td>1.0</td>\n",
       "      <td>1.0</td>\n",
       "      <td>4.0</td>\n",
       "    </tr>\n",
       "    <tr>\n",
       "      <th>1</th>\n",
       "      <td>43CC3AF5A8D6430A3B572337A889AFE4</td>\n",
       "      <td>广州厨宝烤箱\\t世情薄,人情恶,雨送黄昏花易落,晓风干,泪痕\\t厦门酒店用品批发市场\\t我只...</td>\n",
       "      <td>2.0</td>\n",
       "      <td>1.0</td>\n",
       "      <td>3.0</td>\n",
       "    </tr>\n",
       "    <tr>\n",
       "      <th>2</th>\n",
       "      <td>E97654BFF5570E2CCD433EA6128EAC19</td>\n",
       "      <td>钻石之泪耳机\\t盘锦到沈阳\\t旅顺公交\\t辽宁阜新车牌\\tbaidu\\tk715\\tk716...</td>\n",
       "      <td>4.0</td>\n",
       "      <td>1.0</td>\n",
       "      <td>0.0</td>\n",
       "    </tr>\n",
       "    <tr>\n",
       "      <th>3</th>\n",
       "      <td>6931EFC26D229CCFCEA125D3F3C21E57</td>\n",
       "      <td>最受欢迎狗狗排行榜\\t舶怎么读\\t场景描 写范例\\t三维绘图软件\\t枣和酸奶能一起吃吗\\t好...</td>\n",
       "      <td>4.0</td>\n",
       "      <td>2.0</td>\n",
       "      <td>3.0</td>\n",
       "    </tr>\n",
       "    <tr>\n",
       "      <th>4</th>\n",
       "      <td>E780470C3BB0D340334BD08CDCC3C71A</td>\n",
       "      <td>干槽症能自愈吗\\t太太万岁叶舒心去没去美国\\t干槽症\\t右眼皮下面一直跳是怎么回事\\t麦当劳...</td>\n",
       "      <td>2.0</td>\n",
       "      <td>2.0</td>\n",
       "      <td>4.0</td>\n",
       "    </tr>\n",
       "  </tbody>\n",
       "</table>\n",
       "</div>"
      ],
      "text/plain": [
       "                                 ID  \\\n",
       "0  22DD920316420BE2DF8D6EE651BA174B   \n",
       "1  43CC3AF5A8D6430A3B572337A889AFE4   \n",
       "2  E97654BFF5570E2CCD433EA6128EAC19   \n",
       "3  6931EFC26D229CCFCEA125D3F3C21E57   \n",
       "4  E780470C3BB0D340334BD08CDCC3C71A   \n",
       "\n",
       "                                           QueryList  age  Gender  Education  \n",
       "0  柔和双沟\\t女生\\t中财网首页 财经\\thttp://pan.baidu.com/s/1pl...  1.0     1.0        4.0  \n",
       "1  广州厨宝烤箱\\t世情薄,人情恶,雨送黄昏花易落,晓风干,泪痕\\t厦门酒店用品批发市场\\t我只...  2.0     1.0        3.0  \n",
       "2  钻石之泪耳机\\t盘锦到沈阳\\t旅顺公交\\t辽宁阜新车牌\\tbaidu\\tk715\\tk716...  4.0     1.0        0.0  \n",
       "3  最受欢迎狗狗排行榜\\t舶怎么读\\t场景描 写范例\\t三维绘图软件\\t枣和酸奶能一起吃吗\\t好...  4.0     2.0        3.0  \n",
       "4  干槽症能自愈吗\\t太太万岁叶舒心去没去美国\\t干槽症\\t右眼皮下面一直跳是怎么回事\\t麦当劳...  2.0     2.0        4.0  "
      ]
     },
     "execution_count": 51,
     "metadata": {},
     "output_type": "execute_result"
    }
   ],
   "source": [
    "data.head()"
   ]
  },
  {
   "cell_type": "code",
   "execution_count": 52,
   "metadata": {},
   "outputs": [
    {
     "data": {
      "text/html": [
       "<div>\n",
       "<style scoped>\n",
       "    .dataframe tbody tr th:only-of-type {\n",
       "        vertical-align: middle;\n",
       "    }\n",
       "\n",
       "    .dataframe tbody tr th {\n",
       "        vertical-align: top;\n",
       "    }\n",
       "\n",
       "    .dataframe thead th {\n",
       "        text-align: right;\n",
       "    }\n",
       "</style>\n",
       "<table border=\"1\" class=\"dataframe\">\n",
       "  <thead>\n",
       "    <tr style=\"text-align: right;\">\n",
       "      <th></th>\n",
       "      <th>ID</th>\n",
       "      <th>QueryList</th>\n",
       "      <th>age</th>\n",
       "      <th>Gender</th>\n",
       "      <th>Education</th>\n",
       "    </tr>\n",
       "  </thead>\n",
       "  <tbody>\n",
       "    <tr>\n",
       "      <th>199827</th>\n",
       "      <td>4AB983FE74DCB5B04FA0A8CE7779E2EC</td>\n",
       "      <td>东北一家人沈腾\\t叶小白有关的小说\\t姚启圣\\t李小狼\\t七煌老板孙博文\\t珠海鸿景花园\\t...</td>\n",
       "      <td>NaN</td>\n",
       "      <td>NaN</td>\n",
       "      <td>NaN</td>\n",
       "    </tr>\n",
       "    <tr>\n",
       "      <th>199828</th>\n",
       "      <td>8FCE58D7DA890DF4F6365283E02F936D</td>\n",
       "      <td>沈阳天士力药房\\t儿童支气管炎\\t肺炎10天点滴还咳嗽\\t熊岳虹吸谷\\t过敏性咳嗽\\t饭团子...</td>\n",
       "      <td>NaN</td>\n",
       "      <td>NaN</td>\n",
       "      <td>NaN</td>\n",
       "    </tr>\n",
       "    <tr>\n",
       "      <th>199829</th>\n",
       "      <td>0821784C7EFD4FC3C96FE8EE52989551</td>\n",
       "      <td>乡村小神医\\t脸上各种斑图片及名称\\t猕猴桃是热性还是凉性\\t梦见外公又死了\\t离婚了你还爱...</td>\n",
       "      <td>NaN</td>\n",
       "      <td>NaN</td>\n",
       "      <td>NaN</td>\n",
       "    </tr>\n",
       "    <tr>\n",
       "      <th>199830</th>\n",
       "      <td>BF98531D782D4C31CC26202081E71E4B</td>\n",
       "      <td>经营策略分析\\t经营组织论第一节\\t腾讯微博\\t盛世光年婚礼视频优酷\\ttopik等级划分\\...</td>\n",
       "      <td>NaN</td>\n",
       "      <td>NaN</td>\n",
       "      <td>NaN</td>\n",
       "    </tr>\n",
       "    <tr>\n",
       "      <th>199831</th>\n",
       "      <td>NaN</td>\n",
       "      <td>NaN</td>\n",
       "      <td>NaN</td>\n",
       "      <td>NaN</td>\n",
       "      <td>NaN</td>\n",
       "    </tr>\n",
       "  </tbody>\n",
       "</table>\n",
       "</div>"
      ],
      "text/plain": [
       "                                      ID  \\\n",
       "199827  4AB983FE74DCB5B04FA0A8CE7779E2EC   \n",
       "199828  8FCE58D7DA890DF4F6365283E02F936D   \n",
       "199829  0821784C7EFD4FC3C96FE8EE52989551   \n",
       "199830  BF98531D782D4C31CC26202081E71E4B   \n",
       "199831                               NaN   \n",
       "\n",
       "                                                QueryList  age  Gender  \\\n",
       "199827  东北一家人沈腾\\t叶小白有关的小说\\t姚启圣\\t李小狼\\t七煌老板孙博文\\t珠海鸿景花园\\t...  NaN     NaN   \n",
       "199828  沈阳天士力药房\\t儿童支气管炎\\t肺炎10天点滴还咳嗽\\t熊岳虹吸谷\\t过敏性咳嗽\\t饭团子...  NaN     NaN   \n",
       "199829  乡村小神医\\t脸上各种斑图片及名称\\t猕猴桃是热性还是凉性\\t梦见外公又死了\\t离婚了你还爱...  NaN     NaN   \n",
       "199830  经营策略分析\\t经营组织论第一节\\t腾讯微博\\t盛世光年婚礼视频优酷\\ttopik等级划分\\...  NaN     NaN   \n",
       "199831                                                NaN  NaN     NaN   \n",
       "\n",
       "        Education  \n",
       "199827        NaN  \n",
       "199828        NaN  \n",
       "199829        NaN  \n",
       "199830        NaN  \n",
       "199831        NaN  "
      ]
     },
     "execution_count": 52,
     "metadata": {},
     "output_type": "execute_result"
    }
   ],
   "source": [
    "data.tail()"
   ]
  },
  {
   "cell_type": "code",
   "execution_count": 53,
   "metadata": {},
   "outputs": [
    {
     "data": {
      "text/html": [
       "<div>\n",
       "<style scoped>\n",
       "    .dataframe tbody tr th:only-of-type {\n",
       "        vertical-align: middle;\n",
       "    }\n",
       "\n",
       "    .dataframe tbody tr th {\n",
       "        vertical-align: top;\n",
       "    }\n",
       "\n",
       "    .dataframe thead th {\n",
       "        text-align: right;\n",
       "    }\n",
       "</style>\n",
       "<table border=\"1\" class=\"dataframe\">\n",
       "  <thead>\n",
       "    <tr style=\"text-align: right;\">\n",
       "      <th></th>\n",
       "      <th>ID</th>\n",
       "      <th>QueryList</th>\n",
       "      <th>age</th>\n",
       "      <th>Gender</th>\n",
       "      <th>Education</th>\n",
       "    </tr>\n",
       "  </thead>\n",
       "  <tbody>\n",
       "    <tr>\n",
       "      <th>199826</th>\n",
       "      <td>B4D8E2DA560327C4D6F5D66CEB451209</td>\n",
       "      <td>安乃近\\t大太平\\t温秀 造句\\t似乎造句\\t若是\\t无声之手\\t洋葱\\t不过\\t清吉太平\\...</td>\n",
       "      <td>NaN</td>\n",
       "      <td>NaN</td>\n",
       "      <td>NaN</td>\n",
       "    </tr>\n",
       "    <tr>\n",
       "      <th>199827</th>\n",
       "      <td>4AB983FE74DCB5B04FA0A8CE7779E2EC</td>\n",
       "      <td>东北一家人沈腾\\t叶小白有关的小说\\t姚启圣\\t李小狼\\t七煌老板孙博文\\t珠海鸿景花园\\t...</td>\n",
       "      <td>NaN</td>\n",
       "      <td>NaN</td>\n",
       "      <td>NaN</td>\n",
       "    </tr>\n",
       "    <tr>\n",
       "      <th>199828</th>\n",
       "      <td>8FCE58D7DA890DF4F6365283E02F936D</td>\n",
       "      <td>沈阳天士力药房\\t儿童支气管炎\\t肺炎10天点滴还咳嗽\\t熊岳虹吸谷\\t过敏性咳嗽\\t饭团子...</td>\n",
       "      <td>NaN</td>\n",
       "      <td>NaN</td>\n",
       "      <td>NaN</td>\n",
       "    </tr>\n",
       "    <tr>\n",
       "      <th>199829</th>\n",
       "      <td>0821784C7EFD4FC3C96FE8EE52989551</td>\n",
       "      <td>乡村小神医\\t脸上各种斑图片及名称\\t猕猴桃是热性还是凉性\\t梦见外公又死了\\t离婚了你还爱...</td>\n",
       "      <td>NaN</td>\n",
       "      <td>NaN</td>\n",
       "      <td>NaN</td>\n",
       "    </tr>\n",
       "    <tr>\n",
       "      <th>199830</th>\n",
       "      <td>BF98531D782D4C31CC26202081E71E4B</td>\n",
       "      <td>经营策略分析\\t经营组织论第一节\\t腾讯微博\\t盛世光年婚礼视频优酷\\ttopik等级划分\\...</td>\n",
       "      <td>NaN</td>\n",
       "      <td>NaN</td>\n",
       "      <td>NaN</td>\n",
       "    </tr>\n",
       "  </tbody>\n",
       "</table>\n",
       "</div>"
      ],
      "text/plain": [
       "                                      ID  \\\n",
       "199826  B4D8E2DA560327C4D6F5D66CEB451209   \n",
       "199827  4AB983FE74DCB5B04FA0A8CE7779E2EC   \n",
       "199828  8FCE58D7DA890DF4F6365283E02F936D   \n",
       "199829  0821784C7EFD4FC3C96FE8EE52989551   \n",
       "199830  BF98531D782D4C31CC26202081E71E4B   \n",
       "\n",
       "                                                QueryList  age  Gender  \\\n",
       "199826  安乃近\\t大太平\\t温秀 造句\\t似乎造句\\t若是\\t无声之手\\t洋葱\\t不过\\t清吉太平\\...  NaN     NaN   \n",
       "199827  东北一家人沈腾\\t叶小白有关的小说\\t姚启圣\\t李小狼\\t七煌老板孙博文\\t珠海鸿景花园\\t...  NaN     NaN   \n",
       "199828  沈阳天士力药房\\t儿童支气管炎\\t肺炎10天点滴还咳嗽\\t熊岳虹吸谷\\t过敏性咳嗽\\t饭团子...  NaN     NaN   \n",
       "199829  乡村小神医\\t脸上各种斑图片及名称\\t猕猴桃是热性还是凉性\\t梦见外公又死了\\t离婚了你还爱...  NaN     NaN   \n",
       "199830  经营策略分析\\t经营组织论第一节\\t腾讯微博\\t盛世光年婚礼视频优酷\\ttopik等级划分\\...  NaN     NaN   \n",
       "\n",
       "        Education  \n",
       "199826        NaN  \n",
       "199827        NaN  \n",
       "199828        NaN  \n",
       "199829        NaN  \n",
       "199830        NaN  "
      ]
     },
     "execution_count": 53,
     "metadata": {},
     "output_type": "execute_result"
    }
   ],
   "source": [
    "data.drop(199831, inplace=True)\n",
    "data.tail()"
   ]
  },
  {
   "cell_type": "markdown",
   "metadata": {},
   "source": [
    "### 数据观察"
   ]
  },
  {
   "cell_type": "markdown",
   "metadata": {},
   "source": [
    "#### 数据规模"
   ]
  },
  {
   "cell_type": "code",
   "execution_count": 54,
   "metadata": {},
   "outputs": [
    {
     "data": {
      "text/plain": [
       "(199831, 5)"
      ]
     },
     "execution_count": 54,
     "metadata": {},
     "output_type": "execute_result"
    }
   ],
   "source": [
    "data.shape"
   ]
  },
  {
   "cell_type": "code",
   "execution_count": 55,
   "metadata": {},
   "outputs": [
    {
     "data": {
      "text/plain": [
       "(99831, 5)"
      ]
     },
     "execution_count": 55,
     "metadata": {},
     "output_type": "execute_result"
    }
   ],
   "source": [
    "train_data.shape"
   ]
  },
  {
   "cell_type": "code",
   "execution_count": 56,
   "metadata": {},
   "outputs": [
    {
     "data": {
      "text/plain": [
       "(100001, 2)"
      ]
     },
     "execution_count": 56,
     "metadata": {},
     "output_type": "execute_result"
    }
   ],
   "source": [
    "test_data.shape"
   ]
  },
  {
   "cell_type": "markdown",
   "metadata": {},
   "source": [
    "#### 数据字段"
   ]
  },
  {
   "cell_type": "code",
   "execution_count": 57,
   "metadata": {},
   "outputs": [
    {
     "data": {
      "text/plain": [
       "Index(['ID', 'age', 'Gender', 'Education', 'QueryList'], dtype='object')"
      ]
     },
     "execution_count": 57,
     "metadata": {},
     "output_type": "execute_result"
    }
   ],
   "source": [
    "train_data.columns"
   ]
  },
  {
   "cell_type": "code",
   "execution_count": 58,
   "metadata": {},
   "outputs": [
    {
     "data": {
      "text/plain": [
       "Index(['ID', 'QueryList'], dtype='object')"
      ]
     },
     "execution_count": 58,
     "metadata": {},
     "output_type": "execute_result"
    }
   ],
   "source": [
    "test_data.columns"
   ]
  },
  {
   "cell_type": "code",
   "execution_count": 59,
   "metadata": {},
   "outputs": [
    {
     "data": {
      "text/plain": [
       "Index(['ID', 'QueryList', 'age', 'Gender', 'Education'], dtype='object')"
      ]
     },
     "execution_count": 59,
     "metadata": {},
     "output_type": "execute_result"
    }
   ],
   "source": [
    "data.columns"
   ]
  },
  {
   "cell_type": "markdown",
   "metadata": {},
   "source": [
    "#### 数据描述性统计"
   ]
  },
  {
   "cell_type": "code",
   "execution_count": 60,
   "metadata": {},
   "outputs": [
    {
     "name": "stdout",
     "output_type": "stream",
     "text": [
      "<class 'pandas.core.frame.DataFrame'>\n",
      "Int64Index: 199831 entries, 0 to 199830\n",
      "Data columns (total 5 columns):\n",
      "ID           199831 non-null object\n",
      "QueryList    199831 non-null object\n",
      "age          99831 non-null float64\n",
      "Gender       99831 non-null float64\n",
      "Education    99831 non-null float64\n",
      "dtypes: float64(3), object(2)\n",
      "memory usage: 9.1+ MB\n"
     ]
    }
   ],
   "source": [
    "data.info()"
   ]
  },
  {
   "cell_type": "code",
   "execution_count": 61,
   "metadata": {},
   "outputs": [
    {
     "name": "stdout",
     "output_type": "stream",
     "text": [
      "<class 'pandas.core.frame.DataFrame'>\n",
      "RangeIndex: 99831 entries, 0 to 99830\n",
      "Data columns (total 5 columns):\n",
      "ID           99831 non-null object\n",
      "age          99831 non-null int64\n",
      "Gender       99831 non-null int64\n",
      "Education    99831 non-null int64\n",
      "QueryList    99831 non-null object\n",
      "dtypes: int64(3), object(2)\n",
      "memory usage: 3.8+ MB\n"
     ]
    }
   ],
   "source": [
    "train_data.info()"
   ]
  },
  {
   "cell_type": "code",
   "execution_count": 62,
   "metadata": {},
   "outputs": [
    {
     "name": "stdout",
     "output_type": "stream",
     "text": [
      "<class 'pandas.core.frame.DataFrame'>\n",
      "RangeIndex: 100001 entries, 0 to 100000\n",
      "Data columns (total 2 columns):\n",
      "ID           100000 non-null object\n",
      "QueryList    100000 non-null object\n",
      "dtypes: object(2)\n",
      "memory usage: 1.5+ MB\n"
     ]
    }
   ],
   "source": [
    "test_data.info()"
   ]
  },
  {
   "cell_type": "code",
   "execution_count": 63,
   "metadata": {
    "scrolled": true
   },
   "outputs": [
    {
     "data": {
      "text/html": [
       "<div>\n",
       "<style scoped>\n",
       "    .dataframe tbody tr th:only-of-type {\n",
       "        vertical-align: middle;\n",
       "    }\n",
       "\n",
       "    .dataframe tbody tr th {\n",
       "        vertical-align: top;\n",
       "    }\n",
       "\n",
       "    .dataframe thead th {\n",
       "        text-align: right;\n",
       "    }\n",
       "</style>\n",
       "<table border=\"1\" class=\"dataframe\">\n",
       "  <thead>\n",
       "    <tr style=\"text-align: right;\">\n",
       "      <th></th>\n",
       "      <th>age</th>\n",
       "      <th>Gender</th>\n",
       "      <th>Education</th>\n",
       "    </tr>\n",
       "  </thead>\n",
       "  <tbody>\n",
       "    <tr>\n",
       "      <th>count</th>\n",
       "      <td>99831.000000</td>\n",
       "      <td>99831.000000</td>\n",
       "      <td>99831.000000</td>\n",
       "    </tr>\n",
       "    <tr>\n",
       "      <th>mean</th>\n",
       "      <td>2.082089</td>\n",
       "      <td>1.387184</td>\n",
       "      <td>3.903547</td>\n",
       "    </tr>\n",
       "    <tr>\n",
       "      <th>std</th>\n",
       "      <td>1.184173</td>\n",
       "      <td>0.529536</td>\n",
       "      <td>1.521979</td>\n",
       "    </tr>\n",
       "    <tr>\n",
       "      <th>min</th>\n",
       "      <td>0.000000</td>\n",
       "      <td>0.000000</td>\n",
       "      <td>0.000000</td>\n",
       "    </tr>\n",
       "    <tr>\n",
       "      <th>25%</th>\n",
       "      <td>1.000000</td>\n",
       "      <td>1.000000</td>\n",
       "      <td>3.000000</td>\n",
       "    </tr>\n",
       "    <tr>\n",
       "      <th>50%</th>\n",
       "      <td>2.000000</td>\n",
       "      <td>1.000000</td>\n",
       "      <td>4.000000</td>\n",
       "    </tr>\n",
       "    <tr>\n",
       "      <th>75%</th>\n",
       "      <td>3.000000</td>\n",
       "      <td>2.000000</td>\n",
       "      <td>5.000000</td>\n",
       "    </tr>\n",
       "    <tr>\n",
       "      <th>max</th>\n",
       "      <td>6.000000</td>\n",
       "      <td>2.000000</td>\n",
       "      <td>6.000000</td>\n",
       "    </tr>\n",
       "  </tbody>\n",
       "</table>\n",
       "</div>"
      ],
      "text/plain": [
       "                age        Gender     Education\n",
       "count  99831.000000  99831.000000  99831.000000\n",
       "mean       2.082089      1.387184      3.903547\n",
       "std        1.184173      0.529536      1.521979\n",
       "min        0.000000      0.000000      0.000000\n",
       "25%        1.000000      1.000000      3.000000\n",
       "50%        2.000000      1.000000      4.000000\n",
       "75%        3.000000      2.000000      5.000000\n",
       "max        6.000000      2.000000      6.000000"
      ]
     },
     "execution_count": 63,
     "metadata": {},
     "output_type": "execute_result"
    }
   ],
   "source": [
    "train_data.describe()"
   ]
  },
  {
   "cell_type": "markdown",
   "metadata": {},
   "source": [
    "#### 数据前后几条信息"
   ]
  },
  {
   "cell_type": "code",
   "execution_count": 64,
   "metadata": {},
   "outputs": [
    {
     "data": {
      "text/html": [
       "<div>\n",
       "<style scoped>\n",
       "    .dataframe tbody tr th:only-of-type {\n",
       "        vertical-align: middle;\n",
       "    }\n",
       "\n",
       "    .dataframe tbody tr th {\n",
       "        vertical-align: top;\n",
       "    }\n",
       "\n",
       "    .dataframe thead th {\n",
       "        text-align: right;\n",
       "    }\n",
       "</style>\n",
       "<table border=\"1\" class=\"dataframe\">\n",
       "  <thead>\n",
       "    <tr style=\"text-align: right;\">\n",
       "      <th></th>\n",
       "      <th>ID</th>\n",
       "      <th>QueryList</th>\n",
       "      <th>age</th>\n",
       "      <th>Gender</th>\n",
       "      <th>Education</th>\n",
       "    </tr>\n",
       "  </thead>\n",
       "  <tbody>\n",
       "    <tr>\n",
       "      <th>0</th>\n",
       "      <td>22DD920316420BE2DF8D6EE651BA174B</td>\n",
       "      <td>柔和双沟\\t女生\\t中财网首页 财经\\thttp://pan.baidu.com/s/1pl...</td>\n",
       "      <td>1.0</td>\n",
       "      <td>1.0</td>\n",
       "      <td>4.0</td>\n",
       "    </tr>\n",
       "    <tr>\n",
       "      <th>1</th>\n",
       "      <td>43CC3AF5A8D6430A3B572337A889AFE4</td>\n",
       "      <td>广州厨宝烤箱\\t世情薄,人情恶,雨送黄昏花易落,晓风干,泪痕\\t厦门酒店用品批发市场\\t我只...</td>\n",
       "      <td>2.0</td>\n",
       "      <td>1.0</td>\n",
       "      <td>3.0</td>\n",
       "    </tr>\n",
       "    <tr>\n",
       "      <th>2</th>\n",
       "      <td>E97654BFF5570E2CCD433EA6128EAC19</td>\n",
       "      <td>钻石之泪耳机\\t盘锦到沈阳\\t旅顺公交\\t辽宁阜新车牌\\tbaidu\\tk715\\tk716...</td>\n",
       "      <td>4.0</td>\n",
       "      <td>1.0</td>\n",
       "      <td>0.0</td>\n",
       "    </tr>\n",
       "    <tr>\n",
       "      <th>3</th>\n",
       "      <td>6931EFC26D229CCFCEA125D3F3C21E57</td>\n",
       "      <td>最受欢迎狗狗排行榜\\t舶怎么读\\t场景描 写范例\\t三维绘图软件\\t枣和酸奶能一起吃吗\\t好...</td>\n",
       "      <td>4.0</td>\n",
       "      <td>2.0</td>\n",
       "      <td>3.0</td>\n",
       "    </tr>\n",
       "    <tr>\n",
       "      <th>4</th>\n",
       "      <td>E780470C3BB0D340334BD08CDCC3C71A</td>\n",
       "      <td>干槽症能自愈吗\\t太太万岁叶舒心去没去美国\\t干槽症\\t右眼皮下面一直跳是怎么回事\\t麦当劳...</td>\n",
       "      <td>2.0</td>\n",
       "      <td>2.0</td>\n",
       "      <td>4.0</td>\n",
       "    </tr>\n",
       "  </tbody>\n",
       "</table>\n",
       "</div>"
      ],
      "text/plain": [
       "                                 ID  \\\n",
       "0  22DD920316420BE2DF8D6EE651BA174B   \n",
       "1  43CC3AF5A8D6430A3B572337A889AFE4   \n",
       "2  E97654BFF5570E2CCD433EA6128EAC19   \n",
       "3  6931EFC26D229CCFCEA125D3F3C21E57   \n",
       "4  E780470C3BB0D340334BD08CDCC3C71A   \n",
       "\n",
       "                                           QueryList  age  Gender  Education  \n",
       "0  柔和双沟\\t女生\\t中财网首页 财经\\thttp://pan.baidu.com/s/1pl...  1.0     1.0        4.0  \n",
       "1  广州厨宝烤箱\\t世情薄,人情恶,雨送黄昏花易落,晓风干,泪痕\\t厦门酒店用品批发市场\\t我只...  2.0     1.0        3.0  \n",
       "2  钻石之泪耳机\\t盘锦到沈阳\\t旅顺公交\\t辽宁阜新车牌\\tbaidu\\tk715\\tk716...  4.0     1.0        0.0  \n",
       "3  最受欢迎狗狗排行榜\\t舶怎么读\\t场景描 写范例\\t三维绘图软件\\t枣和酸奶能一起吃吗\\t好...  4.0     2.0        3.0  \n",
       "4  干槽症能自愈吗\\t太太万岁叶舒心去没去美国\\t干槽症\\t右眼皮下面一直跳是怎么回事\\t麦当劳...  2.0     2.0        4.0  "
      ]
     },
     "execution_count": 64,
     "metadata": {},
     "output_type": "execute_result"
    }
   ],
   "source": [
    "data.head()"
   ]
  },
  {
   "cell_type": "code",
   "execution_count": 65,
   "metadata": {},
   "outputs": [
    {
     "data": {
      "text/html": [
       "<div>\n",
       "<style scoped>\n",
       "    .dataframe tbody tr th:only-of-type {\n",
       "        vertical-align: middle;\n",
       "    }\n",
       "\n",
       "    .dataframe tbody tr th {\n",
       "        vertical-align: top;\n",
       "    }\n",
       "\n",
       "    .dataframe thead th {\n",
       "        text-align: right;\n",
       "    }\n",
       "</style>\n",
       "<table border=\"1\" class=\"dataframe\">\n",
       "  <thead>\n",
       "    <tr style=\"text-align: right;\">\n",
       "      <th></th>\n",
       "      <th>ID</th>\n",
       "      <th>QueryList</th>\n",
       "      <th>age</th>\n",
       "      <th>Gender</th>\n",
       "      <th>Education</th>\n",
       "    </tr>\n",
       "  </thead>\n",
       "  <tbody>\n",
       "    <tr>\n",
       "      <th>199826</th>\n",
       "      <td>B4D8E2DA560327C4D6F5D66CEB451209</td>\n",
       "      <td>安乃近\\t大太平\\t温秀 造句\\t似乎造句\\t若是\\t无声之手\\t洋葱\\t不过\\t清吉太平\\...</td>\n",
       "      <td>NaN</td>\n",
       "      <td>NaN</td>\n",
       "      <td>NaN</td>\n",
       "    </tr>\n",
       "    <tr>\n",
       "      <th>199827</th>\n",
       "      <td>4AB983FE74DCB5B04FA0A8CE7779E2EC</td>\n",
       "      <td>东北一家人沈腾\\t叶小白有关的小说\\t姚启圣\\t李小狼\\t七煌老板孙博文\\t珠海鸿景花园\\t...</td>\n",
       "      <td>NaN</td>\n",
       "      <td>NaN</td>\n",
       "      <td>NaN</td>\n",
       "    </tr>\n",
       "    <tr>\n",
       "      <th>199828</th>\n",
       "      <td>8FCE58D7DA890DF4F6365283E02F936D</td>\n",
       "      <td>沈阳天士力药房\\t儿童支气管炎\\t肺炎10天点滴还咳嗽\\t熊岳虹吸谷\\t过敏性咳嗽\\t饭团子...</td>\n",
       "      <td>NaN</td>\n",
       "      <td>NaN</td>\n",
       "      <td>NaN</td>\n",
       "    </tr>\n",
       "    <tr>\n",
       "      <th>199829</th>\n",
       "      <td>0821784C7EFD4FC3C96FE8EE52989551</td>\n",
       "      <td>乡村小神医\\t脸上各种斑图片及名称\\t猕猴桃是热性还是凉性\\t梦见外公又死了\\t离婚了你还爱...</td>\n",
       "      <td>NaN</td>\n",
       "      <td>NaN</td>\n",
       "      <td>NaN</td>\n",
       "    </tr>\n",
       "    <tr>\n",
       "      <th>199830</th>\n",
       "      <td>BF98531D782D4C31CC26202081E71E4B</td>\n",
       "      <td>经营策略分析\\t经营组织论第一节\\t腾讯微博\\t盛世光年婚礼视频优酷\\ttopik等级划分\\...</td>\n",
       "      <td>NaN</td>\n",
       "      <td>NaN</td>\n",
       "      <td>NaN</td>\n",
       "    </tr>\n",
       "  </tbody>\n",
       "</table>\n",
       "</div>"
      ],
      "text/plain": [
       "                                      ID  \\\n",
       "199826  B4D8E2DA560327C4D6F5D66CEB451209   \n",
       "199827  4AB983FE74DCB5B04FA0A8CE7779E2EC   \n",
       "199828  8FCE58D7DA890DF4F6365283E02F936D   \n",
       "199829  0821784C7EFD4FC3C96FE8EE52989551   \n",
       "199830  BF98531D782D4C31CC26202081E71E4B   \n",
       "\n",
       "                                                QueryList  age  Gender  \\\n",
       "199826  安乃近\\t大太平\\t温秀 造句\\t似乎造句\\t若是\\t无声之手\\t洋葱\\t不过\\t清吉太平\\...  NaN     NaN   \n",
       "199827  东北一家人沈腾\\t叶小白有关的小说\\t姚启圣\\t李小狼\\t七煌老板孙博文\\t珠海鸿景花园\\t...  NaN     NaN   \n",
       "199828  沈阳天士力药房\\t儿童支气管炎\\t肺炎10天点滴还咳嗽\\t熊岳虹吸谷\\t过敏性咳嗽\\t饭团子...  NaN     NaN   \n",
       "199829  乡村小神医\\t脸上各种斑图片及名称\\t猕猴桃是热性还是凉性\\t梦见外公又死了\\t离婚了你还爱...  NaN     NaN   \n",
       "199830  经营策略分析\\t经营组织论第一节\\t腾讯微博\\t盛世光年婚礼视频优酷\\ttopik等级划分\\...  NaN     NaN   \n",
       "\n",
       "        Education  \n",
       "199826        NaN  \n",
       "199827        NaN  \n",
       "199828        NaN  \n",
       "199829        NaN  \n",
       "199830        NaN  "
      ]
     },
     "execution_count": 65,
     "metadata": {},
     "output_type": "execute_result"
    }
   ],
   "source": [
    "data.tail()"
   ]
  },
  {
   "cell_type": "code",
   "execution_count": 66,
   "metadata": {},
   "outputs": [
    {
     "data": {
      "text/html": [
       "<div>\n",
       "<style scoped>\n",
       "    .dataframe tbody tr th:only-of-type {\n",
       "        vertical-align: middle;\n",
       "    }\n",
       "\n",
       "    .dataframe tbody tr th {\n",
       "        vertical-align: top;\n",
       "    }\n",
       "\n",
       "    .dataframe thead th {\n",
       "        text-align: right;\n",
       "    }\n",
       "</style>\n",
       "<table border=\"1\" class=\"dataframe\">\n",
       "  <thead>\n",
       "    <tr style=\"text-align: right;\">\n",
       "      <th></th>\n",
       "      <th>ID</th>\n",
       "      <th>age</th>\n",
       "      <th>Gender</th>\n",
       "      <th>Education</th>\n",
       "      <th>QueryList</th>\n",
       "    </tr>\n",
       "  </thead>\n",
       "  <tbody>\n",
       "    <tr>\n",
       "      <th>0</th>\n",
       "      <td>22DD920316420BE2DF8D6EE651BA174B</td>\n",
       "      <td>1</td>\n",
       "      <td>1</td>\n",
       "      <td>4</td>\n",
       "      <td>柔和双沟\\t女生\\t中财网首页 财经\\thttp://pan.baidu.com/s/1pl...</td>\n",
       "    </tr>\n",
       "    <tr>\n",
       "      <th>1</th>\n",
       "      <td>43CC3AF5A8D6430A3B572337A889AFE4</td>\n",
       "      <td>2</td>\n",
       "      <td>1</td>\n",
       "      <td>3</td>\n",
       "      <td>广州厨宝烤箱\\t世情薄,人情恶,雨送黄昏花易落,晓风干,泪痕\\t厦门酒店用品批发市场\\t我只...</td>\n",
       "    </tr>\n",
       "    <tr>\n",
       "      <th>2</th>\n",
       "      <td>E97654BFF5570E2CCD433EA6128EAC19</td>\n",
       "      <td>4</td>\n",
       "      <td>1</td>\n",
       "      <td>0</td>\n",
       "      <td>钻石之泪耳机\\t盘锦到沈阳\\t旅顺公交\\t辽宁阜新车牌\\tbaidu\\tk715\\tk716...</td>\n",
       "    </tr>\n",
       "    <tr>\n",
       "      <th>3</th>\n",
       "      <td>6931EFC26D229CCFCEA125D3F3C21E57</td>\n",
       "      <td>4</td>\n",
       "      <td>2</td>\n",
       "      <td>3</td>\n",
       "      <td>最受欢迎狗狗排行榜\\t舶怎么读\\t场景描 写范例\\t三维绘图软件\\t枣和酸奶能一起吃吗\\t好...</td>\n",
       "    </tr>\n",
       "    <tr>\n",
       "      <th>4</th>\n",
       "      <td>E780470C3BB0D340334BD08CDCC3C71A</td>\n",
       "      <td>2</td>\n",
       "      <td>2</td>\n",
       "      <td>4</td>\n",
       "      <td>干槽症能自愈吗\\t太太万岁叶舒心去没去美国\\t干槽症\\t右眼皮下面一直跳是怎么回事\\t麦当劳...</td>\n",
       "    </tr>\n",
       "  </tbody>\n",
       "</table>\n",
       "</div>"
      ],
      "text/plain": [
       "                                 ID  age  Gender  Education  \\\n",
       "0  22DD920316420BE2DF8D6EE651BA174B    1       1          4   \n",
       "1  43CC3AF5A8D6430A3B572337A889AFE4    2       1          3   \n",
       "2  E97654BFF5570E2CCD433EA6128EAC19    4       1          0   \n",
       "3  6931EFC26D229CCFCEA125D3F3C21E57    4       2          3   \n",
       "4  E780470C3BB0D340334BD08CDCC3C71A    2       2          4   \n",
       "\n",
       "                                           QueryList  \n",
       "0  柔和双沟\\t女生\\t中财网首页 财经\\thttp://pan.baidu.com/s/1pl...  \n",
       "1  广州厨宝烤箱\\t世情薄,人情恶,雨送黄昏花易落,晓风干,泪痕\\t厦门酒店用品批发市场\\t我只...  \n",
       "2  钻石之泪耳机\\t盘锦到沈阳\\t旅顺公交\\t辽宁阜新车牌\\tbaidu\\tk715\\tk716...  \n",
       "3  最受欢迎狗狗排行榜\\t舶怎么读\\t场景描 写范例\\t三维绘图软件\\t枣和酸奶能一起吃吗\\t好...  \n",
       "4  干槽症能自愈吗\\t太太万岁叶舒心去没去美国\\t干槽症\\t右眼皮下面一直跳是怎么回事\\t麦当劳...  "
      ]
     },
     "execution_count": 66,
     "metadata": {},
     "output_type": "execute_result"
    }
   ],
   "source": [
    "train_data.head()"
   ]
  },
  {
   "cell_type": "code",
   "execution_count": 28,
   "metadata": {},
   "outputs": [
    {
     "data": {
      "text/html": [
       "<div>\n",
       "<style scoped>\n",
       "    .dataframe tbody tr th:only-of-type {\n",
       "        vertical-align: middle;\n",
       "    }\n",
       "\n",
       "    .dataframe tbody tr th {\n",
       "        vertical-align: top;\n",
       "    }\n",
       "\n",
       "    .dataframe thead th {\n",
       "        text-align: right;\n",
       "    }\n",
       "</style>\n",
       "<table border=\"1\" class=\"dataframe\">\n",
       "  <thead>\n",
       "    <tr style=\"text-align: right;\">\n",
       "      <th></th>\n",
       "      <th>ID</th>\n",
       "      <th>QueryList</th>\n",
       "    </tr>\n",
       "  </thead>\n",
       "  <tbody>\n",
       "    <tr>\n",
       "      <th>0</th>\n",
       "      <td>ED89D43B9F602F96D96C25255F7C228C</td>\n",
       "      <td>陈学冬将出的作品\\t刘昊然与谭松韵\\t211学校的分数线\\t谁唱的味道好听\\t吻戏是真吻还是...</td>\n",
       "    </tr>\n",
       "    <tr>\n",
       "      <th>1</th>\n",
       "      <td>83C3B7B4AAF8074655A8079F561A76D6</td>\n",
       "      <td>e的0.0052次方\\tqq怎么快速提现\\t绝色倾城飞烟\\t马克思主义基本原理概论\\t康世恩...</td>\n",
       "    </tr>\n",
       "    <tr>\n",
       "      <th>2</th>\n",
       "      <td>CA9F675A024FB2353849350A35CF8B0F</td>\n",
       "      <td>黑暗文\\tlpl夏季赛\\t大富豪电玩城\\t英雄联盟之电竞称王\\t手机怎么扫描手机上的二维码\\...</td>\n",
       "    </tr>\n",
       "    <tr>\n",
       "      <th>3</th>\n",
       "      <td>DE45B5C4E57AAEBCF3FDFA2A774093BF</td>\n",
       "      <td>中秋水库钓鱼\\t鱼竿\\t用蚯蚓钓鱼怎样调漂\\t传统钓\\t3号鱼钩\\t鲫鱼汤的做法大全\\t鱼饵...</td>\n",
       "    </tr>\n",
       "    <tr>\n",
       "      <th>4</th>\n",
       "      <td>406A681FB3DF81EC0E561796AE50AE50</td>\n",
       "      <td>号码吉凶\\t退休干部死后配偶\\t郫县有哪些大学\\t胜利油田属于中石化还是中石油\\t苏珊米勒狮...</td>\n",
       "    </tr>\n",
       "  </tbody>\n",
       "</table>\n",
       "</div>"
      ],
      "text/plain": [
       "                                 ID  \\\n",
       "0  ED89D43B9F602F96D96C25255F7C228C   \n",
       "1  83C3B7B4AAF8074655A8079F561A76D6   \n",
       "2  CA9F675A024FB2353849350A35CF8B0F   \n",
       "3  DE45B5C4E57AAEBCF3FDFA2A774093BF   \n",
       "4  406A681FB3DF81EC0E561796AE50AE50   \n",
       "\n",
       "                                           QueryList  \n",
       "0  陈学冬将出的作品\\t刘昊然与谭松韵\\t211学校的分数线\\t谁唱的味道好听\\t吻戏是真吻还是...  \n",
       "1  e的0.0052次方\\tqq怎么快速提现\\t绝色倾城飞烟\\t马克思主义基本原理概论\\t康世恩...  \n",
       "2  黑暗文\\tlpl夏季赛\\t大富豪电玩城\\t英雄联盟之电竞称王\\t手机怎么扫描手机上的二维码\\...  \n",
       "3  中秋水库钓鱼\\t鱼竿\\t用蚯蚓钓鱼怎样调漂\\t传统钓\\t3号鱼钩\\t鲫鱼汤的做法大全\\t鱼饵...  \n",
       "4  号码吉凶\\t退休干部死后配偶\\t郫县有哪些大学\\t胜利油田属于中石化还是中石油\\t苏珊米勒狮...  "
      ]
     },
     "execution_count": 28,
     "metadata": {},
     "output_type": "execute_result"
    }
   ],
   "source": [
    "test_data.head()"
   ]
  },
  {
   "cell_type": "markdown",
   "metadata": {},
   "source": [
    "### 语料库准备"
   ]
  },
  {
   "cell_type": "markdown",
   "metadata": {},
   "source": [
    "#### 停用词加载"
   ]
  },
  {
   "cell_type": "code",
   "execution_count": 15,
   "metadata": {},
   "outputs": [],
   "source": [
    "stopwords_list = []\n",
    "with open('../../common/stopwords1893.txt', 'r', encoding='utf-8') as f:\n",
    "    while True:\n",
    "        line = f.readline()\n",
    "        if not line:\n",
    "            break\n",
    "        stopwords_list.append(line.replace('\\n', ''))"
   ]
  },
  {
   "cell_type": "code",
   "execution_count": 16,
   "metadata": {},
   "outputs": [
    {
     "data": {
      "text/plain": [
       "['!', '\"', '#', '$', '%']"
      ]
     },
     "execution_count": 16,
     "metadata": {},
     "output_type": "execute_result"
    }
   ],
   "source": [
    "stopwords_list[:5]"
   ]
  },
  {
   "cell_type": "markdown",
   "metadata": {},
   "source": [
    "#### 分词、停用词去除、词性过滤"
   ]
  },
  {
   "cell_type": "code",
   "execution_count": 24,
   "metadata": {},
   "outputs": [
    {
     "name": "stdout",
     "output_type": "stream",
     "text": [
      " 进度：100.0000%"
     ]
    }
   ],
   "source": [
    "# 根据词性过滤\n",
    "import jieba\n",
    "import jieba.posseg\n",
    "\n",
    "# 添加自定义词语\n",
    "jieba.add_word('王者荣耀',tag='n')\n",
    "jieba.add_word('百度云',tag='n')\n",
    "jieba.add_word('徽信',tag='n')\n",
    "jieba.add_word('电子发票',tag='n')\n",
    "jieba.add_word( '表情包',tag='n')\n",
    "jieba.add_word( '萌妻',tag='n')\n",
    "jieba.add_word('水煮',tag='v')\n",
    "\n",
    "posseg_corpus = []\n",
    "i = 0\n",
    "rows = float(data.QueryList.shape[0]) /100\n",
    "def tokenize_posseg(sentences):\n",
    "    global i\n",
    "    cleaned_sentences = sentences.replace('\\t', ' ')\n",
    "    token = jieba.posseg.cut(sentences)\n",
    "    flag_list = ['n', 'nz', 'nr','ns', 'nt','ng', 'v','vn', 'j', 'i']\n",
    "    word_list = [word.word for word in list(token) \n",
    "                 if word.word not in stopwords_list \n",
    "                 and word.flag in flag_list\n",
    "                ]\n",
    "    if not word_list:\n",
    "        posseg_corpus.append(' '.join([word.word for word in list(token) \n",
    "                 if word.word not in stopwords_list \n",
    "                ]))\n",
    "    else:\n",
    "        posseg_corpus.append(' '.join(word_list))\n",
    "    i +=1\n",
    "#     if i % 100 == 0:\n",
    "    print('\\r 进度：%0.4f%%' % (i/rows), end=\"\")\n",
    "    return ' '.join(word_list)\n",
    "data['PossegCleanedQueryList'] = data.QueryList.apply(tokenize_posseg)"
   ]
  },
  {
   "cell_type": "code",
   "execution_count": 69,
   "metadata": {},
   "outputs": [],
   "source": [
    "data['PossegCleanedQueryList'] = [posseg_corpu for posseg_corpu in posseg_corpus]"
   ]
  },
  {
   "cell_type": "code",
   "execution_count": 70,
   "metadata": {},
   "outputs": [
    {
     "data": {
      "text/plain": [
       "0    双沟 女生 中财网 财经 周公 解梦 查询 曹云金 郭德纲 总裁 大人 行行好 中财网 财经...\n",
       "1    广州 厨宝 烤箱 世情 人情 雨 送 花易落 晓 风干 泪痕 厦门 酒店用品 批发市场 不想...\n",
       "2    钻石 泪 耳机 盘锦 沈阳 旅顺 公交 辽宁 阜新 车牌 盘锦 台安 网游 网游 辽 北镇 ...\n",
       "3    受欢迎 狗狗 排行榜 舶 读 场景 描 写 范例 绘图 软件 枣 酸奶 吃 租 衣服 网站 ...\n",
       "4    干槽症 太太 叶 没去 美国 干槽症 眼皮 跳 麦 旋风 勺子 吉林市 鹿王 制药 股份 有...\n",
       "Name: PossegCleanedQueryList, dtype: object"
      ]
     },
     "execution_count": 70,
     "metadata": {},
     "output_type": "execute_result"
    }
   ],
   "source": [
    "data.PossegCleanedQueryList.head()"
   ]
  },
  {
   "cell_type": "markdown",
   "metadata": {},
   "source": [
    "#### 语料库数据持久化"
   ]
  },
  {
   "cell_type": "code",
   "execution_count": 30,
   "metadata": {},
   "outputs": [],
   "source": [
    "# 经过词性过滤\n",
    "posseg_save_file_path = '../../dataset/personas/posseg_word_corpus.text'\n",
    "with open(posseg_save_file_path, 'w', encoding='utf-8') as f:\n",
    "    for posseg_corpu in posseg_corpus:\n",
    "        if isinstance(posseg_corpu,list):\n",
    "            posseg_corpu = ' '.join(posseg_corpu)\n",
    "        f.write(posseg_corpu)\n",
    "        f.write('\\n')"
   ]
  },
  {
   "cell_type": "markdown",
   "metadata": {},
   "source": [
    "#### 结构化数据查看"
   ]
  },
  {
   "cell_type": "code",
   "execution_count": 72,
   "metadata": {},
   "outputs": [],
   "source": [
    "posseg_cleaned_query_list = pd.read_csv('../../dataset/personas/posseg_word_corpus.text',header=None, names=['posseg_cleaned_query_list'])"
   ]
  },
  {
   "cell_type": "code",
   "execution_count": 73,
   "metadata": {},
   "outputs": [
    {
     "data": {
      "text/html": [
       "<div>\n",
       "<style scoped>\n",
       "    .dataframe tbody tr th:only-of-type {\n",
       "        vertical-align: middle;\n",
       "    }\n",
       "\n",
       "    .dataframe tbody tr th {\n",
       "        vertical-align: top;\n",
       "    }\n",
       "\n",
       "    .dataframe thead th {\n",
       "        text-align: right;\n",
       "    }\n",
       "</style>\n",
       "<table border=\"1\" class=\"dataframe\">\n",
       "  <thead>\n",
       "    <tr style=\"text-align: right;\">\n",
       "      <th></th>\n",
       "      <th>posseg_cleaned_query_list</th>\n",
       "    </tr>\n",
       "  </thead>\n",
       "  <tbody>\n",
       "    <tr>\n",
       "      <th>0</th>\n",
       "      <td>双沟 女生 中财网 财经 周公 解梦 查询 曹云金 郭德纲 总裁 大人 行行好 中财网 财经...</td>\n",
       "    </tr>\n",
       "    <tr>\n",
       "      <th>1</th>\n",
       "      <td>广州 厨宝 烤箱 世情 人情 雨 送 花易落 晓 风干 泪痕 厦门 酒店用品 批发市场 不想...</td>\n",
       "    </tr>\n",
       "    <tr>\n",
       "      <th>2</th>\n",
       "      <td>钻石 泪 耳机 盘锦 沈阳 旅顺 公交 辽宁 阜新 车牌 盘锦 台安 网游 网游 辽 北镇 ...</td>\n",
       "    </tr>\n",
       "    <tr>\n",
       "      <th>3</th>\n",
       "      <td>受欢迎 狗狗 排行榜 舶 读 场景 描 写 范例 绘图 软件 枣 酸奶 吃 租 衣服 网站 ...</td>\n",
       "    </tr>\n",
       "    <tr>\n",
       "      <th>4</th>\n",
       "      <td>干槽症 太太 叶 没去 美国 干槽症 眼皮 跳 麦 旋风 勺子 吉林市 鹿王 制药 股份 有...</td>\n",
       "    </tr>\n",
       "  </tbody>\n",
       "</table>\n",
       "</div>"
      ],
      "text/plain": [
       "                           posseg_cleaned_query_list\n",
       "0  双沟 女生 中财网 财经 周公 解梦 查询 曹云金 郭德纲 总裁 大人 行行好 中财网 财经...\n",
       "1  广州 厨宝 烤箱 世情 人情 雨 送 花易落 晓 风干 泪痕 厦门 酒店用品 批发市场 不想...\n",
       "2  钻石 泪 耳机 盘锦 沈阳 旅顺 公交 辽宁 阜新 车牌 盘锦 台安 网游 网游 辽 北镇 ...\n",
       "3  受欢迎 狗狗 排行榜 舶 读 场景 描 写 范例 绘图 软件 枣 酸奶 吃 租 衣服 网站 ...\n",
       "4  干槽症 太太 叶 没去 美国 干槽症 眼皮 跳 麦 旋风 勺子 吉林市 鹿王 制药 股份 有..."
      ]
     },
     "execution_count": 73,
     "metadata": {},
     "output_type": "execute_result"
    }
   ],
   "source": [
    "posseg_cleaned_query_list.head()"
   ]
  },
  {
   "cell_type": "code",
   "execution_count": 75,
   "metadata": {},
   "outputs": [
    {
     "data": {
      "text/plain": [
       "'双沟 女生 中财网 财经 周公 解梦 查询 曹云金 郭德纲 总裁 大人 行行好 中财网 财经 传媒 教师节 全文 男子 砸毁 墓碑 黄岩岛 填 海图 缘 落跑 甜心 梁朝伟 替身 框 笑傲江湖 电视剧'"
      ]
     },
     "execution_count": 75,
     "metadata": {},
     "output_type": "execute_result"
    }
   ],
   "source": [
    "posseg_corpus[0][:100]"
   ]
  },
  {
   "cell_type": "code",
   "execution_count": 78,
   "metadata": {},
   "outputs": [
    {
     "data": {
      "text/html": [
       "<div>\n",
       "<style scoped>\n",
       "    .dataframe tbody tr th:only-of-type {\n",
       "        vertical-align: middle;\n",
       "    }\n",
       "\n",
       "    .dataframe tbody tr th {\n",
       "        vertical-align: top;\n",
       "    }\n",
       "\n",
       "    .dataframe thead th {\n",
       "        text-align: right;\n",
       "    }\n",
       "</style>\n",
       "<table border=\"1\" class=\"dataframe\">\n",
       "  <thead>\n",
       "    <tr style=\"text-align: right;\">\n",
       "      <th></th>\n",
       "      <th>posseg_cleaned_query_list</th>\n",
       "    </tr>\n",
       "  </thead>\n",
       "  <tbody>\n",
       "    <tr>\n",
       "      <th>199822</th>\n",
       "      <td>安乃近 太平 温秀 造句 造句 手 洋葱 清吉 太平 笙箫 电视剧 倾心 心 倾城 吃 西药...</td>\n",
       "    </tr>\n",
       "    <tr>\n",
       "      <th>199823</th>\n",
       "      <td>东北 一家人 沈腾 叶小白 小说 姚启圣 李小狼 七煌 老板 博文 珠海 鸿景 花园 云菲菲...</td>\n",
       "    </tr>\n",
       "    <tr>\n",
       "      <th>199824</th>\n",
       "      <td>沈阳 天士力 药房 儿童 支气管炎 肺炎 天 点滴 咳嗽 熊岳 谷 过敏性 咳嗽 饭团子 饭...</td>\n",
       "    </tr>\n",
       "    <tr>\n",
       "      <th>199825</th>\n",
       "      <td>乡村 神医 斑 图片 名称 猕猴桃 热性 凉性 梦见 外公 死 离婚 爱我吗 女孩子 发型 ...</td>\n",
       "    </tr>\n",
       "    <tr>\n",
       "      <th>199826</th>\n",
       "      <td>经营策略 分析 经营 组织 腾讯 博 盛世 光年 婚礼 视频 划分 临摹 照片 济南 恒隆 ...</td>\n",
       "    </tr>\n",
       "  </tbody>\n",
       "</table>\n",
       "</div>"
      ],
      "text/plain": [
       "                                posseg_cleaned_query_list\n",
       "199822  安乃近 太平 温秀 造句 造句 手 洋葱 清吉 太平 笙箫 电视剧 倾心 心 倾城 吃 西药...\n",
       "199823  东北 一家人 沈腾 叶小白 小说 姚启圣 李小狼 七煌 老板 博文 珠海 鸿景 花园 云菲菲...\n",
       "199824  沈阳 天士力 药房 儿童 支气管炎 肺炎 天 点滴 咳嗽 熊岳 谷 过敏性 咳嗽 饭团子 饭...\n",
       "199825  乡村 神医 斑 图片 名称 猕猴桃 热性 凉性 梦见 外公 死 离婚 爱我吗 女孩子 发型 ...\n",
       "199826  经营策略 分析 经营 组织 腾讯 博 盛世 光年 婚礼 视频 划分 临摹 照片 济南 恒隆 ..."
      ]
     },
     "execution_count": 78,
     "metadata": {},
     "output_type": "execute_result"
    }
   ],
   "source": [
    "posseg_cleaned_query_list.tail()"
   ]
  },
  {
   "cell_type": "code",
   "execution_count": 79,
   "metadata": {},
   "outputs": [
    {
     "data": {
      "text/plain": [
       "(199831,)"
      ]
     },
     "execution_count": 79,
     "metadata": {},
     "output_type": "execute_result"
    }
   ],
   "source": [
    "data['PossegCleanedQueryList'].shape"
   ]
  },
  {
   "cell_type": "code",
   "execution_count": 80,
   "metadata": {},
   "outputs": [
    {
     "data": {
      "text/html": [
       "<div>\n",
       "<style scoped>\n",
       "    .dataframe tbody tr th:only-of-type {\n",
       "        vertical-align: middle;\n",
       "    }\n",
       "\n",
       "    .dataframe tbody tr th {\n",
       "        vertical-align: top;\n",
       "    }\n",
       "\n",
       "    .dataframe thead th {\n",
       "        text-align: right;\n",
       "    }\n",
       "</style>\n",
       "<table border=\"1\" class=\"dataframe\">\n",
       "  <thead>\n",
       "    <tr style=\"text-align: right;\">\n",
       "      <th></th>\n",
       "      <th>ID</th>\n",
       "      <th>QueryList</th>\n",
       "      <th>age</th>\n",
       "      <th>Gender</th>\n",
       "      <th>Education</th>\n",
       "      <th>PossegCleanedQueryList</th>\n",
       "    </tr>\n",
       "  </thead>\n",
       "  <tbody>\n",
       "    <tr>\n",
       "      <th>0</th>\n",
       "      <td>22DD920316420BE2DF8D6EE651BA174B</td>\n",
       "      <td>柔和双沟\\t女生\\t中财网首页 财经\\thttp://pan.baidu.com/s/1pl...</td>\n",
       "      <td>1.0</td>\n",
       "      <td>1.0</td>\n",
       "      <td>4.0</td>\n",
       "      <td>双沟 女生 中财网 财经 周公 解梦 查询 曹云金 郭德纲 总裁 大人 行行好 中财网 财经...</td>\n",
       "    </tr>\n",
       "    <tr>\n",
       "      <th>1</th>\n",
       "      <td>43CC3AF5A8D6430A3B572337A889AFE4</td>\n",
       "      <td>广州厨宝烤箱\\t世情薄,人情恶,雨送黄昏花易落,晓风干,泪痕\\t厦门酒店用品批发市场\\t我只...</td>\n",
       "      <td>2.0</td>\n",
       "      <td>1.0</td>\n",
       "      <td>3.0</td>\n",
       "      <td>广州 厨宝 烤箱 世情 人情 雨 送 花易落 晓 风干 泪痕 厦门 酒店用品 批发市场 不想...</td>\n",
       "    </tr>\n",
       "    <tr>\n",
       "      <th>2</th>\n",
       "      <td>E97654BFF5570E2CCD433EA6128EAC19</td>\n",
       "      <td>钻石之泪耳机\\t盘锦到沈阳\\t旅顺公交\\t辽宁阜新车牌\\tbaidu\\tk715\\tk716...</td>\n",
       "      <td>4.0</td>\n",
       "      <td>1.0</td>\n",
       "      <td>0.0</td>\n",
       "      <td>钻石 泪 耳机 盘锦 沈阳 旅顺 公交 辽宁 阜新 车牌 盘锦 台安 网游 网游 辽 北镇 ...</td>\n",
       "    </tr>\n",
       "    <tr>\n",
       "      <th>3</th>\n",
       "      <td>6931EFC26D229CCFCEA125D3F3C21E57</td>\n",
       "      <td>最受欢迎狗狗排行榜\\t舶怎么读\\t场景描 写范例\\t三维绘图软件\\t枣和酸奶能一起吃吗\\t好...</td>\n",
       "      <td>4.0</td>\n",
       "      <td>2.0</td>\n",
       "      <td>3.0</td>\n",
       "      <td>受欢迎 狗狗 排行榜 舶 读 场景 描 写 范例 绘图 软件 枣 酸奶 吃 租 衣服 网站 ...</td>\n",
       "    </tr>\n",
       "    <tr>\n",
       "      <th>4</th>\n",
       "      <td>E780470C3BB0D340334BD08CDCC3C71A</td>\n",
       "      <td>干槽症能自愈吗\\t太太万岁叶舒心去没去美国\\t干槽症\\t右眼皮下面一直跳是怎么回事\\t麦当劳...</td>\n",
       "      <td>2.0</td>\n",
       "      <td>2.0</td>\n",
       "      <td>4.0</td>\n",
       "      <td>干槽症 太太 叶 没去 美国 干槽症 眼皮 跳 麦 旋风 勺子 吉林市 鹿王 制药 股份 有...</td>\n",
       "    </tr>\n",
       "  </tbody>\n",
       "</table>\n",
       "</div>"
      ],
      "text/plain": [
       "                                 ID  \\\n",
       "0  22DD920316420BE2DF8D6EE651BA174B   \n",
       "1  43CC3AF5A8D6430A3B572337A889AFE4   \n",
       "2  E97654BFF5570E2CCD433EA6128EAC19   \n",
       "3  6931EFC26D229CCFCEA125D3F3C21E57   \n",
       "4  E780470C3BB0D340334BD08CDCC3C71A   \n",
       "\n",
       "                                           QueryList  age  Gender  Education  \\\n",
       "0  柔和双沟\\t女生\\t中财网首页 财经\\thttp://pan.baidu.com/s/1pl...  1.0     1.0        4.0   \n",
       "1  广州厨宝烤箱\\t世情薄,人情恶,雨送黄昏花易落,晓风干,泪痕\\t厦门酒店用品批发市场\\t我只...  2.0     1.0        3.0   \n",
       "2  钻石之泪耳机\\t盘锦到沈阳\\t旅顺公交\\t辽宁阜新车牌\\tbaidu\\tk715\\tk716...  4.0     1.0        0.0   \n",
       "3  最受欢迎狗狗排行榜\\t舶怎么读\\t场景描 写范例\\t三维绘图软件\\t枣和酸奶能一起吃吗\\t好...  4.0     2.0        3.0   \n",
       "4  干槽症能自愈吗\\t太太万岁叶舒心去没去美国\\t干槽症\\t右眼皮下面一直跳是怎么回事\\t麦当劳...  2.0     2.0        4.0   \n",
       "\n",
       "                              PossegCleanedQueryList  \n",
       "0  双沟 女生 中财网 财经 周公 解梦 查询 曹云金 郭德纲 总裁 大人 行行好 中财网 财经...  \n",
       "1  广州 厨宝 烤箱 世情 人情 雨 送 花易落 晓 风干 泪痕 厦门 酒店用品 批发市场 不想...  \n",
       "2  钻石 泪 耳机 盘锦 沈阳 旅顺 公交 辽宁 阜新 车牌 盘锦 台安 网游 网游 辽 北镇 ...  \n",
       "3  受欢迎 狗狗 排行榜 舶 读 场景 描 写 范例 绘图 软件 枣 酸奶 吃 租 衣服 网站 ...  \n",
       "4  干槽症 太太 叶 没去 美国 干槽症 眼皮 跳 麦 旋风 勺子 吉林市 鹿王 制药 股份 有...  "
      ]
     },
     "execution_count": 80,
     "metadata": {},
     "output_type": "execute_result"
    }
   ],
   "source": [
    "data.head()"
   ]
  },
  {
   "cell_type": "code",
   "execution_count": 82,
   "metadata": {},
   "outputs": [
    {
     "data": {
      "text/plain": [
       "0    双沟 女生 中财网 财经 周公 解梦 查询 曹云金 郭德纲 总裁 大人 行行好 中财网 财经...\n",
       "1    广州 厨宝 烤箱 世情 人情 雨 送 花易落 晓 风干 泪痕 厦门 酒店用品 批发市场 不想...\n",
       "2    钻石 泪 耳机 盘锦 沈阳 旅顺 公交 辽宁 阜新 车牌 盘锦 台安 网游 网游 辽 北镇 ...\n",
       "3    受欢迎 狗狗 排行榜 舶 读 场景 描 写 范例 绘图 软件 枣 酸奶 吃 租 衣服 网站 ...\n",
       "4    干槽症 太太 叶 没去 美国 干槽症 眼皮 跳 麦 旋风 勺子 吉林市 鹿王 制药 股份 有...\n",
       "Name: PossegCleanedQueryList, dtype: object"
      ]
     },
     "execution_count": 82,
     "metadata": {},
     "output_type": "execute_result"
    }
   ],
   "source": [
    "data.PossegCleanedQueryList.head()"
   ]
  },
  {
   "cell_type": "code",
   "execution_count": 83,
   "metadata": {},
   "outputs": [
    {
     "data": {
      "text/plain": [
       "(199831,)"
      ]
     },
     "execution_count": 83,
     "metadata": {},
     "output_type": "execute_result"
    }
   ],
   "source": [
    "data.PossegCleanedQueryList.shape"
   ]
  },
  {
   "cell_type": "markdown",
   "metadata": {},
   "source": [
    "### word2vec词向量模型"
   ]
  },
  {
   "cell_type": "markdown",
   "metadata": {},
   "source": [
    "#### 模型训练"
   ]
  },
  {
   "cell_type": "code",
   "execution_count": 95,
   "metadata": {},
   "outputs": [
    {
     "name": "stdout",
     "output_type": "stream",
     "text": [
      " 进度：1.0000%"
     ]
    }
   ],
   "source": [
    "import jieba \n",
    "corpus = []\n",
    "lenth = len(posseg_corpus)\n",
    "i = 0\n",
    "for corpu in posseg_corpus:\n",
    "    if not isinstance(corpu, list):\n",
    "        corpus.append(list(jieba.cut(corpu)))\n",
    "    else:\n",
    "        corpus.append(corpu)\n",
    "    i += 1\n",
    "    print('\\r 进度：%0.4f%%' % (i/lenth*100), end=\"\")\n"
   ]
  },
  {
   "cell_type": "code",
   "execution_count": 96,
   "metadata": {},
   "outputs": [],
   "source": [
    "from gensim.models import Word2Vec\n",
    "word2vec_posseg_model = Word2Vec(corpus, size=300, min_count=1)"
   ]
  },
  {
   "cell_type": "code",
   "execution_count": 97,
   "metadata": {},
   "outputs": [
    {
     "data": {
      "text/plain": [
       "199831"
      ]
     },
     "execution_count": 97,
     "metadata": {},
     "output_type": "execute_result"
    }
   ],
   "source": [
    "word2vec_posseg_model.corpus_count"
   ]
  },
  {
   "cell_type": "code",
   "execution_count": 98,
   "metadata": {},
   "outputs": [
    {
     "data": {
      "text/plain": [
       "752385"
      ]
     },
     "execution_count": 98,
     "metadata": {},
     "output_type": "execute_result"
    }
   ],
   "source": [
    "len(word2vec_posseg_model.wv.vocab)"
   ]
  },
  {
   "cell_type": "code",
   "execution_count": 99,
   "metadata": {},
   "outputs": [
    {
     "name": "stderr",
     "output_type": "stream",
     "text": [
      "C:\\Users\\xiaoyu\\Envs\\Machine_learning\\lib\\site-packages\\gensim\\matutils.py:737: FutureWarning: Conversion of the second argument of issubdtype from `int` to `np.signedinteger` is deprecated. In future, it will be treated as `np.int32 == np.dtype(int).type`.\n",
      "  if np.issubdtype(vec.dtype, np.int):\n"
     ]
    },
    {
     "data": {
      "text/plain": [
       "[('北京市', 0.6917001008987427),\n",
       " ('昌平', 0.6040279865264893),\n",
       " ('天津', 0.6036925315856934),\n",
       " ('张家口', 0.5988921523094177),\n",
       " ('顺义', 0.5951307415962219),\n",
       " ('怀柔', 0.5865505933761597),\n",
       " ('丰台', 0.5807821750640869),\n",
       " ('燕郊', 0.5797988176345825),\n",
       " ('保定', 0.5649673938751221),\n",
       " ('石家庄', 0.5543346405029297)]"
      ]
     },
     "execution_count": 99,
     "metadata": {},
     "output_type": "execute_result"
    }
   ],
   "source": [
    "word2vec_posseg_model.wv.most_similar('北京')"
   ]
  },
  {
   "cell_type": "code",
   "execution_count": 100,
   "metadata": {
    "scrolled": true
   },
   "outputs": [
    {
     "data": {
      "text/plain": [
       "[('楼房', 0.7589250802993774),\n",
       " ('新房', 0.7165311574935913),\n",
       " ('房屋', 0.7006446123123169),\n",
       " ('毛坯房', 0.6985774040222168),\n",
       " ('老房子', 0.6930108070373535),\n",
       " ('新房子', 0.6796026825904846),\n",
       " ('房能', 0.6727418303489685),\n",
       " ('买房子', 0.6633325815200806),\n",
       " ('大房子', 0.6312969923019409),\n",
       " ('商品房', 0.6223334074020386)]"
      ]
     },
     "execution_count": 100,
     "metadata": {},
     "output_type": "execute_result"
    }
   ],
   "source": [
    "word2vec_posseg_model.wv.most_similar('房子')"
   ]
  },
  {
   "cell_type": "code",
   "execution_count": 101,
   "metadata": {},
   "outputs": [
    {
     "data": {
      "text/plain": [
       "0.29962897"
      ]
     },
     "execution_count": 101,
     "metadata": {},
     "output_type": "execute_result"
    }
   ],
   "source": [
    "word2vec_posseg_model.wv.similarity('兄弟','姐妹')"
   ]
  },
  {
   "cell_type": "code",
   "execution_count": 102,
   "metadata": {},
   "outputs": [
    {
     "data": {
      "text/plain": [
       "0.33978018"
      ]
     },
     "execution_count": 102,
     "metadata": {},
     "output_type": "execute_result"
    }
   ],
   "source": [
    "word2vec_posseg_model.wv.similarity('房子','车子')"
   ]
  },
  {
   "cell_type": "code",
   "execution_count": 103,
   "metadata": {},
   "outputs": [
    {
     "data": {
      "text/plain": [
       "0.244461"
      ]
     },
     "execution_count": 103,
     "metadata": {},
     "output_type": "execute_result"
    }
   ],
   "source": [
    "word2vec_posseg_model.wv.similarity('老婆','孩子')"
   ]
  },
  {
   "cell_type": "markdown",
   "metadata": {},
   "source": [
    "#### 模型保存"
   ]
  },
  {
   "cell_type": "code",
   "execution_count": 104,
   "metadata": {},
   "outputs": [],
   "source": [
    "word2vec_posseg_model.save('../../models/personas_word2vec_posseg.model')"
   ]
  },
  {
   "cell_type": "markdown",
   "metadata": {},
   "source": [
    "#### 模型加载"
   ]
  },
  {
   "cell_type": "code",
   "execution_count": 105,
   "metadata": {},
   "outputs": [],
   "source": [
    "from gensim.models import Word2Vec\n",
    "word2vec_posseg_model = Word2Vec.load('../../models/personas_word2vec_posseg.model')"
   ]
  },
  {
   "cell_type": "code",
   "execution_count": 107,
   "metadata": {},
   "outputs": [
    {
     "name": "stderr",
     "output_type": "stream",
     "text": [
      "C:\\Users\\xiaoyu\\Envs\\Machine_learning\\lib\\site-packages\\gensim\\matutils.py:737: FutureWarning: Conversion of the second argument of issubdtype from `int` to `np.signedinteger` is deprecated. In future, it will be treated as `np.int32 == np.dtype(int).type`.\n",
      "  if np.issubdtype(vec.dtype, np.int):\n"
     ]
    },
    {
     "data": {
      "text/plain": [
       "[('北京市', 0.6917001008987427),\n",
       " ('昌平', 0.6040279865264893),\n",
       " ('天津', 0.6036925315856934),\n",
       " ('张家口', 0.5988921523094177),\n",
       " ('顺义', 0.5951307415962219),\n",
       " ('怀柔', 0.5865505933761597),\n",
       " ('丰台', 0.5807821750640869),\n",
       " ('燕郊', 0.5797988176345825),\n",
       " ('保定', 0.5649673938751221),\n",
       " ('石家庄', 0.5543346405029297)]"
      ]
     },
     "execution_count": 107,
     "metadata": {},
     "output_type": "execute_result"
    }
   ],
   "source": [
    "word2vec_posseg_model.wv.most_similar('北京')"
   ]
  },
  {
   "cell_type": "markdown",
   "metadata": {},
   "source": [
    "### 搜索结果平均向量化"
   ]
  },
  {
   "cell_type": "markdown",
   "metadata": {},
   "source": [
    "#### 求平均向量\n",
    "其目的在于构造每个用户搜索特征向量"
   ]
  },
  {
   "cell_type": "code",
   "execution_count": 108,
   "metadata": {},
   "outputs": [
    {
     "name": "stderr",
     "output_type": "stream",
     "text": [
      "C:\\Users\\xiaoyu\\Envs\\Machine_learning\\lib\\site-packages\\ipykernel_launcher.py:10: DeprecationWarning: Call to deprecated `__contains__` (Method will be removed in 4.0.0, use self.wv.__contains__() instead).\n",
      "  # Remove the CWD from sys.path while we load stuff.\n",
      "C:\\Users\\xiaoyu\\Envs\\Machine_learning\\lib\\site-packages\\ipykernel_launcher.py:12: DeprecationWarning: Call to deprecated `__getitem__` (Method will be removed in 4.0.0, use self.wv.__getitem__() instead).\n",
      "  if sys.path[0] == '':\n"
     ]
    },
    {
     "name": "stdout",
     "output_type": "stream",
     "text": [
      " [index]:32628"
     ]
    },
    {
     "name": "stderr",
     "output_type": "stream",
     "text": [
      "C:\\Users\\xiaoyu\\Envs\\Machine_learning\\lib\\site-packages\\ipykernel_launcher.py:17: RuntimeWarning: invalid value encountered in true_divide\n"
     ]
    },
    {
     "name": "stdout",
     "output_type": "stream",
     "text": [
      " [index]:199830"
     ]
    }
   ],
   "source": [
    "posseg_file_name = '../../dataset/personas/posseg_word_corpus.text'\n",
    "with open(posseg_file_name, 'r',encoding='utf-8') as f:\n",
    "    index = 0\n",
    "    lines = f.readlines()\n",
    "    posseg_doc_vec = np.zeros((len(lines),300))\n",
    "    for line in lines:\n",
    "        word_vec = np.zeros((1,300))\n",
    "        wrod_num = 0\n",
    "        for word in line:\n",
    "            if word in word2vec_posseg_model:\n",
    "                wrod_num += 1\n",
    "                word_vec += np.array([word2vec_posseg_model[word]])\n",
    "        if sum(np.isnan(word_vec)).sum():\n",
    "            print(line)\n",
    "            print(index)\n",
    "        print('\\r [index]:%d' % index, end='')\n",
    "        posseg_doc_vec[index] = word_vec / float(wrod_num)\n",
    "        index += 1"
   ]
  },
  {
   "cell_type": "markdown",
   "metadata": {},
   "source": [
    "#### 搜索特征向量持久化"
   ]
  },
  {
   "cell_type": "code",
   "execution_count": 179,
   "metadata": {},
   "outputs": [],
   "source": [
    "posseg_doc_vec.tofile('../../models/personas_posseg_sent_vec.text')"
   ]
  },
  {
   "cell_type": "markdown",
   "metadata": {},
   "source": [
    "### 模型训练、筛选、评估与改进"
   ]
  },
  {
   "cell_type": "markdown",
   "metadata": {},
   "source": [
    "#### 检查是否存在nan的向量"
   ]
  },
  {
   "cell_type": "code",
   "execution_count": 109,
   "metadata": {},
   "outputs": [
    {
     "name": "stdout",
     "output_type": "stream",
     "text": [
      "32557\n",
      "60085\n",
      "87498\n",
      "119773\n"
     ]
    }
   ],
   "source": [
    "for index, i in enumerate(posseg_doc_vec):\n",
    "    if sum(np.isnan(i)).sum():\n",
    "        print(index)"
   ]
  },
  {
   "cell_type": "code",
   "execution_count": 178,
   "metadata": {},
   "outputs": [
    {
     "name": "stdout",
     "output_type": "stream",
     "text": [
      "32557\n",
      "60085\n",
      "87498\n",
      "119773\n"
     ]
    }
   ],
   "source": [
    "empty_index = 0\n",
    "def empty_list(obj):\n",
    "    global empty_index\n",
    "    index = empty_index\n",
    "    if not obj:\n",
    "        print(index)\n",
    "    empty_index += 1\n",
    "    return ' '.join(obj)\n",
    "data_empty = data.PossegCleanedQueryList.apply(empty_list)"
   ]
  },
  {
   "cell_type": "code",
   "execution_count": 202,
   "metadata": {
    "scrolled": true
   },
   "outputs": [
    {
     "data": {
      "text/html": [
       "<div>\n",
       "<style scoped>\n",
       "    .dataframe tbody tr th:only-of-type {\n",
       "        vertical-align: middle;\n",
       "    }\n",
       "\n",
       "    .dataframe tbody tr th {\n",
       "        vertical-align: top;\n",
       "    }\n",
       "\n",
       "    .dataframe thead th {\n",
       "        text-align: right;\n",
       "    }\n",
       "</style>\n",
       "<table border=\"1\" class=\"dataframe\">\n",
       "  <thead>\n",
       "    <tr style=\"text-align: right;\">\n",
       "      <th></th>\n",
       "      <th>ID</th>\n",
       "      <th>QueryList</th>\n",
       "      <th>age</th>\n",
       "      <th>Gender</th>\n",
       "      <th>Education</th>\n",
       "      <th>PossegCleanedQueryList</th>\n",
       "    </tr>\n",
       "  </thead>\n",
       "  <tbody>\n",
       "    <tr>\n",
       "      <th>32557</th>\n",
       "      <td>7077737F3F2D58E1EB0D3D2E8824B41D</td>\n",
       "      <td>pan.baidu.com/s/1esytqsi\\tpan.baidu.com/s/1mhb...</td>\n",
       "      <td>2.0</td>\n",
       "      <td>1.0</td>\n",
       "      <td>3.0</td>\n",
       "      <td></td>\n",
       "    </tr>\n",
       "    <tr>\n",
       "      <th>60085</th>\n",
       "      <td>5FAF74A9D9E2B55C6724BDEAA6D7574B</td>\n",
       "      <td>denied\\tchimpanzee\\tsanitation\\tpredisposed\\ti...</td>\n",
       "      <td>2.0</td>\n",
       "      <td>2.0</td>\n",
       "      <td>4.0</td>\n",
       "      <td></td>\n",
       "    </tr>\n",
       "    <tr>\n",
       "      <th>87498</th>\n",
       "      <td>F723D21F70AA59932E0A77C12A8F4B95</td>\n",
       "      <td>substandard\\twages\\toutlay\\tgovernance\\tkeyboa...</td>\n",
       "      <td>3.0</td>\n",
       "      <td>1.0</td>\n",
       "      <td>4.0</td>\n",
       "      <td></td>\n",
       "    </tr>\n",
       "    <tr>\n",
       "      <th>119773</th>\n",
       "      <td>CC302AED793BE054C6158160729F8687</td>\n",
       "      <td>550476145267\\t550476291385\\t666759024744\\t5504...</td>\n",
       "      <td>NaN</td>\n",
       "      <td>NaN</td>\n",
       "      <td>NaN</td>\n",
       "      <td></td>\n",
       "    </tr>\n",
       "  </tbody>\n",
       "</table>\n",
       "</div>"
      ],
      "text/plain": [
       "                                      ID  \\\n",
       "32557   7077737F3F2D58E1EB0D3D2E8824B41D   \n",
       "60085   5FAF74A9D9E2B55C6724BDEAA6D7574B   \n",
       "87498   F723D21F70AA59932E0A77C12A8F4B95   \n",
       "119773  CC302AED793BE054C6158160729F8687   \n",
       "\n",
       "                                                QueryList  age  Gender  \\\n",
       "32557   pan.baidu.com/s/1esytqsi\\tpan.baidu.com/s/1mhb...  2.0     1.0   \n",
       "60085   denied\\tchimpanzee\\tsanitation\\tpredisposed\\ti...  2.0     2.0   \n",
       "87498   substandard\\twages\\toutlay\\tgovernance\\tkeyboa...  3.0     1.0   \n",
       "119773  550476145267\\t550476291385\\t666759024744\\t5504...  NaN     NaN   \n",
       "\n",
       "        Education PossegCleanedQueryList  \n",
       "32557         3.0                         \n",
       "60085         4.0                         \n",
       "87498         4.0                         \n",
       "119773        NaN                         "
      ]
     },
     "execution_count": 202,
     "metadata": {},
     "output_type": "execute_result"
    }
   ],
   "source": [
    "data[data.PossegCleanedQueryList=='']"
   ]
  },
  {
   "cell_type": "code",
   "execution_count": 203,
   "metadata": {},
   "outputs": [
    {
     "data": {
      "text/plain": [
       "[32557, 60085, 87498, 119773]"
      ]
     },
     "execution_count": 203,
     "metadata": {},
     "output_type": "execute_result"
    }
   ],
   "source": [
    "data[data.PossegCleanedQueryList==''].index.tolist()"
   ]
  },
  {
   "cell_type": "code",
   "execution_count": 204,
   "metadata": {},
   "outputs": [],
   "source": [
    "data_index = data.index.tolist()"
   ]
  },
  {
   "cell_type": "code",
   "execution_count": 206,
   "metadata": {},
   "outputs": [],
   "source": [
    "for i in [32557, 60085, 87498, 119773]:\n",
    "    data.drop(i, inplace=True)"
   ]
  },
  {
   "cell_type": "code",
   "execution_count": 207,
   "metadata": {},
   "outputs": [
    {
     "data": {
      "text/html": [
       "<div>\n",
       "<style scoped>\n",
       "    .dataframe tbody tr th:only-of-type {\n",
       "        vertical-align: middle;\n",
       "    }\n",
       "\n",
       "    .dataframe tbody tr th {\n",
       "        vertical-align: top;\n",
       "    }\n",
       "\n",
       "    .dataframe thead th {\n",
       "        text-align: right;\n",
       "    }\n",
       "</style>\n",
       "<table border=\"1\" class=\"dataframe\">\n",
       "  <thead>\n",
       "    <tr style=\"text-align: right;\">\n",
       "      <th></th>\n",
       "      <th>ID</th>\n",
       "      <th>QueryList</th>\n",
       "      <th>age</th>\n",
       "      <th>Gender</th>\n",
       "      <th>Education</th>\n",
       "      <th>PossegCleanedQueryList</th>\n",
       "    </tr>\n",
       "  </thead>\n",
       "  <tbody>\n",
       "  </tbody>\n",
       "</table>\n",
       "</div>"
      ],
      "text/plain": [
       "Empty DataFrame\n",
       "Columns: [ID, QueryList, age, Gender, Education, PossegCleanedQueryList]\n",
       "Index: []"
      ]
     },
     "execution_count": 207,
     "metadata": {},
     "output_type": "execute_result"
    }
   ],
   "source": [
    "data[data.PossegCleanedQueryList=='']"
   ]
  },
  {
   "cell_type": "code",
   "execution_count": 208,
   "metadata": {},
   "outputs": [
    {
     "data": {
      "text/plain": [
       "(199827, 6)"
      ]
     },
     "execution_count": 208,
     "metadata": {},
     "output_type": "execute_result"
    }
   ],
   "source": [
    "data.shape"
   ]
  },
  {
   "cell_type": "markdown",
   "metadata": {},
   "source": [
    "#### 删除nan值的数据"
   ]
  },
  {
   "cell_type": "code",
   "execution_count": 209,
   "metadata": {
    "scrolled": true
   },
   "outputs": [
    {
     "data": {
      "text/plain": [
       "array([[nan, nan, nan, ..., nan, nan, nan],\n",
       "       [nan, nan, nan, ..., nan, nan, nan],\n",
       "       [nan, nan, nan, ..., nan, nan, nan],\n",
       "       [nan, nan, nan, ..., nan, nan, nan]])"
      ]
     },
     "execution_count": 209,
     "metadata": {},
     "output_type": "execute_result"
    }
   ],
   "source": [
    "nan_index_list = [32557,60085,87498,119773]\n",
    "posseg_doc_vec[nan_index_list]"
   ]
  },
  {
   "cell_type": "code",
   "execution_count": 216,
   "metadata": {},
   "outputs": [],
   "source": [
    "cleaned_posseg_doc_vec = np.delete(posseg_doc_vec,[32557,60085,87498,119773],axis=0)"
   ]
  },
  {
   "cell_type": "code",
   "execution_count": 218,
   "metadata": {},
   "outputs": [
    {
     "data": {
      "text/plain": [
       "(199827, 300)"
      ]
     },
     "execution_count": 218,
     "metadata": {},
     "output_type": "execute_result"
    }
   ],
   "source": [
    "cleaned_posseg_doc_vec.shape"
   ]
  },
  {
   "cell_type": "markdown",
   "metadata": {},
   "source": [
    "#### 过滤为0的缺失值数据"
   ]
  },
  {
   "cell_type": "code",
   "execution_count": 223,
   "metadata": {},
   "outputs": [
    {
     "data": {
      "text/html": [
       "<div>\n",
       "<style scoped>\n",
       "    .dataframe tbody tr th:only-of-type {\n",
       "        vertical-align: middle;\n",
       "    }\n",
       "\n",
       "    .dataframe tbody tr th {\n",
       "        vertical-align: top;\n",
       "    }\n",
       "\n",
       "    .dataframe thead th {\n",
       "        text-align: right;\n",
       "    }\n",
       "</style>\n",
       "<table border=\"1\" class=\"dataframe\">\n",
       "  <thead>\n",
       "    <tr style=\"text-align: right;\">\n",
       "      <th></th>\n",
       "      <th>ID</th>\n",
       "      <th>QueryList</th>\n",
       "      <th>age</th>\n",
       "      <th>Gender</th>\n",
       "      <th>Education</th>\n",
       "      <th>PossegCleanedQueryList</th>\n",
       "    </tr>\n",
       "  </thead>\n",
       "  <tbody>\n",
       "    <tr>\n",
       "      <th>99826</th>\n",
       "      <td>E797FFCDCAF3899AB4D17B61170D8BFF</td>\n",
       "      <td>梦三生\\t逆行天后漫画结局\\t英雄联盟角色介绍大全\\t韩剧网最新韩国电视剧\\t119宣传语是...</td>\n",
       "      <td>1.0</td>\n",
       "      <td>1.0</td>\n",
       "      <td>5.0</td>\n",
       "      <td>梦 逆行 漫画 结局 英雄 联盟 角色 介绍 韩剧 网 韩国 电视剧 宣传语 斗破 苍穹 肆...</td>\n",
       "    </tr>\n",
       "    <tr>\n",
       "      <th>99827</th>\n",
       "      <td>E06375F7D092ABDE78C2D79E4725D6B0</td>\n",
       "      <td>中国军队配枪\\t女生\\t央视版权问题\\t重庆\\t一次性手术刀\\t精神枷锁\\t人民检察官\\t舆...</td>\n",
       "      <td>1.0</td>\n",
       "      <td>1.0</td>\n",
       "      <td>5.0</td>\n",
       "      <td>中国 军队 配枪 女生 央视 版权 重庆 手术刀 精神枷锁 检察官 舆论 精神 禁锢 百度 ...</td>\n",
       "    </tr>\n",
       "    <tr>\n",
       "      <th>99828</th>\n",
       "      <td>D55119CB0B9366B20974522B58C00912</td>\n",
       "      <td>英文翻译\\t幼儿园面试讲课\\t学前教育书第二版\\tshock to\\t幼儿园教师资格证面试讲...</td>\n",
       "      <td>2.0</td>\n",
       "      <td>2.0</td>\n",
       "      <td>5.0</td>\n",
       "      <td>英文翻译 幼儿园 面试 讲课 书 版 幼儿园 教师 资格证 面试 讲课 设计 签名 免费 艺...</td>\n",
       "    </tr>\n",
       "    <tr>\n",
       "      <th>99829</th>\n",
       "      <td>EB4DBBD602C6459A19A77F09035E170C</td>\n",
       "      <td>哈尔滨祖研中医院地址\\t指甲盖侧面的肉怎么是白色\\t补骨质有副作用吗\\t哈尔滨去呼兰\\t黑龙...</td>\n",
       "      <td>3.0</td>\n",
       "      <td>2.0</td>\n",
       "      <td>3.0</td>\n",
       "      <td>哈尔滨 祖研 医院地址 指甲盖 肉 白色 补 骨质 副作用 哈尔滨 呼兰 黑龙江 祖研 中医...</td>\n",
       "    </tr>\n",
       "    <tr>\n",
       "      <th>99830</th>\n",
       "      <td>61CF81DB79423CB89E5DAA752BC4D9DD</td>\n",
       "      <td>陈翔毛晓彤分手\\t青春偶像剧校园电影\\t九尾狐家族\\t王俊凯小说\\t女娲的成长日记女娲变身\\...</td>\n",
       "      <td>1.0</td>\n",
       "      <td>2.0</td>\n",
       "      <td>5.0</td>\n",
       "      <td>陈翔 分手 青春偶像 剧 校园 电影 九尾狐 家族 王俊凯 小说 女娲 成长 日记 女娲 变...</td>\n",
       "    </tr>\n",
       "  </tbody>\n",
       "</table>\n",
       "</div>"
      ],
      "text/plain": [
       "                                     ID  \\\n",
       "99826  E797FFCDCAF3899AB4D17B61170D8BFF   \n",
       "99827  E06375F7D092ABDE78C2D79E4725D6B0   \n",
       "99828  D55119CB0B9366B20974522B58C00912   \n",
       "99829  EB4DBBD602C6459A19A77F09035E170C   \n",
       "99830  61CF81DB79423CB89E5DAA752BC4D9DD   \n",
       "\n",
       "                                               QueryList  age  Gender  \\\n",
       "99826  梦三生\\t逆行天后漫画结局\\t英雄联盟角色介绍大全\\t韩剧网最新韩国电视剧\\t119宣传语是...  1.0     1.0   \n",
       "99827  中国军队配枪\\t女生\\t央视版权问题\\t重庆\\t一次性手术刀\\t精神枷锁\\t人民检察官\\t舆...  1.0     1.0   \n",
       "99828  英文翻译\\t幼儿园面试讲课\\t学前教育书第二版\\tshock to\\t幼儿园教师资格证面试讲...  2.0     2.0   \n",
       "99829  哈尔滨祖研中医院地址\\t指甲盖侧面的肉怎么是白色\\t补骨质有副作用吗\\t哈尔滨去呼兰\\t黑龙...  3.0     2.0   \n",
       "99830  陈翔毛晓彤分手\\t青春偶像剧校园电影\\t九尾狐家族\\t王俊凯小说\\t女娲的成长日记女娲变身\\...  1.0     2.0   \n",
       "\n",
       "       Education                             PossegCleanedQueryList  \n",
       "99826        5.0  梦 逆行 漫画 结局 英雄 联盟 角色 介绍 韩剧 网 韩国 电视剧 宣传语 斗破 苍穹 肆...  \n",
       "99827        5.0  中国 军队 配枪 女生 央视 版权 重庆 手术刀 精神枷锁 检察官 舆论 精神 禁锢 百度 ...  \n",
       "99828        5.0  英文翻译 幼儿园 面试 讲课 书 版 幼儿园 教师 资格证 面试 讲课 设计 签名 免费 艺...  \n",
       "99829        3.0  哈尔滨 祖研 医院地址 指甲盖 肉 白色 补 骨质 副作用 哈尔滨 呼兰 黑龙江 祖研 中医...  \n",
       "99830        5.0  陈翔 分手 青春偶像 剧 校园 电影 九尾狐 家族 王俊凯 小说 女娲 成长 日记 女娲 变...  "
      ]
     },
     "execution_count": 223,
     "metadata": {},
     "output_type": "execute_result"
    }
   ],
   "source": [
    "data[0:99828].tail()"
   ]
  },
  {
   "cell_type": "markdown",
   "metadata": {},
   "source": [
    "#### 训练集准备"
   ]
  },
  {
   "cell_type": "code",
   "execution_count": 225,
   "metadata": {},
   "outputs": [],
   "source": [
    "import numpy as np\n",
    "# 年龄\n",
    "age_index = np.nonzero(data[0:99828].age)\n",
    "# age_X = doc_vec[age_index]\n",
    "posseg_age_X = cleaned_posseg_doc_vec[age_index]\n",
    "age_y = data.age.iloc[age_index]\n",
    "\n",
    "# 性别\n",
    "gender_index = np.nonzero(data[0:99828].Gender)\n",
    "# gender_X = doc_vec[gender_index]\n",
    "posseg_gender_X = cleaned_posseg_doc_vec[gender_index]\n",
    "gender_y = data.Gender.iloc[gender_index]\n",
    "\n",
    "# 学历\n",
    "education_index = np.nonzero(data[0:99828].Education)\n",
    "# education_X = doc_vec[education_index]\n",
    "posseg_education_X = cleaned_posseg_doc_vec[education_index]\n",
    "education_y = data.Education.iloc[education_index]"
   ]
  },
  {
   "cell_type": "code",
   "execution_count": 80,
   "metadata": {},
   "outputs": [
    {
     "name": "stdout",
     "output_type": "stream",
     "text": [
      "(98165, 300) (98165,)\n"
     ]
    }
   ],
   "source": [
    "print(age_X.shape,age_y.shape)"
   ]
  },
  {
   "cell_type": "code",
   "execution_count": 82,
   "metadata": {
    "scrolled": true
   },
   "outputs": [
    {
     "name": "stdout",
     "output_type": "stream",
     "text": [
      "(90572, 300) (90572,)\n"
     ]
    }
   ],
   "source": [
    "print(education_X.shape,education_y.shape)"
   ]
  },
  {
   "cell_type": "code",
   "execution_count": 227,
   "metadata": {
    "scrolled": true
   },
   "outputs": [
    {
     "ename": "NameError",
     "evalue": "name 'gender_X' is not defined",
     "output_type": "error",
     "traceback": [
      "\u001b[1;31m---------------------------------------------------------------------------\u001b[0m",
      "\u001b[1;31mNameError\u001b[0m                                 Traceback (most recent call last)",
      "\u001b[1;32m<ipython-input-227-912a21a1628a>\u001b[0m in \u001b[0;36m<module>\u001b[1;34m\u001b[0m\n\u001b[1;32m----> 1\u001b[1;33m \u001b[0mprint\u001b[0m\u001b[1;33m(\u001b[0m\u001b[0mgender_X\u001b[0m\u001b[1;33m.\u001b[0m\u001b[0mshape\u001b[0m\u001b[1;33m,\u001b[0m\u001b[0mgender_y\u001b[0m\u001b[1;33m.\u001b[0m\u001b[0mshape\u001b[0m\u001b[1;33m)\u001b[0m\u001b[1;33m\u001b[0m\u001b[0m\n\u001b[0m",
      "\u001b[1;31mNameError\u001b[0m: name 'gender_X' is not defined"
     ]
    }
   ],
   "source": [
    "print(gender_X.shape,gender_y.shape)"
   ]
  },
  {
   "cell_type": "code",
   "execution_count": 229,
   "metadata": {},
   "outputs": [
    {
     "name": "stdout",
     "output_type": "stream",
     "text": [
      "(98162, 300) (98162,)\n"
     ]
    }
   ],
   "source": [
    "print(posseg_age_X.shape,age_y.shape)"
   ]
  },
  {
   "cell_type": "code",
   "execution_count": 230,
   "metadata": {
    "scrolled": true
   },
   "outputs": [
    {
     "name": "stdout",
     "output_type": "stream",
     "text": [
      "(97675, 300) (97675,)\n"
     ]
    }
   ],
   "source": [
    "print(posseg_gender_X.shape,gender_y.shape)"
   ]
  },
  {
   "cell_type": "code",
   "execution_count": 231,
   "metadata": {
    "scrolled": true
   },
   "outputs": [
    {
     "name": "stdout",
     "output_type": "stream",
     "text": [
      "(90569, 300) (90569,)\n"
     ]
    }
   ],
   "source": [
    "print(posseg_education_X.shape,education_y.shape)"
   ]
  },
  {
   "cell_type": "markdown",
   "metadata": {},
   "source": [
    "##### 缺失值预测"
   ]
  },
  {
   "cell_type": "code",
   "execution_count": 83,
   "metadata": {},
   "outputs": [],
   "source": [
    "from sklearn.model_selection import train_test_split\n",
    "age_train_X, age_test_X, age_train_y, age_test_y = train_test_split(age_X, age_y, test_size=0.3,random_state=0)"
   ]
  },
  {
   "cell_type": "code",
   "execution_count": 86,
   "metadata": {},
   "outputs": [
    {
     "name": "stdout",
     "output_type": "stream",
     "text": [
      "0.4499830220713073\n"
     ]
    },
    {
     "name": "stderr",
     "output_type": "stream",
     "text": [
      "C:\\Users\\xiaoyu\\Envs\\Machine_learning\\lib\\site-packages\\sklearn\\linear_model\\logistic.py:432: FutureWarning: Default solver will be changed to 'lbfgs' in 0.22. Specify a solver to silence this warning.\n",
      "  FutureWarning)\n",
      "C:\\Users\\xiaoyu\\Envs\\Machine_learning\\lib\\site-packages\\sklearn\\linear_model\\logistic.py:459: FutureWarning: Default multi_class will be changed to 'auto' in 0.22. Specify the multi_class option to silence this warning.\n",
      "  \"this warning.\", FutureWarning)\n"
     ]
    },
    {
     "name": "stdout",
     "output_type": "stream",
     "text": [
      "0.5100509337860781\n",
      "0.4049915110356537\n"
     ]
    },
    {
     "name": "stderr",
     "output_type": "stream",
     "text": [
      "C:\\Users\\xiaoyu\\Envs\\Machine_learning\\lib\\site-packages\\sklearn\\svm\\base.py:196: FutureWarning: The default value of gamma will change from 'auto' to 'scale' in version 0.22 to account better for unscaled features. Set gamma explicitly to 'auto' or 'scale' to avoid this warning.\n",
      "  \"avoid this warning.\", FutureWarning)\n"
     ]
    },
    {
     "name": "stdout",
     "output_type": "stream",
     "text": [
      "0.4993887945670628\n",
      "0.359151103565365\n"
     ]
    },
    {
     "name": "stderr",
     "output_type": "stream",
     "text": [
      "C:\\Users\\xiaoyu\\Envs\\Machine_learning\\lib\\site-packages\\sklearn\\ensemble\\forest.py:248: FutureWarning: The default value of n_estimators will change from 10 in version 0.20 to 100 in 0.22.\n",
      "  \"10 in version 0.20 to 100 in 0.22.\", FutureWarning)\n"
     ]
    },
    {
     "name": "stdout",
     "output_type": "stream",
     "text": [
      "0.4360611205432937\n"
     ]
    }
   ],
   "source": [
    "from sklearn.linear_model import LogisticRegression\n",
    "from sklearn.naive_bayes import GaussianNB\n",
    "from sklearn.svm import SVC\n",
    "from sklearn.tree import DecisionTreeClassifier\n",
    "from sklearn.ensemble import RandomForestClassifier\n",
    "from sklearn.neighbors import KNeighborsClassifier\n",
    "models = [KNeighborsClassifier(),LogisticRegression(),GaussianNB(), SVC(),DecisionTreeClassifier(),RandomForestClassifier()]\n",
    "for model in models:\n",
    "    model.fit(age_train_X, age_train_y)\n",
    "    print(model.score(age_test_X, age_test_y))\n",
    "    "
   ]
  },
  {
   "cell_type": "code",
   "execution_count": 234,
   "metadata": {},
   "outputs": [],
   "source": [
    "from sklearn.model_selection import train_test_split\n",
    "posseg_age_train_X, posseg_age_test_X, posseg_age_train_y, posseg_age_test_y = train_test_split(posseg_age_X, age_y, test_size=0.3,random_state=0)"
   ]
  },
  {
   "cell_type": "code",
   "execution_count": 236,
   "metadata": {},
   "outputs": [
    {
     "name": "stdout",
     "output_type": "stream",
     "text": [
      "0.4496926890556555\n"
     ]
    },
    {
     "name": "stderr",
     "output_type": "stream",
     "text": [
      "C:\\Users\\xiaoyu\\Envs\\Machine_learning\\lib\\site-packages\\sklearn\\linear_model\\logistic.py:432: FutureWarning: Default solver will be changed to 'lbfgs' in 0.22. Specify a solver to silence this warning.\n",
      "  FutureWarning)\n",
      "C:\\Users\\xiaoyu\\Envs\\Machine_learning\\lib\\site-packages\\sklearn\\linear_model\\logistic.py:459: FutureWarning: Default multi_class will be changed to 'auto' in 0.22. Specify the multi_class option to silence this warning.\n",
      "  \"this warning.\", FutureWarning)\n"
     ]
    },
    {
     "name": "stdout",
     "output_type": "stream",
     "text": [
      "0.5110530068932732\n",
      "0.42361370504940743\n"
     ]
    },
    {
     "name": "stderr",
     "output_type": "stream",
     "text": [
      "C:\\Users\\xiaoyu\\Envs\\Machine_learning\\lib\\site-packages\\sklearn\\svm\\base.py:196: FutureWarning: The default value of gamma will change from 'auto' to 'scale' in version 0.22 to account better for unscaled features. Set gamma explicitly to 'auto' or 'scale' to avoid this warning.\n",
      "  \"avoid this warning.\", FutureWarning)\n"
     ]
    },
    {
     "name": "stdout",
     "output_type": "stream",
     "text": [
      "0.4935651465245\n",
      "0.3592991273048321\n"
     ]
    },
    {
     "name": "stderr",
     "output_type": "stream",
     "text": [
      "C:\\Users\\xiaoyu\\Envs\\Machine_learning\\lib\\site-packages\\sklearn\\ensemble\\forest.py:248: FutureWarning: The default value of n_estimators will change from 10 in version 0.20 to 100 in 0.22.\n",
      "  \"10 in version 0.20 to 100 in 0.22.\", FutureWarning)\n"
     ]
    },
    {
     "name": "stdout",
     "output_type": "stream",
     "text": [
      "0.44086386634520697\n"
     ]
    }
   ],
   "source": [
    "# 经过词性过滤\n",
    "from sklearn.linear_model import LogisticRegression\n",
    "from sklearn.naive_bayes import GaussianNB\n",
    "from sklearn.svm import SVC\n",
    "from sklearn.tree import DecisionTreeClassifier\n",
    "from sklearn.ensemble import RandomForestClassifier\n",
    "from sklearn.neighbors import KNeighborsClassifier\n",
    "models = [KNeighborsClassifier(),LogisticRegression(),GaussianNB(), SVC(),DecisionTreeClassifier(),RandomForestClassifier()]\n",
    "for model in models:\n",
    "    model.fit(posseg_age_train_X, posseg_age_train_y)\n",
    "    print(model.score(posseg_age_test_X, posseg_age_test_y))"
   ]
  },
  {
   "cell_type": "markdown",
   "metadata": {},
   "source": [
    "#### 模型筛选与改进"
   ]
  },
  {
   "cell_type": "markdown",
   "metadata": {},
   "source": [
    "##### KNN"
   ]
  },
  {
   "cell_type": "code",
   "execution_count": 35,
   "metadata": {},
   "outputs": [
    {
     "ename": "NameError",
     "evalue": "name 'posseg_age_train_X' is not defined",
     "output_type": "error",
     "traceback": [
      "\u001b[1;31m---------------------------------------------------------------------------\u001b[0m",
      "\u001b[1;31mNameError\u001b[0m                                 Traceback (most recent call last)",
      "\u001b[1;32m<timed exec>\u001b[0m in \u001b[0;36m<module>\u001b[1;34m\u001b[0m\n",
      "\u001b[1;31mNameError\u001b[0m: name 'posseg_age_train_X' is not defined"
     ]
    }
   ],
   "source": [
    "%%time\n",
    "from sklearn.neighbors import KNeighborsClassifier\n",
    "from sklearn.model_selection import GridSearchCV\n",
    "import numpy as np\n",
    "n_neighbors = np.arange(5,50,5)\n",
    "weights  = ['distance', 'uniform']\n",
    "p = [1, 2]\n",
    "algorithm = ['auto', 'ball_tree', 'kd_tree', 'brute']\n",
    "param_grid = {'n_neighbors':n_neighbors, 'weights':weights, 'p':p, 'algorithm':algorithm}\n",
    "knn_gs = GridSearchCV(estimator=KNeighborsClassifier(n_jobs=4),param_grid=param_grid,verbose=True,cv=5)\n",
    "knn_gs.fit(posseg_age_train_X[:10000], posseg_age_train_y[:10000])\n",
    "print(knn_gs.best_score_)\n",
    "print(svm_gs.best_estimator_)"
   ]
  }
 ],
 "metadata": {
  "kernelspec": {
   "display_name": "Machine_learning",
   "language": "python",
   "name": "machine_learning"
  },
  "language_info": {
   "codemirror_mode": {
    "name": "ipython",
    "version": 3
   },
   "file_extension": ".py",
   "mimetype": "text/x-python",
   "name": "python",
   "nbconvert_exporter": "python",
   "pygments_lexer": "ipython3",
   "version": "3.6.5"
  },
  "toc": {
   "base_numbering": 1,
   "nav_menu": {
    "height": "227px",
    "width": "238px"
   },
   "number_sections": true,
   "sideBar": true,
   "skip_h1_title": false,
   "title_cell": "Table of Contents",
   "title_sidebar": "Contents",
   "toc_cell": false,
   "toc_position": {},
   "toc_section_display": true,
   "toc_window_display": true
  }
 },
 "nbformat": 4,
 "nbformat_minor": 2
}
