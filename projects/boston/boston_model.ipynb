{
 "cells": [
  {
   "cell_type": "markdown",
   "metadata": {},
   "source": [
    "### 波士顿房价预测"
   ]
  },
  {
   "cell_type": "markdown",
   "metadata": {},
   "source": [
    "### 数据加载"
   ]
  },
  {
   "cell_type": "code",
   "execution_count": 2,
   "metadata": {},
   "outputs": [
    {
     "name": "stderr",
     "output_type": "stream",
     "text": [
      "C:\\Users\\xiaoyu\\Envs\\Machine_learning\\lib\\importlib\\_bootstrap.py:219: RuntimeWarning: numpy.ufunc size changed, may indicate binary incompatibility. Expected 216, got 192\n",
      "  return f(*args, **kwds)\n"
     ]
    }
   ],
   "source": [
    "from sklearn import datasets\n",
    "boston = datasets.load_boston()"
   ]
  },
  {
   "cell_type": "markdown",
   "metadata": {},
   "source": [
    "### 数据观察"
   ]
  },
  {
   "cell_type": "code",
   "execution_count": 4,
   "metadata": {},
   "outputs": [
    {
     "data": {
      "text/plain": [
       "['.. _boston_dataset:',\n",
       " '',\n",
       " 'Boston house prices dataset',\n",
       " '---------------------------',\n",
       " '',\n",
       " '**Data Set Characteristics:**  ',\n",
       " '',\n",
       " '    :Number of Instances: 506 ',\n",
       " '',\n",
       " '    :Number of Attributes: 13 numeric/categorical predictive. Median Value (attribute 14) is usually the target.',\n",
       " '',\n",
       " '    :Attribute Information (in order):',\n",
       " '        - CRIM     per capita crime rate by town',\n",
       " '        - ZN       proportion of residential land zoned for lots over 25,000 sq.ft.',\n",
       " '        - INDUS    proportion of non-retail business acres per town',\n",
       " '        - CHAS     Charles River dummy variable (= 1 if tract bounds river; 0 otherwise)',\n",
       " '        - NOX      nitric oxides concentration (parts per 10 million)',\n",
       " '        - RM       average number of rooms per dwelling',\n",
       " '        - AGE      proportion of owner-occupied units built prior to 1940',\n",
       " '        - DIS      weighted distances to five Boston employment centres',\n",
       " '        - RAD      index of accessibility to radial highways',\n",
       " '        - TAX      full-value property-tax rate per $10,000',\n",
       " '        - PTRATIO  pupil-teacher ratio by town',\n",
       " '        - B        1000(Bk - 0.63)^2 where Bk is the proportion of blacks by town',\n",
       " '        - LSTAT    % lower status of the population',\n",
       " \"        - MEDV     Median value of owner-occupied homes in $1000's\",\n",
       " '',\n",
       " '    :Missing Attribute Values: None',\n",
       " '',\n",
       " '    :Creator: Harrison, D. and Rubinfeld, D.L.',\n",
       " '',\n",
       " 'This is a copy of UCI ML housing dataset.',\n",
       " 'https://archive.ics.uci.edu/ml/machine-learning-databases/housing/',\n",
       " '',\n",
       " '',\n",
       " 'This dataset was taken from the StatLib library which is maintained at Carnegie Mellon University.',\n",
       " '',\n",
       " \"The Boston house-price data of Harrison, D. and Rubinfeld, D.L. 'Hedonic\",\n",
       " \"prices and the demand for clean air', J. Environ. Economics & Management,\",\n",
       " \"vol.5, 81-102, 1978.   Used in Belsley, Kuh & Welsch, 'Regression diagnostics\",\n",
       " \"...', Wiley, 1980.   N.B. Various transformations are used in the table on\",\n",
       " 'pages 244-261 of the latter.',\n",
       " '',\n",
       " 'The Boston house-price data has been used in many machine learning papers that address regression',\n",
       " 'problems.   ',\n",
       " '     ',\n",
       " '.. topic:: References',\n",
       " '',\n",
       " \"   - Belsley, Kuh & Welsch, 'Regression diagnostics: Identifying Influential Data and Sources of Collinearity', Wiley, 1980. 244-261.\",\n",
       " '   - Quinlan,R. (1993). Combining Instance-Based and Model-Based Learning. In Proceedings on the Tenth International Conference of Machine Learning, 236-243, University of Massachusetts, Amherst. Morgan Kaufmann.',\n",
       " '']"
      ]
     },
     "execution_count": 4,
     "metadata": {},
     "output_type": "execute_result"
    }
   ],
   "source": [
    "boston.DESCR.split('\\n')"
   ]
  },
  {
   "cell_type": "code",
   "execution_count": 8,
   "metadata": {},
   "outputs": [
    {
     "data": {
      "text/plain": [
       "array([24. , 21.6, 34.7, 33.4, 36.2])"
      ]
     },
     "execution_count": 8,
     "metadata": {},
     "output_type": "execute_result"
    }
   ],
   "source": [
    "boston.target[:5]"
   ]
  },
  {
   "cell_type": "code",
   "execution_count": 6,
   "metadata": {},
   "outputs": [
    {
     "data": {
      "text/plain": [
       "array(['CRIM', 'ZN', 'INDUS', 'CHAS', 'NOX', 'RM', 'AGE', 'DIS', 'RAD',\n",
       "       'TAX', 'PTRATIO', 'B', 'LSTAT'], dtype='<U7')"
      ]
     },
     "execution_count": 6,
     "metadata": {},
     "output_type": "execute_result"
    }
   ],
   "source": [
    "boston.feature_names"
   ]
  },
  {
   "cell_type": "code",
   "execution_count": 7,
   "metadata": {},
   "outputs": [
    {
     "data": {
      "text/plain": [
       "array([[6.3200e-03, 1.8000e+01, 2.3100e+00, 0.0000e+00, 5.3800e-01,\n",
       "        6.5750e+00, 6.5200e+01, 4.0900e+00, 1.0000e+00, 2.9600e+02,\n",
       "        1.5300e+01, 3.9690e+02, 4.9800e+00],\n",
       "       [2.7310e-02, 0.0000e+00, 7.0700e+00, 0.0000e+00, 4.6900e-01,\n",
       "        6.4210e+00, 7.8900e+01, 4.9671e+00, 2.0000e+00, 2.4200e+02,\n",
       "        1.7800e+01, 3.9690e+02, 9.1400e+00],\n",
       "       [2.7290e-02, 0.0000e+00, 7.0700e+00, 0.0000e+00, 4.6900e-01,\n",
       "        7.1850e+00, 6.1100e+01, 4.9671e+00, 2.0000e+00, 2.4200e+02,\n",
       "        1.7800e+01, 3.9283e+02, 4.0300e+00],\n",
       "       [3.2370e-02, 0.0000e+00, 2.1800e+00, 0.0000e+00, 4.5800e-01,\n",
       "        6.9980e+00, 4.5800e+01, 6.0622e+00, 3.0000e+00, 2.2200e+02,\n",
       "        1.8700e+01, 3.9463e+02, 2.9400e+00],\n",
       "       [6.9050e-02, 0.0000e+00, 2.1800e+00, 0.0000e+00, 4.5800e-01,\n",
       "        7.1470e+00, 5.4200e+01, 6.0622e+00, 3.0000e+00, 2.2200e+02,\n",
       "        1.8700e+01, 3.9690e+02, 5.3300e+00]])"
      ]
     },
     "execution_count": 7,
     "metadata": {},
     "output_type": "execute_result"
    }
   ],
   "source": [
    "boston.data[:5]"
   ]
  },
  {
   "cell_type": "code",
   "execution_count": 22,
   "metadata": {},
   "outputs": [
    {
     "name": "stdout",
     "output_type": "stream",
     "text": [
      "(506, 104)\n",
      "[[0.         0.18       0.06781525 0.         0.31481481 0.57750527\n",
      "  0.64160659 0.26920314 0.         0.20801527 0.28723404 1.\n",
      "  0.08967991 0.         0.         0.         0.         0.\n",
      "  0.         0.         0.         0.         0.         0.\n",
      "  0.         0.         0.0324     0.01220674 0.         0.05666667\n",
      "  0.10395095 0.11548919 0.04845657 0.         0.03744275 0.05170213\n",
      "  0.18       0.01614238 0.00459891 0.         0.02134925 0.03916366\n",
      "  0.04351071 0.01825608 0.         0.01410661 0.01947885 0.06781525\n",
      "  0.00608167 0.         0.         0.         0.         0.\n",
      "  0.         0.         0.         0.         0.         0.09910837\n",
      "  0.18180721 0.20198726 0.08474914 0.         0.06548629 0.09042553\n",
      "  0.31481481 0.02823256 0.33351234 0.37053119 0.15546623 0.\n",
      "  0.12012991 0.16587917 0.57750527 0.05179062 0.41165902 0.17272251\n",
      "  0.         0.13346397 0.18429125 0.64160659 0.05753922 0.07247033\n",
      "  0.         0.05599836 0.07732431 0.26920314 0.02414211 0.\n",
      "  0.         0.         0.         0.         0.04327035 0.05974907\n",
      "  0.20801527 0.01865479 0.0825034  0.28723404 0.02575912 1.\n",
      "  0.08967991 0.00804249]]\n"
     ]
    }
   ],
   "source": [
    "# 扩展两两相乘的特征，以及归一化\n",
    "from sklearn.preprocessing import MinMaxScaler, PolynomialFeatures\n",
    "X = MinMaxScaler().fit_transform(boston.data)\n",
    "X = PolynomialFeatures(degree=2, include_bias=False).fit_transform(X)\n",
    "print(X.shape)\n",
    "print(X[:1])"
   ]
  },
  {
   "cell_type": "code",
   "execution_count": 31,
   "metadata": {},
   "outputs": [
    {
     "data": {
      "image/png": "[encoded data removed]",
      "text/plain": [
       "<Figure size 432x288 with 1 Axes>"
      ]
     },
     "metadata": {
      "needs_background": "light"
     },
     "output_type": "display_data"
    }
   ],
   "source": [
    "import mglearn\n",
    "mglearn.plots.plot_knn_classification(n_neighbors=1)\n"
   ]
  },
  {
   "cell_type": "code",
   "execution_count": 32,
   "metadata": {},
   "outputs": [
    {
     "data": {
      "image/png": "[encoded data removed]",
      "text/plain": [
       "<Figure size 432x288 with 1 Axes>"
      ]
     },
     "metadata": {
      "needs_background": "light"
     },
     "output_type": "display_data"
    }
   ],
   "source": [
    "mglearn.plots.plot_knn_classification(n_neighbors=3)"
   ]
  },
  {
   "cell_type": "code",
   "execution_count": 33,
   "metadata": {},
   "outputs": [
    {
     "data": {
      "image/png": "[encoded data removed]",
      "text/plain": [
       "<Figure size 720x432 with 1 Axes>"
      ]
     },
     "metadata": {
      "needs_background": "light"
     },
     "output_type": "display_data"
    }
   ],
   "source": [
    "mglearn.plots.plot_knn_regression(n_neighbors=1)"
   ]
  },
  {
   "cell_type": "code",
   "execution_count": 34,
   "metadata": {},
   "outputs": [
    {
     "data": {
      "image/png": "[encoded data removed]",
      "text/plain": [
       "<Figure size 720x432 with 1 Axes>"
      ]
     },
     "metadata": {
      "needs_background": "light"
     },
     "output_type": "display_data"
    }
   ],
   "source": [
    "mglearn.plots.plot_knn_regression(n_neighbors=3)"
   ]
  },
  {
   "cell_type": "markdown",
   "metadata": {},
   "source": [
    "### 训练集准备"
   ]
  },
  {
   "cell_type": "code",
   "execution_count": 24,
   "metadata": {},
   "outputs": [],
   "source": [
    "# 训练集准备\n",
    "from sklearn.model_selection import train_test_split\n",
    "train_X, test_X, train_y, test_y = train_test_split(X, boston.target, test_size=0.3)"
   ]
  },
  {
   "cell_type": "markdown",
   "metadata": {},
   "source": [
    "### KNN模型训练、评估与预测"
   ]
  },
  {
   "cell_type": "code",
   "execution_count": 41,
   "metadata": {},
   "outputs": [
    {
     "name": "stdout",
     "output_type": "stream",
     "text": [
      "n_neighbors 1\n",
      "train_score: 1.0\n",
      "train_score: 0.7807728338940826\n",
      "\n",
      "n_neighbors 2\n",
      "train_score: 0.9067067900443011\n",
      "train_score: 0.7652239220544559\n",
      "\n",
      "n_neighbors 3\n",
      "train_score: 0.8660315063905358\n",
      "train_score: 0.7523779739602787\n",
      "\n",
      "n_neighbors 4\n",
      "train_score: 0.8472305929980571\n",
      "train_score: 0.7759423719832047\n",
      "\n",
      "n_neighbors 5\n",
      "train_score: 0.8217786578918871\n",
      "train_score: 0.7599557072037365\n",
      "\n",
      "n_neighbors 6\n",
      "train_score: 0.7912665571809654\n",
      "train_score: 0.7478386713600234\n",
      "\n",
      "n_neighbors 7\n",
      "train_score: 0.7676326334003143\n",
      "train_score: 0.7196790955345933\n",
      "\n",
      "n_neighbors 8\n",
      "train_score: 0.7449771422054511\n",
      "train_score: 0.6868894402938709\n",
      "\n",
      "n_neighbors 9\n",
      "train_score: 0.729513081105523\n",
      "train_score: 0.6937136292484416\n",
      "\n"
     ]
    }
   ],
   "source": [
    "from sklearn.neighbors import KNeighborsRegressor\n",
    "neighbors_settings = range(1, 10)\n",
    "train_score_list = []\n",
    "test_score_list = []\n",
    "for n in neighbors_settings:\n",
    "    knn_model = KNeighborsRegressor(n_neighbors=n)\n",
    "    knn_model.fit(train_X, train_y)\n",
    "    train_score = knn_model.score(train_X, train_y)\n",
    "    test_score = knn_model.score(test_X, test_y)\n",
    "    train_score_list.append(train_score)\n",
    "    test_score_list.append(test_score)\n",
    "    print('n_neighbors', n)\n",
    "    print('train_score:', train_score)\n",
    "    print('train_score:', test_score)\n",
    "    print('')"
   ]
  },
  {
   "cell_type": "code",
   "execution_count": 42,
   "metadata": {},
   "outputs": [
    {
     "data": {
      "image/png": "[encoded data removed]",
      "text/plain": [
       "<Figure size 432x288 with 1 Axes>"
      ]
     },
     "metadata": {
      "needs_background": "light"
     },
     "output_type": "display_data"
    }
   ],
   "source": [
    "# 描绘KNN学习曲线图\n",
    "import matplotlib.pyplot as plt\n",
    "plt.plot(neighbors_settings, train_score_list, label='train accuracy')\n",
    "plt.plot(neighbors_settings, test_score_list, label='test accuracy')\n",
    "plt.xlabel('n_neighors')\n",
    "plt.ylabel('accuracy')\n",
    "plt.legend()\n",
    "plt.savefig('./knn_model.png')\n",
    "plt.show()"
   ]
  },
  {
   "cell_type": "code",
   "execution_count": 44,
   "metadata": {},
   "outputs": [
    {
     "data": {
      "text/plain": [
       "{'algorithm': 'auto',\n",
       " 'leaf_size': 30,\n",
       " 'metric': 'minkowski',\n",
       " 'metric_params': None,\n",
       " 'n_jobs': None,\n",
       " 'n_neighbors': 9,\n",
       " 'p': 2,\n",
       " 'weights': 'uniform'}"
      ]
     },
     "execution_count": 44,
     "metadata": {},
     "output_type": "execute_result"
    }
   ],
   "source": [
    "knn_model.get_params()"
   ]
  },
  {
   "cell_type": "markdown",
   "metadata": {},
   "source": [
    "### 线性模型"
   ]
  },
  {
   "cell_type": "markdown",
   "metadata": {},
   "source": [
    "### 简单的线性模型LR"
   ]
  },
  {
   "cell_type": "code",
   "execution_count": 46,
   "metadata": {},
   "outputs": [
    {
     "name": "stdout",
     "output_type": "stream",
     "text": [
      "train_score 0.9361053524432779\n",
      "test_score 0.8308720457871484\n"
     ]
    }
   ],
   "source": [
    "from sklearn.linear_model import LinearRegression\n",
    "lr_model = LinearRegression()\n",
    "lr_model.fit(train_X, train_y)\n",
    "train_score = lr_model.score(train_X, train_y)\n",
    "test_score = lr_model.score(test_X, test_y)\n",
    "print('train_score', train_score)\n",
    "print('test_score', test_score)"
   ]
  },
  {
   "cell_type": "code",
   "execution_count": 47,
   "metadata": {},
   "outputs": [
    {
     "name": "stdout",
     "output_type": "stream",
     "text": [
      "权重值w： [-4.60254638e+01 -2.97394240e+01 -7.53632050e+01  1.12420987e+01\n",
      "  1.86966338e+01  7.81840961e+01  3.55437016e+01  3.15100167e+01\n",
      "  6.66056112e+00  5.52977939e+01  1.37774592e+01  5.43276531e+01\n",
      "  4.60632148e+01  2.40270241e+01  4.48627272e+02  5.89040995e+02\n",
      "  3.30944057e+02 -3.51384199e+01  4.63295573e+01 -2.95859194e+01\n",
      " -6.16376639e+01  7.24136509e+02 -1.27745138e+03  9.63871500e+01\n",
      " -2.83069309e+01  9.63563598e+01 -8.00206957e+00 -1.18187405e+01\n",
      " -9.35389427e+00 -8.71998167e+01  1.54264964e+01  7.78929646e+00\n",
      " -1.07136821e+01 -1.17941760e+00  4.51504580e+01  1.08004057e-01\n",
      "  3.49573889e+01 -2.36302578e+01  3.59044321e+01  2.00213519e+00\n",
      "  1.11919604e+01  4.49470901e+01  5.69690086e+00  3.72377888e+01\n",
      " -5.20935414e+01  2.73837625e+01 -9.57978031e-01  1.77149312e+01\n",
      " -1.76558696e+01  1.12420987e+01 -1.75686027e+01 -2.85652843e+01\n",
      " -2.15274583e+00  7.42846773e+00  1.67869497e+00 -1.85084285e+01\n",
      " -1.15323707e+01  8.54453409e+00 -7.58283976e+00 -4.55628959e-01\n",
      "  1.72234757e+01 -2.20496008e+01  8.53246738e+01 -1.41352067e+01\n",
      "  2.50192848e+01 -5.89581686e+01 -6.75237267e+00  1.58028364e+01\n",
      "  1.35882198e+01 -4.01571381e+01 -9.64959949e+00  3.61567665e+00\n",
      " -6.76960655e+01 -1.32567059e+01 -1.20171856e+01 -4.67412039e+01\n",
      "  5.87662315e+00 -1.45577380e-01  3.46672972e+01 -2.00327966e+01\n",
      " -5.94734753e-01 -1.86355130e+01 -3.50990257e+01  4.55198490e+01\n",
      " -4.41989789e+01 -3.98834710e+01 -2.63096244e+01 -6.27767478e+01\n",
      "  1.98133884e+01 -8.58067747e+01  1.37927996e+02 -9.15673924e+00\n",
      "  1.28019456e+01 -1.70137244e+01 -3.69267999e+01  2.84469055e+01\n",
      " -3.00809720e+01 -3.58825588e+01  3.44377319e+00  2.15612602e+00\n",
      "  6.27699774e+00 -7.32294715e+00 -1.68804202e+01  2.16911162e+01]\n",
      "斜率值b： -52.29890728304794\n"
     ]
    }
   ],
   "source": [
    "### 获取模型参数\n",
    "print('权重值w：', lr_model.coef_)\n",
    "print('斜率值b：', lr_model.intercept_)"
   ]
  },
  {
   "cell_type": "markdown",
   "metadata": {},
   "source": [
    "### 岭回归模型"
   ]
  },
  {
   "cell_type": "code",
   "execution_count": 51,
   "metadata": {},
   "outputs": [
    {
     "name": "stdout",
     "output_type": "stream",
     "text": [
      "train_score 0.8557037874086142\n",
      "test_score 0.8396527510170175\n"
     ]
    }
   ],
   "source": [
    "# 主要是减少过拟合现象\n",
    "from sklearn.linear_model import Ridge\n",
    "rg_model = Ridge()\n",
    "rg_model.fit(train_X, train_y)\n",
    "train_score = rg_model.score(train_X, train_y)\n",
    "test_score = rg_model.score(test_X, test_y)\n",
    "print('train_score', train_score)\n",
    "print('test_score', test_score)"
   ]
  },
  {
   "cell_type": "code",
   "execution_count": 65,
   "metadata": {},
   "outputs": [
    {
     "name": "stdout",
     "output_type": "stream",
     "text": [
      "alpha: 0.0\n",
      "train_score 0.934972924087606\n",
      "test_score 0.8198958339909889\n",
      "w_total: 830.5512270982649\n",
      "\n",
      "alpha: 0.1\n",
      "train_score 0.906206044630236\n",
      "test_score 0.8739626527342954\n",
      "w_total: -23.273416813263513\n",
      "\n",
      "alpha: 0.2\n",
      "train_score 0.8954641780019421\n",
      "test_score 0.8702781511964031\n",
      "w_total: -35.94733029013055\n",
      "\n",
      "alpha: 0.3\n",
      "train_score 0.8876284661748512\n",
      "test_score 0.8656422219053022\n",
      "w_total: -40.92393870958038\n",
      "\n",
      "alpha: 0.4\n",
      "train_score 0.8812562667386117\n",
      "test_score 0.8611076544251811\n",
      "w_total: -43.481423208145735\n",
      "\n",
      "alpha: 0.5\n",
      "train_score 0.8758021900085979\n",
      "test_score 0.856860681677505\n",
      "w_total: -44.94293754727461\n",
      "\n",
      "alpha: 0.6\n",
      "train_score 0.8709923185412332\n",
      "test_score 0.8529170810798697\n",
      "w_total: -45.80999462337375\n",
      "\n",
      "alpha: 0.7\n",
      "train_score 0.86666624311659\n",
      "test_score 0.8492537355983321\n",
      "w_total: -46.31842982745327\n",
      "\n",
      "alpha: 0.8\n",
      "train_score 0.8627204497072308\n",
      "test_score 0.845840483498238\n",
      "w_total: -46.59506360605417\n",
      "\n",
      "alpha: 0.9\n",
      "train_score 0.859083533651519\n",
      "test_score 0.8426485850601021\n",
      "w_total: -46.71460937832586\n",
      "\n"
     ]
    }
   ],
   "source": [
    "from sklearn.linear_model import Ridge\n",
    "for alpha in range(0,100,10):\n",
    "    rg_model = Ridge(alpha=alpha/100)\n",
    "    rg_model.fit(train_X, train_y)\n",
    "    train_score = rg_model.score(train_X, train_y)\n",
    "    test_score = rg_model.score(test_X, test_y)\n",
    "    print('alpha:', alpha/100)\n",
    "    print('train_score', train_score)\n",
    "    print('test_score', test_score)\n",
    "    print('w_total:', sum(rg_model.coef_))\n",
    "    print('')"
   ]
  },
  {
   "cell_type": "code",
   "execution_count": 66,
   "metadata": {},
   "outputs": [
    {
     "name": "stdout",
     "output_type": "stream",
     "text": [
      "alpha: 0\n",
      "train_score 0.934972924087606\n",
      "test_score 0.8198958339909889\n",
      "w_total: 830.5512270982649\n",
      "\n",
      "alpha: 10\n",
      "train_score 0.7528421218838588\n",
      "test_score 0.7495889209351585\n",
      "w_total: -30.55036790202381\n",
      "\n",
      "alpha: 20\n",
      "train_score 0.7081493750248274\n",
      "test_score 0.7090754974619936\n",
      "w_total: -24.291012482800568\n",
      "\n",
      "alpha: 30\n",
      "train_score 0.6752719113936263\n",
      "test_score 0.6768966908782086\n",
      "w_total: -21.272894503165553\n",
      "\n",
      "alpha: 40\n",
      "train_score 0.6480256718540787\n",
      "test_score 0.6489555064366602\n",
      "w_total: -19.469981581189895\n",
      "\n",
      "alpha: 50\n",
      "train_score 0.624596738373207\n",
      "test_score 0.6242514242865213\n",
      "w_total: -18.263424738682843\n",
      "\n",
      "alpha: 60\n",
      "train_score 0.604082816293591\n",
      "test_score 0.6022544962376774\n",
      "w_total: -17.39454944257887\n",
      "\n",
      "alpha: 70\n",
      "train_score 0.585904423965374\n",
      "test_score 0.5825667755461574\n",
      "w_total: -16.73468837308428\n",
      "\n",
      "alpha: 80\n",
      "train_score 0.5696439446410346\n",
      "test_score 0.5648600388350289\n",
      "w_total: -16.21237776760561\n",
      "\n",
      "alpha: 90\n",
      "train_score 0.5549834745965576\n",
      "test_score 0.5488585184629468\n",
      "w_total: -15.784789630875528\n",
      "\n"
     ]
    }
   ],
   "source": [
    "from sklearn.linear_model import Ridge\n",
    "for alpha in range(0,100,10):\n",
    "    rg_model = Ridge(alpha=alpha)\n",
    "    rg_model.fit(train_X, train_y)\n",
    "    train_score = rg_model.score(train_X, train_y)\n",
    "    test_score = rg_model.score(test_X, test_y)\n",
    "    print('alpha:', alpha)\n",
    "    print('train_score', train_score)\n",
    "    print('test_score', test_score)\n",
    "    print('w_total:', sum(rg_model.coef_))\n",
    "    print('')"
   ]
  },
  {
   "cell_type": "code",
   "execution_count": 69,
   "metadata": {},
   "outputs": [
    {
     "data": {
      "image/png": "[encoded data removed]",
      "text/plain": [
       "<Figure size 432x288 with 1 Axes>"
      ]
     },
     "metadata": {
      "needs_background": "light"
     },
     "output_type": "display_data"
    }
   ],
   "source": [
    "# 改变训练数据量\n",
    "# 对波士顿房价数据集做二次抽样\n",
    "# 并在数据量逐渐增加的子数据集上分别对 LinearRegression 和 Ridge(alpha=1) 两个模型进行评估\n",
    "#将模型性能作为数据集大小的函数进行绘图，这样的图像叫作学习曲线）\n",
    "from sklearn.linear_model import LinearRegression, Ridge\n",
    "from sklearn.model_selection import learning_curve, KFold\n",
    "import numpy as np\n",
    "est_list = [LinearRegression(), Ridge()]\n",
    "for est in est_list:\n",
    "    training_set_size, train_scores, test_scores = learning_curve(\n",
    "        est, X, y, train_sizes=np.linspace(.1, 1, 20), cv=KFold(20, shuffle=True, random_state=1))\n",
    "    estimator_name = est.__class__.__name__\n",
    "    line = plt.plot(training_set_size, train_scores.mean(axis=1), '--',\n",
    "                    label=\"training \" + estimator_name)\n",
    "    plt.plot(training_set_size, test_scores.mean(axis=1), '-',\n",
    "             label=\"test \" + estimator_name, c=line[0].get_color())\n",
    "plt.xlabel('Training set size')\n",
    "plt.ylabel('Score (R^2)')\n",
    "plt.ylim(0, 1.1)\n",
    "plt.legend(loc=(0, 1.05), ncol=2, fontsize=11)\n",
    "plt.show()\n"
   ]
  },
  {
   "cell_type": "markdown",
   "metadata": {},
   "source": [
    "### Lasso模型"
   ]
  },
  {
   "cell_type": "code",
   "execution_count": 73,
   "metadata": {},
   "outputs": [
    {
     "name": "stdout",
     "output_type": "stream",
     "text": [
      "train_score 0.24474864126203266\n",
      "test_score 0.2549055698049659\n",
      "number_feature_used: 3\n",
      "[-0.          0.         -0.          0.         -0.          0.\n",
      " -0.          0.         -0.         -0.         -0.          0.\n",
      " -5.8727133  -0.          0.         -0.          0.         -0.\n",
      " -0.         -0.         -0.         -0.         -0.         -0.\n",
      " -0.         -0.          0.          0.          0.          0.\n",
      "  0.          0.          0.          0.          0.          0.\n",
      "  0.          0.         -0.          0.         -0.         -0.\n",
      " -0.         -0.         -0.         -0.         -0.         -0.\n",
      " -0.          0.          0.          0.          0.          0.\n",
      "  0.          0.          0.          0.          0.         -0.\n",
      " -0.         -0.         -0.         -0.         -0.         -0.\n",
      " -0.         -0.          0.          0.          0.         -0.\n",
      " -0.         -0.          0.         -0.         -0.          0.\n",
      " -0.         -0.         -1.89567793 -0.         -0.          0.\n",
      " -0.         -0.         -0.          0.         -0.         -1.14163229\n",
      " -0.         -0.         -0.         -0.         -0.         -0.\n",
      " -0.         -0.         -0.         -0.         -0.          0.\n",
      " -0.         -0.        ]\n"
     ]
    }
   ],
   "source": [
    "from sklearn.linear_model import Lasso\n",
    "la_model = Lasso()\n",
    "la_model.fit(train_X, train_y)\n",
    "train_score = la_model.score(train_X, train_y)\n",
    "test_score = la_model.score(test_X, test_y)\n",
    "print('train_score', train_score)\n",
    "print('test_score', test_score)\n",
    "print('number_feature_used:',sum(la_model.coef_!=0))"
   ]
  },
  {
   "cell_type": "code",
   "execution_count": 84,
   "metadata": {},
   "outputs": [
    {
     "name": "stderr",
     "output_type": "stream",
     "text": [
      "C:\\Users\\xiaoyu\\Envs\\Machine_learning\\lib\\site-packages\\ipykernel_launcher.py:4: UserWarning: With alpha=0, this algorithm does not converge well. You are advised to use the LinearRegression estimator\n",
      "  after removing the cwd from sys.path.\n",
      "C:\\Users\\xiaoyu\\Envs\\Machine_learning\\lib\\site-packages\\sklearn\\linear_model\\coordinate_descent.py:477: UserWarning: Coordinate descent with no regularization may lead to unexpected results and is discouraged.\n",
      "  positive)\n",
      "C:\\Users\\xiaoyu\\Envs\\Machine_learning\\lib\\site-packages\\sklearn\\linear_model\\coordinate_descent.py:491: ConvergenceWarning: Objective did not converge. You might want to increase the number of iterations. Fitting data with very small alpha may cause precision problems.\n",
      "  ConvergenceWarning)\n"
     ]
    },
    {
     "name": "stdout",
     "output_type": "stream",
     "text": [
      "alpha: 0.0\n",
      "train_score 0.9360743268269145\n",
      "test_score 0.8308372819430944\n",
      "number_feature_used: 104\n",
      "\n",
      "alpha: 0.01\n",
      "train_score 0.8734164120186962\n",
      "test_score 0.8431300629830725\n",
      "number_feature_used: 30\n",
      "\n",
      "alpha: 0.02\n",
      "train_score 0.8460307792657754\n",
      "test_score 0.8085800265813134\n",
      "number_feature_used: 22\n",
      "\n",
      "alpha: 0.03\n",
      "train_score 0.8275232544901832\n",
      "test_score 0.7929747598137411\n",
      "number_feature_used: 19\n",
      "\n",
      "alpha: 0.04\n",
      "train_score 0.8120753419620026\n",
      "test_score 0.7725754483150253\n",
      "number_feature_used: 14\n",
      "\n",
      "alpha: 0.05\n",
      "train_score 0.8018265888681005\n",
      "test_score 0.7610398893893386\n",
      "number_feature_used: 12\n",
      "\n",
      "alpha: 0.06\n",
      "train_score 0.7918801721289579\n",
      "test_score 0.7520300953714878\n",
      "number_feature_used: 12\n",
      "\n",
      "alpha: 0.07\n",
      "train_score 0.7810259052049071\n",
      "test_score 0.7425891436539165\n",
      "number_feature_used: 12\n",
      "\n",
      "alpha: 0.08\n",
      "train_score 0.7685021847515596\n",
      "test_score 0.7311318960942947\n",
      "number_feature_used: 12\n",
      "\n",
      "alpha: 0.09\n",
      "train_score 0.7550513217504156\n",
      "test_score 0.7185792918361453\n",
      "number_feature_used: 10\n",
      "\n"
     ]
    }
   ],
   "source": [
    "from sklearn.linear_model import Lasso\n",
    "for alpha in range(0,100,10):\n",
    "    la_model = Lasso(alpha=alpha/1000, max_iter=100000)\n",
    "    la_model.fit(train_X, train_y)\n",
    "    train_score = la_model.score(train_X, train_y)\n",
    "    test_score = la_model.score(test_X, test_y)\n",
    "    print('alpha:', alpha/1000)\n",
    "    print('train_score', train_score)\n",
    "    print('test_score', test_score)\n",
    "    print('number_feature_used:',sum(la_model.coef_!=0))\n",
    "    print('')"
   ]
  },
  {
   "cell_type": "markdown",
   "metadata": {},
   "source": [
    "### Rigbe和Lasso结合相结合的ElasticNet模型"
   ]
  },
  {
   "cell_type": "code",
   "execution_count": 90,
   "metadata": {},
   "outputs": [
    {
     "name": "stdout",
     "output_type": "stream",
     "text": [
      "train_score 0.292388553575083\n",
      "test_score 0.2832724603909986\n"
     ]
    }
   ],
   "source": [
    "from sklearn.linear_model import ElasticNet\n",
    "en_model = ElasticNet()\n",
    "en_model.fit(train_X, train_y)\n",
    "train_score = en_model.score(train_X, train_y)\n",
    "test_score = en_model.score(test_X, test_y)\n",
    "print('train_score', train_score)\n",
    "print('test_score', test_score)"
   ]
  },
  {
   "cell_type": "code",
   "execution_count": 97,
   "metadata": {},
   "outputs": [
    {
     "name": "stderr",
     "output_type": "stream",
     "text": [
      "C:\\Users\\xiaoyu\\Envs\\Machine_learning\\lib\\site-packages\\ipykernel_launcher.py:4: UserWarning: With alpha=0, this algorithm does not converge well. You are advised to use the LinearRegression estimator\n",
      "  after removing the cwd from sys.path.\n",
      "C:\\Users\\xiaoyu\\Envs\\Machine_learning\\lib\\site-packages\\sklearn\\linear_model\\coordinate_descent.py:477: UserWarning: Coordinate descent with no regularization may lead to unexpected results and is discouraged.\n",
      "  positive)\n",
      "C:\\Users\\xiaoyu\\Envs\\Machine_learning\\lib\\site-packages\\sklearn\\linear_model\\coordinate_descent.py:491: ConvergenceWarning: Objective did not converge. You might want to increase the number of iterations. Fitting data with very small alpha may cause precision problems.\n",
      "  ConvergenceWarning)\n",
      "C:\\Users\\xiaoyu\\Envs\\Machine_learning\\lib\\site-packages\\sklearn\\linear_model\\coordinate_descent.py:491: ConvergenceWarning: Objective did not converge. You might want to increase the number of iterations. Fitting data with very small alpha may cause precision problems.\n",
      "  ConvergenceWarning)\n"
     ]
    },
    {
     "name": "stdout",
     "output_type": "stream",
     "text": [
      "L2=0.0, L1=0.0\n",
      "train_score 0.9303958189295158\n",
      "test_score 0.8118735657756537\n",
      "\n",
      "L2=0.01, L1=0.01\n",
      "train_score 0.8061191394196922\n",
      "test_score 0.7953593898224167\n",
      "\n",
      "L2=0.02, L1=0.02\n",
      "train_score 0.7723705221480361\n",
      "test_score 0.7662565346671512\n",
      "\n",
      "L2=0.03, L1=0.03\n",
      "train_score 0.7503420386478934\n",
      "test_score 0.7472263132911291\n",
      "\n",
      "L2=0.04, L1=0.04\n",
      "train_score 0.7331177871588019\n",
      "test_score 0.7317835885553724\n",
      "\n",
      "L2=0.05, L1=0.05\n",
      "train_score 0.7184935091500719\n",
      "test_score 0.7182086780829311\n",
      "\n",
      "L2=0.06, L1=0.06\n",
      "train_score 0.7056821480138988\n",
      "test_score 0.7058204051286872\n",
      "\n",
      "L2=0.07, L1=0.07\n",
      "train_score 0.6939947697805774\n",
      "test_score 0.6942258136142929\n",
      "\n",
      "L2=0.08, L1=0.08\n",
      "train_score 0.6832700210827518\n",
      "test_score 0.6833327108188265\n",
      "\n",
      "L2=0.09, L1=0.09\n",
      "train_score 0.6732384927854741\n",
      "test_score 0.6729201757566123\n",
      "\n"
     ]
    }
   ],
   "source": [
    "from sklearn.linear_model import ElasticNet\n",
    "for alpha, l1_ratio in zip(range(0,100,10),range(0,100,10)):\n",
    "    en_model = ElasticNet(alpha=alpha/1000, l1_ratio=l1_ratio/1000)\n",
    "    en_model.fit(train_X, train_y)\n",
    "    train_score = en_model.score(train_X, train_y)\n",
    "    test_score = en_model.score(test_X, test_y)\n",
    "    print('L2=%s, L1=%s' % (alpha/1000, l1_ratio/1000))\n",
    "    print('train_score', train_score)\n",
    "    print('test_score', test_score)\n",
    "    print('')\n"
   ]
  }
 ],
 "metadata": {
  "kernelspec": {
   "display_name": "Machine_learning",
   "language": "python",
   "name": "machine_learning"
  },
  "language_info": {
   "codemirror_mode": {
    "name": "ipython",
    "version": 3
   },
   "file_extension": ".py",
   "mimetype": "text/x-python",
   "name": "python",
   "nbconvert_exporter": "python",
   "pygments_lexer": "ipython3",
   "version": "3.6.5"
  }
 },
 "nbformat": 4,
 "nbformat_minor": 2
}
